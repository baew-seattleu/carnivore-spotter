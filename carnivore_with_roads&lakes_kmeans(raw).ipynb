{
 "cells": [
  {
   "cell_type": "code",
   "execution_count": 1,
   "id": "growing-spider",
   "metadata": {},
   "outputs": [],
   "source": [
    "import time\n",
    "\n",
    "import numpy as np\n",
    "import pylab as pl\n",
    "\n",
    "from sklearn.cluster import MiniBatchKMeans, KMeans\n",
    "from sklearn.metrics.pairwise import euclidean_distances\n",
    "\n",
    "import math\n",
    "from sklearn.preprocessing import normalize\n",
    "from sklearn.decomposition import PCA\n",
    "\n",
    "import numpy as np\n",
    "import pandas as pd\n",
    "import matplotlib.pyplot as plt\n",
    "from sklearn.preprocessing import StandardScaler\n",
    "from sklearn.metrics.cluster import adjusted_rand_score\n",
    "\n",
    "from scipy.spatial import ConvexHull,convex_hull_plot_2d"
   ]
  },
  {
   "cell_type": "code",
   "execution_count": 2,
   "id": "attended-keeping",
   "metadata": {},
   "outputs": [],
   "source": [
    "#local path where the data locates, change it to your local path\n",
    "record= pd.read_csv(\"Desktop/Carnivore_Research/CS_21Jan27.csv\")"
   ]
  },
  {
   "cell_type": "code",
   "execution_count": 3,
   "id": "listed-narrative",
   "metadata": {},
   "outputs": [],
   "source": [
    "col=['Time_Seen','Species','Latitude','Longitude','Media']"
   ]
  },
  {
   "cell_type": "code",
   "execution_count": 4,
   "id": "shaped-copper",
   "metadata": {},
   "outputs": [],
   "source": [
    "record.columns = col\n",
    "record['Time_Seen'] = pd.to_datetime(record.Time_Seen,utc=True).copy()\n",
    "record['Month'] = record.Time_Seen.dt.month\n",
    "record['Hour'] = record.Time_Seen.dt.hour\n",
    "record['Year'] = record.Time_Seen.dt.year"
   ]
  },
  {
   "cell_type": "code",
   "execution_count": 5,
   "id": "spatial-survival",
   "metadata": {},
   "outputs": [],
   "source": [
    "#king county boundaries\n",
    "maxLat = 47.7763\n",
    "minLat = 47.1878\n",
    "maxLon = -121.0941\n",
    "minLon = -122.5346"
   ]
  },
  {
   "cell_type": "code",
   "execution_count": 6,
   "id": "effective-compiler",
   "metadata": {},
   "outputs": [
    {
     "data": {
      "text/html": [
       "<div>\n",
       "<style scoped>\n",
       "    .dataframe tbody tr th:only-of-type {\n",
       "        vertical-align: middle;\n",
       "    }\n",
       "\n",
       "    .dataframe tbody tr th {\n",
       "        vertical-align: top;\n",
       "    }\n",
       "\n",
       "    .dataframe thead th {\n",
       "        text-align: right;\n",
       "    }\n",
       "</style>\n",
       "<table border=\"1\" class=\"dataframe\">\n",
       "  <thead>\n",
       "    <tr style=\"text-align: right;\">\n",
       "      <th></th>\n",
       "      <th>Time_Seen</th>\n",
       "      <th>Species</th>\n",
       "      <th>Latitude</th>\n",
       "      <th>Longitude</th>\n",
       "      <th>Media</th>\n",
       "      <th>Month</th>\n",
       "      <th>Hour</th>\n",
       "      <th>Year</th>\n",
       "    </tr>\n",
       "  </thead>\n",
       "  <tbody>\n",
       "    <tr>\n",
       "      <th>0</th>\n",
       "      <td>2019-09-18 14:00:00.532000+00:00</td>\n",
       "      <td>Coyote</td>\n",
       "      <td>47.815188</td>\n",
       "      <td>-122.088653</td>\n",
       "      <td>[]</td>\n",
       "      <td>9</td>\n",
       "      <td>14</td>\n",
       "      <td>2019</td>\n",
       "    </tr>\n",
       "    <tr>\n",
       "      <th>1</th>\n",
       "      <td>2019-08-06 13:15:00+00:00</td>\n",
       "      <td>Coyote</td>\n",
       "      <td>47.683153</td>\n",
       "      <td>-122.127485</td>\n",
       "      <td>[]</td>\n",
       "      <td>8</td>\n",
       "      <td>13</td>\n",
       "      <td>2019</td>\n",
       "    </tr>\n",
       "    <tr>\n",
       "      <th>2</th>\n",
       "      <td>2019-09-09 13:30:00+00:00</td>\n",
       "      <td>Cougar/Mountain Lion</td>\n",
       "      <td>47.603330</td>\n",
       "      <td>-122.210544</td>\n",
       "      <td>[]</td>\n",
       "      <td>9</td>\n",
       "      <td>13</td>\n",
       "      <td>2019</td>\n",
       "    </tr>\n",
       "    <tr>\n",
       "      <th>3</th>\n",
       "      <td>2019-08-01 16:45:00+00:00</td>\n",
       "      <td>Coyote</td>\n",
       "      <td>47.676127</td>\n",
       "      <td>-122.328966</td>\n",
       "      <td>[]</td>\n",
       "      <td>8</td>\n",
       "      <td>16</td>\n",
       "      <td>2019</td>\n",
       "    </tr>\n",
       "    <tr>\n",
       "      <th>4</th>\n",
       "      <td>2019-12-18 22:00:00+00:00</td>\n",
       "      <td>Coyote</td>\n",
       "      <td>47.647155</td>\n",
       "      <td>-122.078566</td>\n",
       "      <td>[]</td>\n",
       "      <td>12</td>\n",
       "      <td>22</td>\n",
       "      <td>2019</td>\n",
       "    </tr>\n",
       "  </tbody>\n",
       "</table>\n",
       "</div>"
      ],
      "text/plain": [
       "                         Time_Seen               Species   Latitude  \\\n",
       "0 2019-09-18 14:00:00.532000+00:00                Coyote  47.815188   \n",
       "1        2019-08-06 13:15:00+00:00                Coyote  47.683153   \n",
       "2        2019-09-09 13:30:00+00:00  Cougar/Mountain Lion  47.603330   \n",
       "3        2019-08-01 16:45:00+00:00                Coyote  47.676127   \n",
       "4        2019-12-18 22:00:00+00:00                Coyote  47.647155   \n",
       "\n",
       "    Longitude Media  Month  Hour  Year  \n",
       "0 -122.088653    []      9    14  2019  \n",
       "1 -122.127485    []      8    13  2019  \n",
       "2 -122.210544    []      9    13  2019  \n",
       "3 -122.328966    []      8    16  2019  \n",
       "4 -122.078566    []     12    22  2019  "
      ]
     },
     "execution_count": 6,
     "metadata": {},
     "output_type": "execute_result"
    }
   ],
   "source": [
    "rec19 = record[record.Year == 2019]\n",
    "rec19.head()"
   ]
  },
  {
   "cell_type": "code",
   "execution_count": 7,
   "id": "binary-above",
   "metadata": {},
   "outputs": [],
   "source": [
    "rec19_coyo = rec19[rec19.Species == 'Coyote']"
   ]
  },
  {
   "cell_type": "code",
   "execution_count": 8,
   "id": "personal-shooting",
   "metadata": {},
   "outputs": [],
   "source": [
    "rec19_coyo = rec19_coyo.drop(['Time_Seen','Species','Month','Hour','Year','Media'],axis=1)"
   ]
  },
  {
   "cell_type": "code",
   "execution_count": 9,
   "id": "juvenile-benchmark",
   "metadata": {},
   "outputs": [],
   "source": [
    "rec19_king = rec19_coyo[(rec19_coyo['Latitude']>minLat)&(rec19_coyo['Latitude']<maxLat)&(rec19_coyo['Longitude']>minLon)&(rec19_coyo['Longitude']<maxLon)]"
   ]
  },
  {
   "cell_type": "code",
   "execution_count": 10,
   "id": "seven-welsh",
   "metadata": {},
   "outputs": [],
   "source": [
    "#used for plotting the polygons to the graph\n",
    "greenLakeCoord = ([47.671747,-122.342462],[47.675943,-122.346329],[47.681261,-122.343798],\n",
    "                                   [47.685198,-122.337713],[47.681924,-122.3289354],[47.679475,-122.329283],\n",
    "                                   [47.672332,-122.338008],[47.671747,-122.342462])"
   ]
  },
  {
   "cell_type": "code",
   "execution_count": 11,
   "id": "covered-midnight",
   "metadata": {},
   "outputs": [],
   "source": [
    "I5Part1X = ([47.69243], [47.653678])\n",
    "I5Part1Y = ([-122.3293304],[-122.322867])"
   ]
  },
  {
   "cell_type": "code",
   "execution_count": 12,
   "id": "chief-clark",
   "metadata": {},
   "outputs": [],
   "source": [
    "x_c = []\n",
    "y_c = []\n",
    "for i in greenLakeCoord:\n",
    "    x = i[0]\n",
    "    y = i[1]\n",
    "    x_c.append(x)\n",
    "    y_c.append(y)\n"
   ]
  },
  {
   "cell_type": "code",
   "execution_count": 13,
   "id": "removed-spirit",
   "metadata": {},
   "outputs": [
    {
     "data": {
      "text/plain": [
       "KMeans(algorithm='auto', copy_x=True, init='k-means++', max_iter=300,\n",
       "       n_clusters=5, n_init=10, n_jobs=None, precompute_distances='auto',\n",
       "       random_state=None, tol=0.0001, verbose=0)"
      ]
     },
     "execution_count": 13,
     "metadata": {},
     "output_type": "execute_result"
    }
   ],
   "source": [
    "coyo19_kmeans5 = KMeans(n_clusters=5)\n",
    "coyo19_kmeans5.fit(rec19_king)"
   ]
  },
  {
   "cell_type": "code",
   "execution_count": 14,
   "id": "needed-saturn",
   "metadata": {},
   "outputs": [
    {
     "data": {
      "text/plain": [
       "<matplotlib.collections.PathCollection at 0x7ffd2512b190>"
      ]
     },
     "execution_count": 14,
     "metadata": {},
     "output_type": "execute_result"
    },
    {
     "data": {
      "image/png": "[encoded data removed]",
      "text/plain": [
       "<Figure size 432x288 with 1 Axes>"
      ]
     },
     "metadata": {
      "needs_background": "light"
     },
     "output_type": "display_data"
    }
   ],
   "source": [
    "plt.xlim()\n",
    "plt.plot(x_c,y_c, linewidth = 10)\n",
    "plt.plot(I5Part1X, I5Part1Y,linewidth = 5)\n",
    "plt.scatter(rec19_king.iloc[:,0], rec19_king.iloc[:,1], c=coyo19_kmeans5.labels_, cmap='rainbow',marker='.')\n",
    "#cluster centroids\n",
    "plt.scatter(coyo19_kmeans5.cluster_centers_[:,0] ,coyo19_kmeans5.cluster_centers_[:,1], color='black',marker=\"x\")"
   ]
  },
  {
   "cell_type": "code",
   "execution_count": 15,
   "id": "completed-jewelry",
   "metadata": {},
   "outputs": [],
   "source": [
    "coyo19_kmeans3 = KMeans(n_clusters=3)\n",
    "coyo19_kmeans3.fit(rec19_king)\n",
    "clus3 = rec19_king.copy()\n",
    "clus3 = pd.DataFrame(clus3)\n",
    "clus3['labels'] = coyo19_kmeans3.labels_"
   ]
  },
  {
   "cell_type": "code",
   "execution_count": 16,
   "id": "amateur-george",
   "metadata": {},
   "outputs": [],
   "source": [
    "#clus3.to_csv('coyo19KmeansC3_lat_long.csv')"
   ]
  },
  {
   "cell_type": "code",
   "execution_count": 17,
   "id": "social-filename",
   "metadata": {},
   "outputs": [],
   "source": [
    "coyo19_kmeans5 = KMeans(n_clusters=5)\n",
    "coyo19_kmeans5.fit(rec19_king)\n",
    "clus5 = rec19_king.copy()\n",
    "clus5 = pd.DataFrame(clus5)\n",
    "clus5['labels'] = coyo19_kmeans5.labels_"
   ]
  },
  {
   "cell_type": "code",
   "execution_count": 18,
   "id": "sticky-position",
   "metadata": {},
   "outputs": [],
   "source": [
    "#clus5.to_csv('coyo19KmeansC5_lat_long.csv')"
   ]
  },
  {
   "cell_type": "code",
   "execution_count": 19,
   "id": "spatial-maryland",
   "metadata": {},
   "outputs": [],
   "source": [
    "coyo19_kmeans12 = KMeans(n_clusters=12)\n",
    "coyo19_kmeans12.fit(rec19_king)\n",
    "clus12 = rec19_king.copy()\n",
    "clus12 = pd.DataFrame(clus12)\n",
    "clus12['labels'] = coyo19_kmeans12.labels_"
   ]
  },
  {
   "cell_type": "code",
   "execution_count": 20,
   "id": "stupid-damage",
   "metadata": {},
   "outputs": [],
   "source": [
    "clus12.to_csv('coyo19KmeansC12_lat_long.csv')"
   ]
  },
  {
   "cell_type": "code",
   "execution_count": null,
   "id": "humanitarian-driver",
   "metadata": {},
   "outputs": [],
   "source": []
  },
  {
   "cell_type": "code",
   "execution_count": null,
   "id": "desirable-motor",
   "metadata": {},
   "outputs": [],
   "source": []
  },
  {
   "cell_type": "code",
   "execution_count": null,
   "id": "dirty-conviction",
   "metadata": {},
   "outputs": [],
   "source": []
  },
  {
   "cell_type": "code",
   "execution_count": null,
   "id": "marked-reverse",
   "metadata": {},
   "outputs": [],
   "source": []
  }
 ],
 "metadata": {
  "kernelspec": {
   "display_name": "Python 3",
   "language": "python",
   "name": "python3"
  },
  "language_info": {
   "codemirror_mode": {
    "name": "ipython",
    "version": 3
   },
   "file_extension": ".py",
   "mimetype": "text/x-python",
   "name": "python",
   "nbconvert_exporter": "python",
   "pygments_lexer": "ipython3",
   "version": "3.8.5"
  }
 },
 "nbformat": 4,
 "nbformat_minor": 5
}
