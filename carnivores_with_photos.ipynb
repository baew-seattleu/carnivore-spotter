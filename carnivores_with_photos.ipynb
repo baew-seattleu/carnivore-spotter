{
 "cells": [
  {
   "cell_type": "code",
   "execution_count": 1,
   "metadata": {},
   "outputs": [],
   "source": [
    "import pandas as pd\n",
    "import matplotlib.pyplot as plt\n",
    "import numpy as np"
   ]
  },
  {
   "cell_type": "code",
   "execution_count": 2,
   "metadata": {},
   "outputs": [],
   "source": [
    "#local path where the data locates, change it to your local path\n",
    "record= pd.read_csv(\"Desktop/Carnivore_Reseach/2020Nov10_CarnivoreSpotter.csv\")"
   ]
  },
  {
   "cell_type": "code",
   "execution_count": 3,
   "metadata": {},
   "outputs": [],
   "source": [
    "col=['Time_Seen','Species','Latitude','Longitude','Media']"
   ]
  },
  {
   "cell_type": "code",
   "execution_count": 4,
   "metadata": {},
   "outputs": [],
   "source": [
    "record.columns = col\n",
    "record['Time_Seen'] = pd.to_datetime(record.Time_Seen,utc=True).copy()\n",
    "record['Month'] = record.Time_Seen.dt.month\n",
    "record['Hour'] = record.Time_Seen.dt.hour\n",
    "record['Year'] = record.Time_Seen.dt.year"
   ]
  },
  {
   "cell_type": "code",
   "execution_count": 5,
   "metadata": {},
   "outputs": [
    {
     "data": {
      "text/plain": [
       "\"['https://firebasestorage.googleapis.com/v0/b/seattlecarnivores-edca2.appspot.com/o/images%2Fad7dc2da-0092-4da3-bbec-5917861a6c69.jpeg?alt=media&token=b61fab13-cb62-4fe4-9db1-c3090e502912']\""
      ]
     },
     "execution_count": 5,
     "metadata": {},
     "output_type": "execute_result"
    }
   ],
   "source": [
    "record.iloc[20].Media"
   ]
  },
  {
   "cell_type": "code",
   "execution_count": 6,
   "metadata": {},
   "outputs": [],
   "source": [
    "rec_photo = record[record['Media'].str.len()>3] #the rows contain url"
   ]
  },
  {
   "cell_type": "code",
   "execution_count": 7,
   "metadata": {},
   "outputs": [
    {
     "data": {
      "text/html": [
       "<div>\n",
       "<style scoped>\n",
       "    .dataframe tbody tr th:only-of-type {\n",
       "        vertical-align: middle;\n",
       "    }\n",
       "\n",
       "    .dataframe tbody tr th {\n",
       "        vertical-align: top;\n",
       "    }\n",
       "\n",
       "    .dataframe thead th {\n",
       "        text-align: right;\n",
       "    }\n",
       "</style>\n",
       "<table border=\"1\" class=\"dataframe\">\n",
       "  <thead>\n",
       "    <tr style=\"text-align: right;\">\n",
       "      <th></th>\n",
       "      <th>Time_Seen</th>\n",
       "      <th>Species</th>\n",
       "      <th>Latitude</th>\n",
       "      <th>Longitude</th>\n",
       "      <th>Media</th>\n",
       "      <th>Month</th>\n",
       "      <th>Hour</th>\n",
       "      <th>Year</th>\n",
       "    </tr>\n",
       "  </thead>\n",
       "  <tbody>\n",
       "    <tr>\n",
       "      <th>20</th>\n",
       "      <td>2020-09-04 13:45:00+00:00</td>\n",
       "      <td>Coyote</td>\n",
       "      <td>47.790061</td>\n",
       "      <td>-122.149370</td>\n",
       "      <td>['https://firebasestorage.googleapis.com/v0/b/...</td>\n",
       "      <td>9</td>\n",
       "      <td>13</td>\n",
       "      <td>2020</td>\n",
       "    </tr>\n",
       "    <tr>\n",
       "      <th>29</th>\n",
       "      <td>2020-08-19 04:15:00+00:00</td>\n",
       "      <td>Raccoon</td>\n",
       "      <td>47.839676</td>\n",
       "      <td>-122.334217</td>\n",
       "      <td>['https://firebasestorage.googleapis.com/v0/b/...</td>\n",
       "      <td>8</td>\n",
       "      <td>4</td>\n",
       "      <td>2020</td>\n",
       "    </tr>\n",
       "    <tr>\n",
       "      <th>31</th>\n",
       "      <td>2019-05-29 01:00:00+00:00</td>\n",
       "      <td>Black Bear</td>\n",
       "      <td>47.635703</td>\n",
       "      <td>-122.034713</td>\n",
       "      <td>['https://firebasestorage.googleapis.com/v0/b/...</td>\n",
       "      <td>5</td>\n",
       "      <td>1</td>\n",
       "      <td>2019</td>\n",
       "    </tr>\n",
       "    <tr>\n",
       "      <th>36</th>\n",
       "      <td>2019-08-14 10:15:00+00:00</td>\n",
       "      <td>Coyote</td>\n",
       "      <td>47.450493</td>\n",
       "      <td>-122.147759</td>\n",
       "      <td>['https://firebasestorage.googleapis.com/v0/b/...</td>\n",
       "      <td>8</td>\n",
       "      <td>10</td>\n",
       "      <td>2019</td>\n",
       "    </tr>\n",
       "    <tr>\n",
       "      <th>46</th>\n",
       "      <td>2019-09-20 18:45:00.514000+00:00</td>\n",
       "      <td>Coyote</td>\n",
       "      <td>47.685904</td>\n",
       "      <td>-122.305352</td>\n",
       "      <td>['https://firebasestorage.googleapis.com/v0/b/...</td>\n",
       "      <td>9</td>\n",
       "      <td>18</td>\n",
       "      <td>2019</td>\n",
       "    </tr>\n",
       "  </tbody>\n",
       "</table>\n",
       "</div>"
      ],
      "text/plain": [
       "                          Time_Seen     Species   Latitude   Longitude  \\\n",
       "20        2020-09-04 13:45:00+00:00      Coyote  47.790061 -122.149370   \n",
       "29        2020-08-19 04:15:00+00:00     Raccoon  47.839676 -122.334217   \n",
       "31        2019-05-29 01:00:00+00:00  Black Bear  47.635703 -122.034713   \n",
       "36        2019-08-14 10:15:00+00:00      Coyote  47.450493 -122.147759   \n",
       "46 2019-09-20 18:45:00.514000+00:00      Coyote  47.685904 -122.305352   \n",
       "\n",
       "                                                Media  Month  Hour  Year  \n",
       "20  ['https://firebasestorage.googleapis.com/v0/b/...      9    13  2020  \n",
       "29  ['https://firebasestorage.googleapis.com/v0/b/...      8     4  2020  \n",
       "31  ['https://firebasestorage.googleapis.com/v0/b/...      5     1  2019  \n",
       "36  ['https://firebasestorage.googleapis.com/v0/b/...      8    10  2019  \n",
       "46  ['https://firebasestorage.googleapis.com/v0/b/...      9    18  2019  "
      ]
     },
     "execution_count": 7,
     "metadata": {},
     "output_type": "execute_result"
    }
   ],
   "source": [
    "rec_photo.head()"
   ]
  },
  {
   "cell_type": "code",
   "execution_count": 8,
   "metadata": {
    "scrolled": true
   },
   "outputs": [
    {
     "data": {
      "text/plain": [
       "Time_Seen    976\n",
       "Species      976\n",
       "Latitude     976\n",
       "Longitude    976\n",
       "Media        976\n",
       "Month        976\n",
       "Hour         976\n",
       "Year         976\n",
       "dtype: int64"
      ]
     },
     "execution_count": 8,
     "metadata": {},
     "output_type": "execute_result"
    }
   ],
   "source": [
    "rec_photo.count()"
   ]
  },
  {
   "cell_type": "code",
   "execution_count": 13,
   "metadata": {},
   "outputs": [
    {
     "data": {
      "text/plain": [
       "Time_Seen    9\n",
       "Species      9\n",
       "Latitude     9\n",
       "Longitude    9\n",
       "Media        9\n",
       "Month        9\n",
       "Hour         9\n",
       "Year         9\n",
       "dtype: int64"
      ]
     },
     "execution_count": 13,
     "metadata": {},
     "output_type": "execute_result"
    }
   ],
   "source": [
    "rec_photo[rec_photo.Year == 2017].count()"
   ]
  },
  {
   "cell_type": "code",
   "execution_count": 14,
   "metadata": {},
   "outputs": [
    {
     "data": {
      "text/plain": [
       "Time_Seen    58\n",
       "Species      58\n",
       "Latitude     58\n",
       "Longitude    58\n",
       "Media        58\n",
       "Month        58\n",
       "Hour         58\n",
       "Year         58\n",
       "dtype: int64"
      ]
     },
     "execution_count": 14,
     "metadata": {},
     "output_type": "execute_result"
    }
   ],
   "source": [
    "rec_photo[rec_photo.Year == 2018].count()"
   ]
  },
  {
   "cell_type": "code",
   "execution_count": 11,
   "metadata": {},
   "outputs": [
    {
     "data": {
      "text/plain": [
       "Time_Seen    546\n",
       "Species      546\n",
       "Latitude     546\n",
       "Longitude    546\n",
       "Media        546\n",
       "Month        546\n",
       "Hour         546\n",
       "Year         546\n",
       "dtype: int64"
      ]
     },
     "execution_count": 11,
     "metadata": {},
     "output_type": "execute_result"
    }
   ],
   "source": [
    "rec_photo[rec_photo.Year == 2019].count()"
   ]
  },
  {
   "cell_type": "code",
   "execution_count": 12,
   "metadata": {},
   "outputs": [
    {
     "data": {
      "text/plain": [
       "Time_Seen    360\n",
       "Species      360\n",
       "Latitude     360\n",
       "Longitude    360\n",
       "Media        360\n",
       "Month        360\n",
       "Hour         360\n",
       "Year         360\n",
       "dtype: int64"
      ]
     },
     "execution_count": 12,
     "metadata": {},
     "output_type": "execute_result"
    }
   ],
   "source": [
    "rec_photo[rec_photo.Year == 2020].count()"
   ]
  },
  {
   "cell_type": "code",
   "execution_count": null,
   "metadata": {},
   "outputs": [],
   "source": []
  },
  {
   "cell_type": "code",
   "execution_count": null,
   "metadata": {},
   "outputs": [],
   "source": []
  },
  {
   "cell_type": "code",
   "execution_count": null,
   "metadata": {},
   "outputs": [],
   "source": []
  },
  {
   "cell_type": "code",
   "execution_count": null,
   "metadata": {},
   "outputs": [],
   "source": []
  },
  {
   "cell_type": "code",
   "execution_count": null,
   "metadata": {},
   "outputs": [],
   "source": []
  },
  {
   "cell_type": "code",
   "execution_count": null,
   "metadata": {},
   "outputs": [],
   "source": []
  },
  {
   "cell_type": "code",
   "execution_count": null,
   "metadata": {},
   "outputs": [],
   "source": []
  },
  {
   "cell_type": "code",
   "execution_count": null,
   "metadata": {},
   "outputs": [],
   "source": []
  },
  {
   "cell_type": "code",
   "execution_count": null,
   "metadata": {},
   "outputs": [],
   "source": []
  },
  {
   "cell_type": "code",
   "execution_count": null,
   "metadata": {},
   "outputs": [],
   "source": []
  },
  {
   "cell_type": "code",
   "execution_count": null,
   "metadata": {},
   "outputs": [],
   "source": []
  },
  {
   "cell_type": "code",
   "execution_count": null,
   "metadata": {},
   "outputs": [],
   "source": []
  },
  {
   "cell_type": "code",
   "execution_count": null,
   "metadata": {},
   "outputs": [],
   "source": []
  },
  {
   "cell_type": "code",
   "execution_count": null,
   "metadata": {},
   "outputs": [],
   "source": []
  },
  {
   "cell_type": "code",
   "execution_count": null,
   "metadata": {},
   "outputs": [],
   "source": []
  },
  {
   "cell_type": "code",
   "execution_count": null,
   "metadata": {},
   "outputs": [],
   "source": []
  },
  {
   "cell_type": "code",
   "execution_count": null,
   "metadata": {},
   "outputs": [],
   "source": []
  },
  {
   "cell_type": "code",
   "execution_count": null,
   "metadata": {},
   "outputs": [],
   "source": []
  }
 ],
 "metadata": {
  "kernelspec": {
   "display_name": "Python 3",
   "language": "python",
   "name": "python3"
  },
  "language_info": {
   "codemirror_mode": {
    "name": "ipython",
    "version": 3
   },
   "file_extension": ".py",
   "mimetype": "text/x-python",
   "name": "python",
   "nbconvert_exporter": "python",
   "pygments_lexer": "ipython3",
   "version": "3.8.5"
  }
 },
 "nbformat": 4,
 "nbformat_minor": 4
}
