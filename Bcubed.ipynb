{
 "cells": [
  {
   "cell_type": "code",
   "execution_count": 1,
   "id": "unlike-tourism",
   "metadata": {},
   "outputs": [],
   "source": [
    "# Simple extended BCubed implementation in Python for clustering evaluation\n",
    "# Copyright 2015 Hugo Hromic\n",
    "#\n",
    "# Licensed under the Apache License, Version 2.0 (the \"License\");\n",
    "# you may not use this file except in compliance with the License.\n",
    "# You may obtain a copy of the License at\n",
    "#\n",
    "#     http://www.apache.org/licenses/LICENSE-2.0\n",
    "#\n",
    "# Unless required by applicable law or agreed to in writing, software\n",
    "# distributed under the License is distributed on an \"AS IS\" BASIS,\n",
    "# WITHOUT WARRANTIES OR CONDITIONS OF ANY KIND, either express or implied.\n",
    "# See the License for the specific language governing permissions and\n",
    "# limitations under the License.\n",
    "#\n",
    "# Extended BCubed algorithm taken from:\n",
    "# Amigo, Enrique, et al. \"A comparison of extrinsic clustering evaluation metrics\n",
    "# based on formal constraints.\" Information retrieval 12.4 (2009): 461-486."
   ]
  },
  {
   "cell_type": "code",
   "execution_count": 2,
   "id": "vulnerable-differential",
   "metadata": {},
   "outputs": [],
   "source": [
    "import time\n",
    "\n",
    "import numpy as np\n",
    "import pylab as pl\n",
    "from matplotlib.pyplot import figure\n",
    "\n",
    "\n",
    "from sklearn.cluster import MiniBatchKMeans, KMeans\n",
    "from sklearn.metrics.pairwise import euclidean_distances\n",
    "\n",
    "import math\n",
    "from sklearn.preprocessing import normalize\n",
    "from sklearn.decomposition import PCA\n",
    "\n",
    "import pandas as pd\n",
    "import matplotlib.pyplot as plt\n",
    "from sklearn.preprocessing import StandardScaler\n",
    "from sklearn.metrics.cluster import adjusted_rand_score\n",
    "\n",
    "\n",
    "import scipy.cluster.hierarchy as shc\n",
    "from sklearn.cluster import AgglomerativeClustering\n",
    "\n",
    "\n",
    "from scipy.spatial import ConvexHull,convex_hull_plot_2d\n",
    "from sklearn.metrics import silhouette_samples, silhouette_score"
   ]
  },
  {
   "cell_type": "code",
   "execution_count": 3,
   "id": "brown-savannah",
   "metadata": {},
   "outputs": [
    {
     "name": "stderr",
     "output_type": "stream",
     "text": [
      "/Users/yinyingliang/opt/anaconda3/envs/geo_env2/lib/python3.8/site-packages/geopandas/_compat.py:84: UserWarning: The Shapely GEOS version (3.8.0-CAPI-1.13.1 ) is incompatible with the GEOS version PyGEOS was compiled with (3.9.0-CAPI-1.14.1). Conversions between both will be slow.\n",
      "  warnings.warn(\n"
     ]
    }
   ],
   "source": [
    "from shapely.geometry import Point\n",
    "from shapely.geometry.polygon import Polygon\n",
    "import geopandas as gpd\n"
   ]
  },
  {
   "cell_type": "code",
   "execution_count": 4,
   "id": "described-point",
   "metadata": {},
   "outputs": [],
   "source": [
    "record= pd.read_csv(\"Desktop/Carnivore_Research/CS_21Jan27.csv\")"
   ]
  },
  {
   "cell_type": "code",
   "execution_count": 5,
   "id": "republican-court",
   "metadata": {},
   "outputs": [],
   "source": [
    "col=['Time_Seen','Species','Latitude','Longitude','Media']"
   ]
  },
  {
   "cell_type": "code",
   "execution_count": 6,
   "id": "optical-fluid",
   "metadata": {},
   "outputs": [],
   "source": [
    "record.columns = col\n",
    "record['Time_Seen'] = pd.to_datetime(record.Time_Seen,utc=True).copy()\n",
    "record['Month'] = record.Time_Seen.dt.month\n",
    "record['Hour'] = record.Time_Seen.dt.hour\n",
    "record['Year'] = record.Time_Seen.dt.year"
   ]
  },
  {
   "cell_type": "code",
   "execution_count": 7,
   "id": "certain-agency",
   "metadata": {},
   "outputs": [],
   "source": [
    "#king county boundaries\n",
    "maxLat = 47.7763\n",
    "minLat = 47.1878\n",
    "maxLon = -121.0941\n",
    "minLon = -122.5346"
   ]
  },
  {
   "cell_type": "code",
   "execution_count": 8,
   "id": "advisory-judge",
   "metadata": {},
   "outputs": [],
   "source": [
    "rec19 = record[record.Year == 2019]"
   ]
  },
  {
   "cell_type": "code",
   "execution_count": 9,
   "id": "affecting-mercury",
   "metadata": {},
   "outputs": [],
   "source": [
    "rec19_coyo = rec19[rec19.Species == 'Coyote']"
   ]
  },
  {
   "cell_type": "code",
   "execution_count": 10,
   "id": "hairy-timothy",
   "metadata": {},
   "outputs": [],
   "source": [
    "rec19_coyo = rec19_coyo.drop(['Time_Seen','Species','Month','Hour','Year','Media'],axis=1)"
   ]
  },
  {
   "cell_type": "code",
   "execution_count": 11,
   "id": "atomic-doctrine",
   "metadata": {},
   "outputs": [],
   "source": [
    "rec19_king = rec19_coyo[(rec19_coyo['Latitude']>minLat)&(rec19_coyo['Latitude']<maxLat)&(rec19_coyo['Longitude']>minLon)&(rec19_coyo['Longitude']<maxLon)]"
   ]
  },
  {
   "cell_type": "code",
   "execution_count": 12,
   "id": "interior-serum",
   "metadata": {},
   "outputs": [],
   "source": [
    "rec19_king_numpy = rec19_king.to_numpy()"
   ]
  },
  {
   "cell_type": "code",
   "execution_count": 13,
   "id": "liable-sellers",
   "metadata": {},
   "outputs": [],
   "source": [
    "north1 = [(47.777306,-122.391939),(47.77445,-122.322277),(47.753421,-122.33223)\n",
    "         ,(47.741782,-122.330018),(47.731175,-122.323849),(47.714885,-122.32664)\n",
    "         ,(47.708027,-122.337208),(47.723558,-122.368096),(47.777306,-122.391939)]\n",
    "\n",
    "north2 = [(47.776936,-122.316294),(47.769153,-122.256715),(47.750237,-122.283654),\n",
    "          (47.725728,-122.283476),(47.716051,-122.317827),\n",
    "          (47.742956,-122.328801),(47.754329,-122.328989),(47.758325,-122.325363)\n",
    "         ,(47.776936,-122.316294)]\n",
    "\n",
    "north3 = [(47.71803,-122.367792),(47.711216,-122.348759),(47.683718,-122.366719)\n",
    "         ,(47.670744,-122.406759),(47.699561,-122.397714),(47.71803,-122.367792)]\n",
    "\n",
    "north4 = [(47.701782,-122.331078),(47.688784,-122.329232),(47.683006,-122.322881)\n",
    "         ,(47.675502,-122.320817),(47.656121,-122.323046),(47.646367,-122.333264)\n",
    "         ,(47.656299,-122.36872),(47.663706,-122.372928),(47.677638,-122.371214),\n",
    "         (47.687869,-122.360551),(47.688389,-122.345874),(47.701782,-122.331078)]\n",
    "\n",
    "north5 = [(47.712197,-122.32832),(47.724295,-122.283731),(47.674963,-122.247682)\n",
    "         ,(47.656755,-122.277294),(47.649412,-122.296477),(47.65317,-122.312184)\n",
    "         ,(47.664603,-122.320874),(47.677662,-122.318795),(47.69062,-122.326734)\n",
    "         ,(47.712197,-122.32832)]\n",
    "#(47.728935,-122.325037)"
   ]
  },
  {
   "cell_type": "code",
   "execution_count": 14,
   "id": "breeding-rebate",
   "metadata": {},
   "outputs": [],
   "source": [
    "polygon_n1= Polygon(north1)\n",
    "polygon_n2= Polygon(north2)\n",
    "polygon_n3= Polygon(north3)\n",
    "polygon_n4= Polygon(north4)\n",
    "polygon_n5= Polygon(north5)"
   ]
  },
  {
   "cell_type": "code",
   "execution_count": 15,
   "id": "verified-fitting",
   "metadata": {},
   "outputs": [
    {
     "data": {
      "text/plain": [
       "Lat      43\n",
       "Long     43\n",
       "Label    43\n",
       "dtype: int64"
      ]
     },
     "execution_count": 15,
     "metadata": {},
     "output_type": "execute_result"
    }
   ],
   "source": [
    "p_in_north1 = []\n",
    "for p in rec19_king_numpy:\n",
    "    point = Point(p[0],p[1])\n",
    "    if (polygon_n1.contains(point)):\n",
    "        p_in_north1.append(p)\n",
    "df_n1 = pd.DataFrame( p_in_north1, columns=['Lat','Long'])\n",
    "df_n1['Label']=\"n1\"\n",
    "df_n1.count()"
   ]
  },
  {
   "cell_type": "code",
   "execution_count": 16,
   "id": "vital-banner",
   "metadata": {},
   "outputs": [
    {
     "data": {
      "text/plain": [
       "Lat      61\n",
       "Long     61\n",
       "Label    61\n",
       "dtype: int64"
      ]
     },
     "execution_count": 16,
     "metadata": {},
     "output_type": "execute_result"
    }
   ],
   "source": [
    "p_in_north2 = []\n",
    "for p in rec19_king_numpy:\n",
    "    point = Point(p[0],p[1])\n",
    "    if (polygon_n2.contains(point)):\n",
    "        p_in_north2.append(p)\n",
    "        \n",
    "df_n2 = pd.DataFrame( p_in_north2, columns=['Lat','Long'])\n",
    "df_n2['Label']=\"n2\"\n",
    "df_n2.count()"
   ]
  },
  {
   "cell_type": "code",
   "execution_count": 17,
   "id": "forward-craft",
   "metadata": {},
   "outputs": [
    {
     "data": {
      "text/plain": [
       "Lat      88\n",
       "Long     88\n",
       "Label    88\n",
       "dtype: int64"
      ]
     },
     "execution_count": 17,
     "metadata": {},
     "output_type": "execute_result"
    }
   ],
   "source": [
    "p_in_north3 = []\n",
    "for p in rec19_king_numpy:\n",
    "    point = Point(p[0],p[1])\n",
    "    if (polygon_n3.contains(point)):\n",
    "        p_in_north3.append(p)\n",
    "        \n",
    "df_n3 = pd.DataFrame( p_in_north3, columns=['Lat','Long'])\n",
    "df_n3['Label']=\"n3\"\n",
    "df_n3.count()"
   ]
  },
  {
   "cell_type": "code",
   "execution_count": 18,
   "id": "developmental-slide",
   "metadata": {},
   "outputs": [
    {
     "data": {
      "text/plain": [
       "Lat      232\n",
       "Long     232\n",
       "Label    232\n",
       "dtype: int64"
      ]
     },
     "execution_count": 18,
     "metadata": {},
     "output_type": "execute_result"
    }
   ],
   "source": [
    "p_in_north4 = []\n",
    "for p in rec19_king_numpy:\n",
    "    point = Point(p[0],p[1])\n",
    "    if (polygon_n4.contains(point)):\n",
    "        p_in_north4.append(p)\n",
    "        \n",
    "df_n4 = pd.DataFrame( p_in_north4, columns=['Lat','Long'])\n",
    "df_n4['Label']=\"n4\"\n",
    "df_n4.count()"
   ]
  },
  {
   "cell_type": "code",
   "execution_count": 19,
   "id": "turkish-friendship",
   "metadata": {},
   "outputs": [
    {
     "data": {
      "text/plain": [
       "Lat      455\n",
       "Long     455\n",
       "Label    455\n",
       "dtype: int64"
      ]
     },
     "execution_count": 19,
     "metadata": {},
     "output_type": "execute_result"
    }
   ],
   "source": [
    "p_in_north5 = []\n",
    "for p in rec19_king_numpy:\n",
    "    point = Point(p[0],p[1])\n",
    "    if (polygon_n5.contains(point)):\n",
    "        p_in_north5.append(p)\n",
    "        \n",
    "df_n5 = pd.DataFrame( p_in_north5, columns=['Lat','Long'])\n",
    "df_n5['Label']=\"n5\"\n",
    "df_n5.count()"
   ]
  },
  {
   "cell_type": "code",
   "execution_count": 20,
   "id": "hazardous-faith",
   "metadata": {},
   "outputs": [],
   "source": [
    "frames = [df_n1,df_n2,df_n3,df_n4,df_n5]\n",
    "labeled_df = pd.concat(frames)"
   ]
  },
  {
   "cell_type": "code",
   "execution_count": 21,
   "id": "sonic-observer",
   "metadata": {},
   "outputs": [],
   "source": [
    "north_side = ([47.777104,-122.389053],[47.774561,-122.268551],[47.7330218,-122.2867455],\n",
    "              [47.680809,-122.24555],[47.651215,-122.27679],\n",
    "              [47.650981,-122.31833],[47.645201,-122.334468],[47.670876,-122.408617],[47.695826,-122.400731],\n",
    "              [47.7461816,-122.3773824],[47.777104,-122.389053])"
   ]
  },
  {
   "cell_type": "code",
   "execution_count": 22,
   "id": "documented-copper",
   "metadata": {},
   "outputs": [],
   "source": [
    "north_region = Polygon(north_side)"
   ]
  },
  {
   "cell_type": "code",
   "execution_count": 23,
   "id": "seeing-therapist",
   "metadata": {},
   "outputs": [],
   "source": [
    "p_in_NorthSeattle_2019 = []\n",
    "for p in rec19_king_numpy:\n",
    "    point = Point(p[0],p[1])\n",
    "    if (north_region.contains(point)):\n",
    "        p_in_NorthSeattle_2019.append(p)"
   ]
  },
  {
   "cell_type": "code",
   "execution_count": 24,
   "id": "embedded-reset",
   "metadata": {},
   "outputs": [
    {
     "data": {
      "text/plain": [
       "Lat     879\n",
       "Long    879\n",
       "dtype: int64"
      ]
     },
     "execution_count": 24,
     "metadata": {},
     "output_type": "execute_result"
    }
   ],
   "source": [
    "df19 = pd.DataFrame(np.array(p_in_NorthSeattle_2019 ), columns=['Lat','Long'])\n",
    "df19.count()"
   ]
  },
  {
   "cell_type": "code",
   "execution_count": 25,
   "id": "lined-order",
   "metadata": {},
   "outputs": [
    {
     "data": {
      "text/plain": [
       "KMeans(algorithm='auto', copy_x=True, init='k-means++', max_iter=300,\n",
       "       n_clusters=5, n_init=10, n_jobs=None, precompute_distances='auto',\n",
       "       random_state=None, tol=0.0001, verbose=0)"
      ]
     },
     "execution_count": 25,
     "metadata": {},
     "output_type": "execute_result"
    }
   ],
   "source": [
    "coyo19_kmeans5 = KMeans(n_clusters=5)\n",
    "coyo19_kmeans5.fit(df19)"
   ]
  },
  {
   "cell_type": "code",
   "execution_count": 26,
   "id": "legitimate-bahrain",
   "metadata": {},
   "outputs": [
    {
     "data": {
      "text/plain": [
       "Text(0.5, 1.0, 'Coyote 2019 Data North Seattle Clusters K = 5')"
      ]
     },
     "execution_count": 26,
     "metadata": {},
     "output_type": "execute_result"
    },
    {
     "data": {
      "image/png": "[encoded data removed]",
      "text/plain": [
       "<Figure size 432x288 with 1 Axes>"
      ]
     },
     "metadata": {
      "needs_background": "light"
     },
     "output_type": "display_data"
    }
   ],
   "source": [
    "plt.xlim()\n",
    "plt.scatter(df19.iloc[:,0], df19.iloc[:,1], c=coyo19_kmeans5.labels_, cmap='rainbow',marker='.')\n",
    "#cluster centroids\n",
    "plt.scatter(coyo19_kmeans5.cluster_centers_[:,0] ,coyo19_kmeans5.cluster_centers_[:,1], color='black',marker=\"x\")\n",
    "plt.title(\"Coyote 2019 Data North Seattle Clusters K = 5\")"
   ]
  },
  {
   "cell_type": "code",
   "execution_count": 27,
   "id": "signal-sleeve",
   "metadata": {},
   "outputs": [
    {
     "data": {
      "text/plain": [
       "879"
      ]
     },
     "execution_count": 27,
     "metadata": {},
     "output_type": "execute_result"
    }
   ],
   "source": [
    "labeled_data = labeled_df.to_numpy()\n",
    "len(labeled_data)\n"
   ]
  },
  {
   "cell_type": "code",
   "execution_count": 28,
   "id": "worse-collectible",
   "metadata": {},
   "outputs": [],
   "source": [
    "assigned_label = {}\n",
    "for i in labeled_data:\n",
    "    key = tuple((i[0],i[1]))\n",
    "    assigned_label[key] = set([i[2]])"
   ]
  },
  {
   "cell_type": "code",
   "execution_count": 29,
   "id": "proprietary-novel",
   "metadata": {},
   "outputs": [],
   "source": [
    "clusNorth_2019 = df19.copy()\n",
    "clusNorth_2019['labels'] = coyo19_kmeans5.labels_\n",
    "north_clus_output = clusNorth_2019.to_numpy()\n",
    "cluster_output = {}\n",
    "\n",
    "for i in north_clus_output:\n",
    "    key = tuple((i[0],i[1]))\n",
    "    cluster_output[key] = set([str(int(i[2]))])"
   ]
  },
  {
   "cell_type": "code",
   "execution_count": 30,
   "id": "compressed-equality",
   "metadata": {},
   "outputs": [],
   "source": [
    "import bcubed"
   ]
  },
  {
   "cell_type": "markdown",
   "id": "proof-identifier",
   "metadata": {},
   "source": [
    "# Kmeans"
   ]
  },
  {
   "cell_type": "code",
   "execution_count": 31,
   "id": "illegal-ready",
   "metadata": {},
   "outputs": [
    {
     "name": "stdout",
     "output_type": "stream",
     "text": [
      "Kmeans:\n",
      "Precision:  0.9340823307462846\n",
      "Recall:  0.927456358886209\n",
      "f1 score:  0.9307575525544648\n"
     ]
    }
   ],
   "source": [
    "precision_k = bcubed.precision(cluster_output,assigned_label)\n",
    "recall_k = bcubed.recall(cluster_output, assigned_label)\n",
    "fscore_k = bcubed.fscore(precision_k,recall_k)\n",
    "print(\"Kmeans:\")\n",
    "print(\"Precision: \", precision_k)\n",
    "print(\"Recall: \", recall_k)\n",
    "print(\"f1 score: \", fscore_k)"
   ]
  },
  {
   "cell_type": "markdown",
   "id": "composite-survival",
   "metadata": {},
   "source": [
    "# Hierarchical"
   ]
  },
  {
   "cell_type": "code",
   "execution_count": 32,
   "id": "romance-yahoo",
   "metadata": {
    "scrolled": true
   },
   "outputs": [
    {
     "data": {
      "text/plain": [
       "array([1, 1, 1, 0, 3, 2, 2, 2, 2, 2, 2, 2, 1, 0, 2, 3, 1, 1, 1, 1, 4, 2,\n",
       "       2, 1, 2, 1, 2, 2, 1, 2, 2, 2, 3, 2, 3, 2, 2, 1, 3, 0, 1, 2, 1, 1,\n",
       "       1, 3, 2, 1, 2, 2, 2, 1, 2, 1, 2, 1, 1, 3, 2, 4, 2, 1, 2, 2, 2, 2,\n",
       "       0, 2, 3, 4, 2, 2, 1, 2, 0, 2, 2, 1, 2, 2, 0, 2, 1, 2, 1, 2, 4, 1,\n",
       "       1, 1, 1, 3, 2, 2, 3, 1, 2, 1, 2, 2, 2, 3, 1, 2, 2, 1, 1, 2, 2, 1,\n",
       "       0, 1, 1, 2, 3, 0, 0, 0, 2, 2, 2, 2, 2, 0, 2, 2, 2, 2, 4, 0, 2, 1,\n",
       "       1, 2, 1, 2, 4, 2, 2, 2, 2, 2, 1, 2, 2, 2, 1, 1, 2, 3, 1, 1, 2, 2,\n",
       "       2, 2, 1, 2, 1, 1, 2, 2, 2, 4, 1, 2, 3, 0, 2, 3, 1, 2, 2, 4, 1, 2,\n",
       "       4, 2, 1, 1, 2, 2, 2, 1, 2, 3, 2, 4, 2, 2, 2, 1, 1, 2, 0, 1, 2, 2,\n",
       "       2, 2, 4, 0, 3, 1, 2, 2, 2, 1, 2, 4, 2, 3, 0, 3, 2, 2, 2, 2, 2, 3,\n",
       "       0, 3, 4, 4, 1, 2, 2, 1, 2, 4, 2, 3, 0, 1, 3, 4, 2, 2, 1, 2, 4, 1,\n",
       "       1, 1, 1, 2, 3, 1, 1, 2, 1, 2, 1, 2, 2, 2, 2, 3, 1, 2, 4, 2, 2, 1,\n",
       "       1, 2, 2, 1, 2, 1, 4, 2, 1, 4, 2, 3, 2, 2, 1, 2, 2, 1, 4, 1, 0, 1,\n",
       "       0, 4, 2, 0, 1, 2, 0, 2, 2, 0, 0, 4, 2, 1, 2, 2, 2, 2, 1, 4, 2, 2,\n",
       "       2, 1, 2, 2, 2, 2, 4, 2, 2, 3, 2, 2, 2, 3, 2, 2, 2, 2, 2, 3, 3, 1,\n",
       "       2, 1, 1, 2, 2, 2, 1, 2, 2, 2, 2, 1, 3, 1, 0, 0, 3, 4, 0, 3, 1, 0,\n",
       "       2, 2, 2, 4, 2, 3, 2, 3, 2, 2, 1, 0, 3, 2, 2, 3, 3, 2, 3, 3, 2, 1,\n",
       "       2, 1, 2, 2, 2, 1, 2, 3, 2, 0, 2, 2, 2, 1, 2, 2, 2, 1, 4, 3, 1, 1,\n",
       "       2, 3, 2, 2, 1, 2, 2, 3, 2, 2, 1, 2, 4, 4, 1, 1, 1, 1, 2, 2, 1, 3,\n",
       "       2, 3, 2, 2, 3, 2, 1, 4, 0, 2, 3, 4, 1, 1, 2, 2, 2, 2, 1, 2, 2, 1,\n",
       "       0, 2, 1, 2, 1, 1, 1, 2, 3, 3, 2, 0, 1, 2, 1, 3, 2, 2, 2, 2, 1, 1,\n",
       "       2, 2, 1, 0, 0, 1, 2, 1, 0, 2, 1, 2, 1, 4, 1, 2, 1, 2, 2, 0, 3, 4,\n",
       "       2, 1, 2, 2, 2, 2, 2, 2, 2, 1, 2, 0, 2, 1, 3, 2, 2, 0, 2, 1, 2, 0,\n",
       "       0, 4, 2, 2, 2, 1, 1, 2, 4, 0, 0, 1, 2, 2, 2, 4, 2, 4, 1, 3, 1, 4,\n",
       "       2, 1, 0, 2, 1, 4, 2, 1, 1, 2, 2, 4, 0, 2, 2, 1, 2, 1, 1, 1, 2, 0,\n",
       "       2, 1, 2, 2, 3, 2, 3, 2, 1, 4, 2, 2, 2, 1, 3, 3, 3, 2, 0, 2, 0, 1,\n",
       "       2, 2, 2, 3, 0, 2, 2, 1, 2, 2, 1, 1, 2, 2, 2, 1, 2, 0, 1, 2, 2, 4,\n",
       "       4, 3, 2, 1, 2, 1, 1, 2, 2, 3, 1, 2, 0, 4, 4, 2, 2, 4, 4, 2, 2, 1,\n",
       "       4, 2, 1, 2, 2, 2, 1, 1, 1, 2, 1, 3, 1, 2, 2, 1, 2, 2, 3, 3, 3, 2,\n",
       "       3, 3, 2, 1, 1, 2, 4, 3, 4, 1, 3, 2, 2, 1, 2, 2, 2, 3, 1, 1, 1, 1,\n",
       "       1, 1, 3, 1, 0, 2, 2, 2, 2, 2, 2, 1, 1, 3, 1, 2, 4, 4, 1, 2, 1, 2,\n",
       "       1, 3, 2, 2, 2, 1, 2, 2, 3, 2, 3, 2, 2, 2, 2, 1, 1, 1, 4, 2, 1, 3,\n",
       "       2, 2, 4, 2, 1, 1, 2, 2, 3, 3, 2, 4, 1, 2, 3, 2, 2, 3, 3, 3, 2, 2,\n",
       "       4, 2, 4, 0, 2, 1, 2, 4, 3, 2, 1, 2, 2, 1, 2, 4, 2, 1, 2, 2, 2, 1,\n",
       "       4, 0, 1, 0, 2, 2, 1, 2, 2, 2, 1, 2, 1, 2, 1, 2, 1, 1, 1, 3, 1, 2,\n",
       "       2, 1, 1, 1, 2, 0, 1, 2, 4, 2, 1, 1, 2, 1, 1, 4, 2, 1, 2, 1, 1, 0,\n",
       "       3, 2, 0, 1, 1, 0, 1, 1, 2, 2, 2, 4, 2, 1, 3, 3, 2, 2, 0, 2, 2, 3,\n",
       "       0, 1, 2, 2, 0, 0, 2, 0, 1, 1, 2, 2, 1, 0, 4, 3, 2, 3, 1, 4, 1, 1,\n",
       "       1, 2, 1, 2, 2, 2, 1, 3, 1, 2, 3, 3, 0, 1, 2, 1, 1, 1, 2, 2, 3, 2,\n",
       "       2, 1, 2, 2, 1, 2, 1, 1, 3, 1, 0, 2, 2, 2, 2, 1, 1, 3, 2, 2, 2])"
      ]
     },
     "execution_count": 32,
     "metadata": {},
     "output_type": "execute_result"
    }
   ],
   "source": [
    "hier_NorthSeattle = AgglomerativeClustering(n_clusters =5, affinity='euclidean',linkage='ward')\n",
    "hier_NorthSeattle.fit_predict(df19)"
   ]
  },
  {
   "cell_type": "code",
   "execution_count": 33,
   "id": "separated-violence",
   "metadata": {},
   "outputs": [
    {
     "data": {
      "text/plain": [
       "Text(0.5, 1.0, 'Hierarchical 2019 Coyote North Seattle clusters, N=5')"
      ]
     },
     "execution_count": 33,
     "metadata": {},
     "output_type": "execute_result"
    },
    {
     "data": {
      "image/png": "[encoded data removed]",
      "text/plain": [
       "<Figure size 432x288 with 1 Axes>"
      ]
     },
     "metadata": {
      "needs_background": "light"
     },
     "output_type": "display_data"
    }
   ],
   "source": [
    "plt.scatter(df19.iloc[:,0],df19.iloc[:,1],c=hier_NorthSeattle.labels_,marker='.')\n",
    "plt.title('Hierarchical 2019 Coyote North Seattle clusters, N=5')"
   ]
  },
  {
   "cell_type": "code",
   "execution_count": 34,
   "id": "applicable-custody",
   "metadata": {},
   "outputs": [],
   "source": [
    "HierClusNorthSea19 = df19.copy()\n",
    "HierClusNorthSea19[\"labels\"]= hier_NorthSeattle.labels_"
   ]
  },
  {
   "cell_type": "code",
   "execution_count": 35,
   "id": "visible-thermal",
   "metadata": {},
   "outputs": [],
   "source": [
    "north_HierClus_output = HierClusNorthSea19.to_numpy()\n",
    "hier_cluster_output = {}\n",
    "\n",
    "for i in north_HierClus_output:\n",
    "    key = tuple((i[0],i[1]))\n",
    "    hier_cluster_output[key] = set([str(int(i[2]))])"
   ]
  },
  {
   "cell_type": "markdown",
   "id": "opponent-terrorism",
   "metadata": {},
   "source": [
    "# Hierarchical"
   ]
  },
  {
   "cell_type": "code",
   "execution_count": 36,
   "id": "developed-genealogy",
   "metadata": {},
   "outputs": [
    {
     "name": "stdout",
     "output_type": "stream",
     "text": [
      "Hierachical:\n",
      "Precision:  0.8663731275339136\n",
      "Recall:  0.8274671960827178\n",
      "f1 score:  0.8464733453401455\n"
     ]
    }
   ],
   "source": [
    "precision_h = bcubed.precision(hier_cluster_output,assigned_label)\n",
    "recall_h = bcubed.recall(hier_cluster_output, assigned_label)\n",
    "fscore_h = bcubed.fscore(precision_h,recall_h)\n",
    "print(\"Hierachical:\")\n",
    "print(\"Precision: \", precision_h)\n",
    "print(\"Recall: \", recall_h)\n",
    "print(\"f1 score: \", fscore_h)"
   ]
  },
  {
   "cell_type": "markdown",
   "id": "generic-marine",
   "metadata": {},
   "source": [
    "# North Seattle I5 West Kmeans"
   ]
  },
  {
   "cell_type": "code",
   "execution_count": 37,
   "id": "modern-encoding",
   "metadata": {},
   "outputs": [
    {
     "data": {
      "text/plain": [
       "Lat     363\n",
       "Long    363\n",
       "dtype: int64"
      ]
     },
     "execution_count": 37,
     "metadata": {},
     "output_type": "execute_result"
    }
   ],
   "source": [
    "north_I5West = [(47.777582,-122.393571),(47.777063,-122.31907),(47.75349,-122.33195)\n",
    "               ,(47.743568,-122.330726),(47.731228,-122.324207),(47.696001,-122.331076)\n",
    "               ,(47.68359,-122.32384),(47.675427,-122.321018),(47.653452,-122.323363)\n",
    "               ,(47.645024,-122.334349),(47.668713,-122.406661),(47.695749,-122.403716)\n",
    "               ,(47.722332,-122.374118),(47.777582,-122.393571)]\n",
    "\n",
    "polygon_NorthI5West = Polygon(north_I5West)\n",
    "p_in_NorthI5West_2019 = []\n",
    "for p in rec19_king_numpy:\n",
    "    point = Point(p[0],p[1])\n",
    "    if (polygon_NorthI5West.contains(point)):\n",
    "        p_in_NorthI5West_2019.append(p)\n",
    "        \n",
    "df19_NorthI5West = pd.DataFrame(np.array(p_in_NorthI5West_2019) , columns=['Lat','Long'])\n",
    "\n",
    "df19_NorthI5West.count()"
   ]
  },
  {
   "cell_type": "code",
   "execution_count": 38,
   "id": "every-bruce",
   "metadata": {},
   "outputs": [
    {
     "data": {
      "text/plain": [
       "Lat      43\n",
       "Long     43\n",
       "Label    43\n",
       "dtype: int64"
      ]
     },
     "execution_count": 38,
     "metadata": {},
     "output_type": "execute_result"
    }
   ],
   "source": [
    "#north seattle subregion 1\n",
    "#North Seattle I5 West n1\n",
    "p_in_northI5West_n1 = []\n",
    "for p in rec19_king_numpy:\n",
    "    point = Point(p[0],p[1])\n",
    "    if (polygon_n1.contains(point)):\n",
    "        p_in_northI5West_n1.append(p)\n",
    "df_I5Westn1 = pd.DataFrame( p_in_northI5West_n1, columns=['Lat','Long'])\n",
    "df_I5Westn1['Label']=\"I5West_n1\"\n",
    "df_I5Westn1.count()"
   ]
  },
  {
   "cell_type": "code",
   "execution_count": 39,
   "id": "exposed-radar",
   "metadata": {},
   "outputs": [
    {
     "data": {
      "text/plain": [
       "Lat      88\n",
       "Long     88\n",
       "Label    88\n",
       "dtype: int64"
      ]
     },
     "execution_count": 39,
     "metadata": {},
     "output_type": "execute_result"
    }
   ],
   "source": [
    "#north seattle subregion 3\n",
    "#North Seattle I5 West n2\n",
    "p_in_northI5West_n2 = []\n",
    "for p in rec19_king_numpy:\n",
    "    point = Point(p[0],p[1])\n",
    "    if (polygon_n3.contains(point)):\n",
    "        p_in_northI5West_n2.append(p)\n",
    "df_I5Westn2 = pd.DataFrame( p_in_northI5West_n2, columns=['Lat','Long'])\n",
    "df_I5Westn2['Label']=\"I5West_n2\"\n",
    "df_I5Westn2.count()"
   ]
  },
  {
   "cell_type": "code",
   "execution_count": 40,
   "id": "static-auckland",
   "metadata": {},
   "outputs": [
    {
     "data": {
      "text/plain": [
       "Lat      232\n",
       "Long     232\n",
       "Label    232\n",
       "dtype: int64"
      ]
     },
     "execution_count": 40,
     "metadata": {},
     "output_type": "execute_result"
    }
   ],
   "source": [
    "#north seattle subregion 4\n",
    "#North Seattle I5 West n3\n",
    "p_in_northI5West_n3 = []\n",
    "for p in rec19_king_numpy:\n",
    "    point = Point(p[0],p[1])\n",
    "    if (polygon_n4.contains(point)):\n",
    "        p_in_northI5West_n3.append(p)\n",
    "df_I5Westn3 = pd.DataFrame( p_in_northI5West_n3, columns=['Lat','Long'])\n",
    "df_I5Westn3['Label']=\"I5West_n3\"\n",
    "df_I5Westn3.count()"
   ]
  },
  {
   "cell_type": "code",
   "execution_count": 41,
   "id": "cleared-annex",
   "metadata": {},
   "outputs": [
    {
     "data": {
      "text/plain": [
       "KMeans(algorithm='auto', copy_x=True, init='k-means++', max_iter=300,\n",
       "       n_clusters=3, n_init=10, n_jobs=None, precompute_distances='auto',\n",
       "       random_state=None, tol=0.0001, verbose=0)"
      ]
     },
     "execution_count": 41,
     "metadata": {},
     "output_type": "execute_result"
    }
   ],
   "source": [
    "coyo19_kmeans_NorthI5West = KMeans(n_clusters=3)\n",
    "coyo19_kmeans_NorthI5West.fit(df19_NorthI5West)"
   ]
  },
  {
   "cell_type": "code",
   "execution_count": 42,
   "id": "paperback-drunk",
   "metadata": {},
   "outputs": [
    {
     "data": {
      "image/png": "[encoded data removed]",
      "text/plain": [
       "<Figure size 432x288 with 1 Axes>"
      ]
     },
     "metadata": {
      "needs_background": "light"
     },
     "output_type": "display_data"
    }
   ],
   "source": [
    "plt.xlim()\n",
    "plt.scatter(df19_NorthI5West.iloc[:,0], df19_NorthI5West.iloc[:,1], c=coyo19_kmeans_NorthI5West.labels_, cmap='rainbow',marker='.')\n",
    "#cluster centroids\n",
    "plt.scatter(coyo19_kmeans_NorthI5West.cluster_centers_[:,0] ,coyo19_kmeans_NorthI5West.cluster_centers_[:,1], color='black',marker=\"x\")\n",
    "plt.title(\"Coyote 2019 Data North Seatthe I5 West Clusters K = 3\")\n",
    "plt.show()"
   ]
  },
  {
   "cell_type": "code",
   "execution_count": 43,
   "id": "serial-bridal",
   "metadata": {},
   "outputs": [
    {
     "data": {
      "text/plain": [
       "363"
      ]
     },
     "execution_count": 43,
     "metadata": {},
     "output_type": "execute_result"
    }
   ],
   "source": [
    "frames_NorthI5West = [df_I5Westn1,df_I5Westn2,df_I5Westn3]\n",
    "labeled_NorthI5West_df = pd.concat(frames_NorthI5West)\n",
    "\n",
    "labeled_data_NorthI5West = labeled_NorthI5West_df.to_numpy()\n",
    "len(labeled_data_NorthI5West)\n"
   ]
  },
  {
   "cell_type": "code",
   "execution_count": 44,
   "id": "explicit-fossil",
   "metadata": {},
   "outputs": [],
   "source": [
    "assigned_label_northI5West = {}\n",
    "for i in labeled_data_NorthI5West:\n",
    "    key = tuple((i[0],i[1]))\n",
    "    assigned_label_northI5West[key] = set([i[2]])"
   ]
  },
  {
   "cell_type": "code",
   "execution_count": 45,
   "id": "ecological-patrol",
   "metadata": {},
   "outputs": [],
   "source": [
    "clusNorth_I5West = df19_NorthI5West.copy()\n",
    "clusNorth_I5West['labels'] = coyo19_kmeans_NorthI5West.labels_\n",
    "northI5West_clus_output = clusNorth_I5West.to_numpy()\n",
    "cluster_output_nI5West = {}\n",
    "\n",
    "for i in northI5West_clus_output:\n",
    "    key = tuple((i[0],i[1]))\n",
    "    cluster_output_nI5West[key] = set([str(int(i[2]))])"
   ]
  },
  {
   "cell_type": "code",
   "execution_count": 46,
   "id": "secondary-venezuela",
   "metadata": {},
   "outputs": [
    {
     "name": "stdout",
     "output_type": "stream",
     "text": [
      "Kmeans:\n",
      "Precision:  0.9735457380085478\n",
      "Recall:  0.9728943755019559\n",
      "f1 score:  0.9732199477683091\n"
     ]
    }
   ],
   "source": [
    "I5West_precision_k = bcubed.precision(cluster_output_nI5West,assigned_label_northI5West)\n",
    "I5West_recall_k = bcubed.recall(cluster_output_nI5West, assigned_label_northI5West)\n",
    "I5West_fscore_k = bcubed.fscore(I5West_precision_k,I5West_recall_k)\n",
    "print(\"Kmeans:\")\n",
    "print(\"Precision: \", I5West_precision_k)\n",
    "print(\"Recall: \", I5West_recall_k)\n",
    "print(\"f1 score: \", I5West_fscore_k)"
   ]
  },
  {
   "cell_type": "markdown",
   "id": "rocky-russell",
   "metadata": {},
   "source": [
    "# North Seattle I5 East Kmeans"
   ]
  },
  {
   "cell_type": "code",
   "execution_count": 47,
   "id": "announced-constitution",
   "metadata": {},
   "outputs": [],
   "source": [
    "north_I5East = [(47.776966,-122.316826),(47.77538,-122.267817),(47.753716,-122.274812)\n",
    "               ,(47.734184,-122.289579),(47.680384,-122.248595),(47.646914,-122.277606)\n",
    "               ,(47.654357,-122.321337),(47.680037,-122.320769),(47.682739,-122.320448)\n",
    "               ,(47.685447,-122.323816),(47.695406,-122.328655),(47.739373,-122.321528)\n",
    "               ,(47.743557,-122.328866),(47.756354,-122.328308),(47.776966,-122.316826)]\n",
    "\n",
    "polygon_NorthI5East = Polygon(north_I5East)\n",
    "\n"
   ]
  },
  {
   "cell_type": "code",
   "execution_count": 48,
   "id": "sweet-crest",
   "metadata": {},
   "outputs": [
    {
     "data": {
      "text/plain": [
       "Lat     516\n",
       "Long    516\n",
       "dtype: int64"
      ]
     },
     "execution_count": 48,
     "metadata": {},
     "output_type": "execute_result"
    }
   ],
   "source": [
    "p_in_NorthI5East_2019 = []\n",
    "for p in rec19_king_numpy:\n",
    "    point = Point(p[0],p[1])\n",
    "    if (polygon_NorthI5East.contains(point)):\n",
    "        p_in_NorthI5East_2019.append(p)\n",
    "        \n",
    "df19_NorthI5East = pd.DataFrame(np.array(p_in_NorthI5East_2019) , columns=['Lat','Long'])\n",
    "\n",
    "df19_NorthI5East.count()"
   ]
  },
  {
   "cell_type": "code",
   "execution_count": 49,
   "id": "distributed-basket",
   "metadata": {},
   "outputs": [
    {
     "data": {
      "text/plain": [
       "Lat      61\n",
       "Long     61\n",
       "Label    61\n",
       "dtype: int64"
      ]
     },
     "execution_count": 49,
     "metadata": {},
     "output_type": "execute_result"
    }
   ],
   "source": [
    "#north seattle subregion 2\n",
    "#North Seattle I5 East n1\n",
    "p_in_northI5East_n1 = []\n",
    "for p in rec19_king_numpy:\n",
    "    point = Point(p[0],p[1])\n",
    "    if (polygon_n2.contains(point)):\n",
    "        p_in_northI5East_n1.append(p)\n",
    "df_I5Eastn1 = pd.DataFrame( p_in_northI5East_n1, columns=['Lat','Long'])\n",
    "df_I5Eastn1['Label']=\"I5East_n1\"\n",
    "df_I5Eastn1.count()"
   ]
  },
  {
   "cell_type": "code",
   "execution_count": 50,
   "id": "central-saver",
   "metadata": {},
   "outputs": [
    {
     "data": {
      "text/plain": [
       "Lat      455\n",
       "Long     455\n",
       "Label    455\n",
       "dtype: int64"
      ]
     },
     "execution_count": 50,
     "metadata": {},
     "output_type": "execute_result"
    }
   ],
   "source": [
    "#north seattle subregion 5\n",
    "#North Seattle I5 East n2\n",
    "p_in_northI5East_n2 = []\n",
    "for p in rec19_king_numpy:\n",
    "    point = Point(p[0],p[1])\n",
    "    if (polygon_n5.contains(point)):\n",
    "        p_in_northI5East_n2.append(p)\n",
    "df_I5Eastn2 = pd.DataFrame( p_in_northI5East_n2, columns=['Lat','Long'])\n",
    "df_I5Eastn2['Label']=\"I5East_n2\"\n",
    "df_I5Eastn2.count()"
   ]
  },
  {
   "cell_type": "code",
   "execution_count": 51,
   "id": "closed-tomato",
   "metadata": {},
   "outputs": [
    {
     "data": {
      "text/plain": [
       "KMeans(algorithm='auto', copy_x=True, init='k-means++', max_iter=300,\n",
       "       n_clusters=2, n_init=10, n_jobs=None, precompute_distances='auto',\n",
       "       random_state=None, tol=0.0001, verbose=0)"
      ]
     },
     "execution_count": 51,
     "metadata": {},
     "output_type": "execute_result"
    }
   ],
   "source": [
    "coyo19_kmeans_NorthI5East = KMeans(n_clusters=2)\n",
    "coyo19_kmeans_NorthI5East.fit(df19_NorthI5East)"
   ]
  },
  {
   "cell_type": "code",
   "execution_count": 52,
   "id": "foster-badge",
   "metadata": {},
   "outputs": [
    {
     "data": {
      "image/png": "[encoded data removed]",
      "text/plain": [
       "<Figure size 432x288 with 1 Axes>"
      ]
     },
     "metadata": {
      "needs_background": "light"
     },
     "output_type": "display_data"
    }
   ],
   "source": [
    "plt.xlim()\n",
    "plt.scatter(df19_NorthI5East.iloc[:,0], df19_NorthI5East.iloc[:,1], c=coyo19_kmeans_NorthI5East.labels_, cmap='rainbow',marker='.')\n",
    "#cluster centroids\n",
    "plt.scatter(coyo19_kmeans_NorthI5East.cluster_centers_[:,0] ,coyo19_kmeans_NorthI5East.cluster_centers_[:,1], color='black',marker=\"x\")\n",
    "plt.title(\"Coyote 2019 Data North Seatthe I5 East Clusters K = 2\")\n",
    "plt.show()"
   ]
  },
  {
   "cell_type": "code",
   "execution_count": 53,
   "id": "premium-toyota",
   "metadata": {},
   "outputs": [
    {
     "data": {
      "text/plain": [
       "516"
      ]
     },
     "execution_count": 53,
     "metadata": {},
     "output_type": "execute_result"
    }
   ],
   "source": [
    "frames_NorthI5East = [df_I5Eastn1,df_I5Eastn2]\n",
    "labeled_NorthI5East_df = pd.concat(frames_NorthI5East)\n",
    "\n",
    "labeled_data_NorthI5East = labeled_NorthI5East_df.to_numpy()\n",
    "len(labeled_data_NorthI5East)"
   ]
  },
  {
   "cell_type": "code",
   "execution_count": 54,
   "id": "dramatic-brake",
   "metadata": {},
   "outputs": [],
   "source": [
    "assigned_label_northI5East = {}\n",
    "for i in labeled_data_NorthI5East:\n",
    "    key = tuple((i[0],i[1]))\n",
    "    assigned_label_northI5East[key] = set([i[2]])"
   ]
  },
  {
   "cell_type": "code",
   "execution_count": 55,
   "id": "another-gasoline",
   "metadata": {},
   "outputs": [],
   "source": [
    "clusNorth_I5East = df19_NorthI5East.copy()\n",
    "clusNorth_I5East['labels'] = coyo19_kmeans_NorthI5East.labels_\n",
    "northI5East_clus_output = clusNorth_I5East.to_numpy()\n",
    "cluster_output_nI5East = {}\n",
    "\n",
    "for i in northI5East_clus_output:\n",
    "    key = tuple((i[0],i[1]))\n",
    "    cluster_output_nI5East[key] = set([str(int(i[2]))])"
   ]
  },
  {
   "cell_type": "code",
   "execution_count": 56,
   "id": "extra-compiler",
   "metadata": {},
   "outputs": [
    {
     "name": "stdout",
     "output_type": "stream",
     "text": [
      "Kmeans:\n",
      "Precision:  0.9503901186875746\n",
      "Recall:  0.9396042617960425\n",
      "f1 score:  0.9449664137722893\n"
     ]
    }
   ],
   "source": [
    "I5East_precision_k = bcubed.precision(cluster_output_nI5East,assigned_label_northI5East)\n",
    "I5East_recall_k = bcubed.recall(cluster_output_nI5East, assigned_label_northI5East)\n",
    "I5East_fscore_k = bcubed.fscore(I5East_precision_k,I5East_recall_k)\n",
    "print(\"Kmeans:\")\n",
    "print(\"Precision: \", I5East_precision_k)\n",
    "print(\"Recall: \", I5East_recall_k)\n",
    "print(\"f1 score: \", I5East_fscore_k)"
   ]
  },
  {
   "cell_type": "markdown",
   "id": "helpful-clerk",
   "metadata": {},
   "source": [
    "# North Seattle I5 West Hierarchical "
   ]
  },
  {
   "cell_type": "code",
   "execution_count": 57,
   "id": "behavioral-chuck",
   "metadata": {},
   "outputs": [
    {
     "data": {
      "text/plain": [
       "array([1, 1, 1, 0, 2, 1, 2, 1, 1, 1, 1, 1, 1, 1, 2, 2, 1, 0, 0, 1, 1, 1,\n",
       "       1, 2, 1, 1, 1, 1, 1, 2, 1, 0, 1, 0, 1, 1, 1, 1, 1, 1, 2, 2, 1, 1,\n",
       "       2, 1, 1, 1, 1, 1, 1, 2, 0, 0, 1, 1, 1, 0, 1, 1, 1, 2, 1, 1, 1, 1,\n",
       "       1, 1, 2, 2, 1, 1, 1, 1, 1, 2, 1, 1, 1, 2, 1, 2, 0, 2, 0, 0, 2, 1,\n",
       "       1, 2, 1, 0, 1, 0, 1, 1, 1, 1, 2, 1, 1, 1, 1, 0, 1, 1, 1, 1, 1, 0,\n",
       "       1, 2, 1, 1, 0, 1, 0, 1, 1, 1, 1, 0, 0, 2, 0, 1, 1, 1, 1, 1, 2, 1,\n",
       "       0, 0, 0, 1, 2, 0, 1, 0, 2, 0, 2, 2, 1, 1, 1, 2, 1, 1, 2, 1, 1, 0,\n",
       "       1, 1, 2, 1, 1, 1, 1, 1, 1, 0, 2, 2, 0, 0, 2, 0, 1, 1, 1, 1, 1, 1,\n",
       "       1, 1, 2, 2, 1, 1, 0, 1, 1, 1, 0, 1, 1, 0, 1, 1, 1, 1, 2, 1, 1, 1,\n",
       "       2, 1, 0, 1, 1, 0, 0, 0, 0, 1, 1, 0, 1, 1, 1, 1, 1, 1, 1, 0, 1, 2,\n",
       "       2, 1, 1, 0, 2, 0, 1, 2, 1, 1, 1, 1, 1, 0, 1, 2, 1, 1, 1, 2, 1, 0,\n",
       "       0, 1, 1, 1, 1, 1, 1, 0, 1, 2, 0, 2, 2, 0, 1, 1, 2, 1, 2, 1, 2, 1,\n",
       "       1, 1, 1, 1, 2, 1, 1, 1, 2, 1, 1, 1, 1, 0, 1, 0, 0, 1, 1, 1, 2, 1,\n",
       "       1, 2, 2, 0, 1, 0, 0, 0, 2, 0, 1, 0, 1, 1, 1, 1, 0, 1, 1, 1, 1, 1,\n",
       "       1, 2, 1, 1, 1, 1, 0, 1, 1, 1, 1, 1, 1, 1, 1, 2, 1, 1, 1, 2, 0, 0,\n",
       "       0, 1, 0, 1, 1, 1, 2, 2, 1, 1, 1, 1, 1, 1, 2, 1, 2, 2, 1, 1, 1, 1,\n",
       "       0, 1, 1, 1, 1, 0, 1, 0, 1, 1, 0])"
      ]
     },
     "execution_count": 57,
     "metadata": {},
     "output_type": "execute_result"
    }
   ],
   "source": [
    "rec19_NorthI5West= AgglomerativeClustering(n_clusters =3, affinity='euclidean',linkage='ward')\n",
    "rec19_NorthI5West.fit_predict(df19_NorthI5West)"
   ]
  },
  {
   "cell_type": "code",
   "execution_count": 58,
   "id": "tender-neighbor",
   "metadata": {},
   "outputs": [],
   "source": [
    "HierClusNorthI5West19 = df19_NorthI5West.copy()\n",
    "HierClusNorthI5West19[\"labels\"]= rec19_NorthI5West.labels_"
   ]
  },
  {
   "cell_type": "code",
   "execution_count": 59,
   "id": "unauthorized-mozambique",
   "metadata": {},
   "outputs": [],
   "source": [
    "northI5West_HierClus_output = HierClusNorthI5West19.to_numpy()\n",
    "hier_cluster_output_I5West = {}\n",
    "\n",
    "for i in northI5West_HierClus_output:\n",
    "    key = tuple((i[0],i[1]))\n",
    "    hier_cluster_output_I5West[key] = set([str(int(i[2]))])"
   ]
  },
  {
   "cell_type": "code",
   "execution_count": 60,
   "id": "dependent-august",
   "metadata": {},
   "outputs": [
    {
     "name": "stdout",
     "output_type": "stream",
     "text": [
      "Hierachical:\n",
      "Precision:  0.9128990439150867\n",
      "Recall:  0.9013899323816679\n",
      "f1 score:  0.9071079835865299\n"
     ]
    }
   ],
   "source": [
    "I5West_precision_h = bcubed.precision(hier_cluster_output_I5West,assigned_label_northI5West)\n",
    "I5West_recall_h = bcubed.recall(hier_cluster_output_I5West, assigned_label_northI5West)\n",
    "I5West_fscore_h = bcubed.fscore(I5West_precision_h,I5West_recall_h)\n",
    "print(\"Hierachical:\")\n",
    "print(\"Precision: \", I5West_precision_h)\n",
    "print(\"Recall: \", I5West_recall_h)\n",
    "print(\"f1 score: \", I5West_fscore_h)"
   ]
  },
  {
   "cell_type": "markdown",
   "id": "academic-gravity",
   "metadata": {},
   "source": [
    "# North Seattle I5 East Hierarchical"
   ]
  },
  {
   "cell_type": "code",
   "execution_count": 61,
   "id": "comic-reverse",
   "metadata": {},
   "outputs": [
    {
     "data": {
      "text/plain": [
       "array([1, 1, 1, 1, 1, 1, 1, 0, 1, 0, 1, 1, 1, 1, 1, 1, 1, 1, 1, 1, 1, 1,\n",
       "       1, 1, 1, 1, 1, 1, 1, 0, 1, 1, 1, 1, 1, 0, 1, 0, 1, 1, 1, 1, 1, 1,\n",
       "       1, 0, 1, 1, 1, 0, 1, 1, 1, 1, 1, 1, 1, 1, 1, 1, 1, 0, 1, 0, 0, 1,\n",
       "       1, 1, 1, 1, 1, 1, 1, 1, 0, 0, 1, 1, 1, 1, 1, 1, 1, 1, 1, 1, 1, 1,\n",
       "       1, 1, 1, 1, 1, 1, 1, 1, 0, 1, 0, 1, 1, 1, 0, 1, 0, 1, 1, 1, 1, 1,\n",
       "       1, 0, 1, 1, 1, 1, 0, 1, 1, 1, 1, 0, 0, 1, 1, 1, 1, 1, 0, 1, 1, 1,\n",
       "       1, 1, 1, 0, 0, 1, 1, 1, 0, 1, 0, 0, 1, 1, 1, 1, 1, 1, 1, 1, 1, 1,\n",
       "       1, 0, 1, 1, 1, 1, 1, 1, 0, 1, 1, 1, 1, 1, 0, 1, 0, 0, 1, 1, 0, 1,\n",
       "       1, 0, 0, 0, 1, 1, 1, 1, 1, 0, 1, 1, 1, 1, 1, 1, 1, 0, 1, 1, 1, 1,\n",
       "       1, 1, 1, 1, 1, 1, 1, 1, 1, 1, 1, 1, 1, 1, 0, 0, 0, 1, 0, 1, 1, 0,\n",
       "       1, 1, 1, 1, 0, 1, 1, 1, 1, 1, 1, 1, 1, 1, 1, 0, 1, 1, 1, 1, 1, 1,\n",
       "       0, 1, 1, 1, 1, 1, 1, 1, 0, 0, 1, 1, 1, 1, 1, 1, 1, 1, 1, 1, 1, 1,\n",
       "       1, 1, 0, 1, 1, 1, 1, 0, 1, 1, 1, 1, 1, 1, 1, 0, 1, 1, 1, 0, 1, 1,\n",
       "       1, 0, 0, 1, 1, 1, 1, 1, 1, 1, 1, 1, 0, 1, 1, 1, 0, 1, 1, 0, 0, 1,\n",
       "       1, 1, 1, 0, 1, 1, 1, 1, 0, 1, 1, 0, 1, 1, 0, 1, 1, 1, 0, 0, 1, 1,\n",
       "       1, 1, 1, 1, 1, 1, 1, 0, 1, 1, 1, 1, 0, 1, 0, 1, 1, 1, 0, 1, 1, 1,\n",
       "       1, 1, 1, 1, 1, 1, 0, 0, 1, 1, 1, 1, 1, 0, 0, 0, 1, 1, 1, 1, 0, 1,\n",
       "       1, 1, 1, 1, 1, 1, 1, 1, 1, 1, 1, 1, 0, 0, 1, 1, 1, 1, 1, 1, 0, 1,\n",
       "       1, 1, 1, 1, 1, 1, 0, 0, 1, 1, 1, 1, 1, 1, 1, 1, 1, 1, 1, 1, 0, 1,\n",
       "       1, 1, 1, 0, 1, 1, 1, 1, 1, 1, 1, 1, 1, 0, 1, 0, 1, 1, 0, 1, 1, 1,\n",
       "       1, 0, 1, 1, 1, 1, 1, 0, 0, 1, 1, 1, 1, 1, 1, 1, 1, 1, 1, 1, 1, 1,\n",
       "       0, 1, 1, 0, 1, 1, 0, 1, 0, 1, 0, 1, 1, 1, 1, 0, 1, 1, 1, 0, 1, 1,\n",
       "       1, 1, 0, 1, 0, 1, 1, 0, 0, 1, 0, 1, 1, 1, 1, 1, 0, 1, 1, 1, 1, 1,\n",
       "       1, 1, 1, 1, 1, 1, 1, 1, 1, 1])"
      ]
     },
     "execution_count": 61,
     "metadata": {},
     "output_type": "execute_result"
    }
   ],
   "source": [
    "rec19_NorthI5East= AgglomerativeClustering(n_clusters =2, affinity='euclidean',linkage='ward')\n",
    "rec19_NorthI5East.fit_predict(df19_NorthI5East)"
   ]
  },
  {
   "cell_type": "code",
   "execution_count": 62,
   "id": "narrative-capability",
   "metadata": {},
   "outputs": [],
   "source": [
    "HierClusNorthI5East19 = df19_NorthI5East.copy()\n",
    "HierClusNorthI5East19[\"labels\"]= rec19_NorthI5East.labels_"
   ]
  },
  {
   "cell_type": "code",
   "execution_count": 63,
   "id": "seventh-rachel",
   "metadata": {},
   "outputs": [],
   "source": [
    "northI5East_HierClus_output = HierClusNorthI5East19.to_numpy()\n",
    "hier_cluster_output_I5East = {}\n",
    "\n",
    "for i in northI5East_HierClus_output:\n",
    "    key = tuple((i[0],i[1]))\n",
    "    hier_cluster_output_I5East[key] = set([str(int(i[2]))])"
   ]
  },
  {
   "cell_type": "code",
   "execution_count": 64,
   "id": "satisfactory-birthday",
   "metadata": {},
   "outputs": [
    {
     "name": "stdout",
     "output_type": "stream",
     "text": [
      "Hierachical:\n",
      "Precision:  0.908359524797881\n",
      "Recall:  0.863831267666884\n",
      "f1 score:  0.8855359853349907\n"
     ]
    }
   ],
   "source": [
    "I5East_precision_h = bcubed.precision(hier_cluster_output_I5East,assigned_label_northI5East)\n",
    "I5East_recall_h = bcubed.recall(hier_cluster_output_I5East, assigned_label_northI5East)\n",
    "I5East_fscore_h = bcubed.fscore(I5East_precision_h,I5East_recall_h)\n",
    "print(\"Hierachical:\")\n",
    "print(\"Precision: \", I5East_precision_h)\n",
    "print(\"Recall: \", I5East_recall_h)\n",
    "print(\"f1 score: \", I5East_fscore_h)"
   ]
  },
  {
   "cell_type": "code",
   "execution_count": null,
   "id": "brutal-production",
   "metadata": {},
   "outputs": [],
   "source": []
  }
 ],
 "metadata": {
  "kernelspec": {
   "display_name": "Python 3",
   "language": "python",
   "name": "python3"
  },
  "language_info": {
   "codemirror_mode": {
    "name": "ipython",
    "version": 3
   },
   "file_extension": ".py",
   "mimetype": "text/x-python",
   "name": "python",
   "nbconvert_exporter": "python",
   "pygments_lexer": "ipython3",
   "version": "3.8.5"
  }
 },
 "nbformat": 4,
 "nbformat_minor": 5
}
