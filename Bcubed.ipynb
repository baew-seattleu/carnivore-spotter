{
 "cells": [
  {
   "cell_type": "code",
   "execution_count": 1,
   "id": "unlike-tourism",
   "metadata": {},
   "outputs": [],
   "source": [
    "# Simple extended BCubed implementation in Python for clustering evaluation\n",
    "# Copyright 2015 Hugo Hromic\n",
    "#\n",
    "# Licensed under the Apache License, Version 2.0 (the \"License\");\n",
    "# you may not use this file except in compliance with the License.\n",
    "# You may obtain a copy of the License at\n",
    "#\n",
    "#     http://www.apache.org/licenses/LICENSE-2.0\n",
    "#\n",
    "# Unless required by applicable law or agreed to in writing, software\n",
    "# distributed under the License is distributed on an \"AS IS\" BASIS,\n",
    "# WITHOUT WARRANTIES OR CONDITIONS OF ANY KIND, either express or implied.\n",
    "# See the License for the specific language governing permissions and\n",
    "# limitations under the License.\n",
    "#\n",
    "# Extended BCubed algorithm taken from:\n",
    "# Amigo, Enrique, et al. \"A comparison of extrinsic clustering evaluation metrics\n",
    "# based on formal constraints.\" Information retrieval 12.4 (2009): 461-486."
   ]
  },
  {
   "cell_type": "code",
   "execution_count": 2,
   "id": "vulnerable-differential",
   "metadata": {},
   "outputs": [],
   "source": [
    "import time\n",
    "\n",
    "import numpy as np\n",
    "import pylab as pl\n",
    "from matplotlib.pyplot import figure\n",
    "\n",
    "\n",
    "from sklearn.cluster import MiniBatchKMeans, KMeans\n",
    "from sklearn.metrics.pairwise import euclidean_distances\n",
    "\n",
    "import math\n",
    "from sklearn.preprocessing import normalize\n",
    "from sklearn.decomposition import PCA\n",
    "\n",
    "import pandas as pd\n",
    "import matplotlib.pyplot as plt\n",
    "from sklearn.preprocessing import StandardScaler\n",
    "from sklearn.metrics.cluster import adjusted_rand_score\n",
    "\n",
    "\n",
    "import scipy.cluster.hierarchy as shc\n",
    "from sklearn.cluster import AgglomerativeClustering\n",
    "\n",
    "\n",
    "from scipy.spatial import ConvexHull,convex_hull_plot_2d\n",
    "from sklearn.metrics import silhouette_samples, silhouette_score"
   ]
  },
  {
   "cell_type": "code",
   "execution_count": 3,
   "id": "brown-savannah",
   "metadata": {},
   "outputs": [],
   "source": [
    "from shapely.geometry import Point\n",
    "from shapely.geometry.polygon import Polygon\n",
    "import geopandas as gpd\n"
   ]
  },
  {
   "cell_type": "code",
   "execution_count": 4,
   "id": "described-point",
   "metadata": {},
   "outputs": [],
   "source": [
    "record= pd.read_csv(\"C:/Users/ojeet/CS_21Jan27.csv\")"
   ]
  },
  {
   "cell_type": "code",
   "execution_count": 5,
   "id": "republican-court",
   "metadata": {},
   "outputs": [],
   "source": [
    "col=['Time_Seen','Species','Latitude','Longitude','Media']"
   ]
  },
  {
   "cell_type": "code",
   "execution_count": 6,
   "id": "optical-fluid",
   "metadata": {},
   "outputs": [],
   "source": [
    "record.columns = col\n",
    "record['Time_Seen'] = pd.to_datetime(record.Time_Seen,utc=True).copy()\n",
    "record['Month'] = record.Time_Seen.dt.month\n",
    "record['Hour'] = record.Time_Seen.dt.hour\n",
    "record['Year'] = record.Time_Seen.dt.year"
   ]
  },
  {
   "cell_type": "code",
   "execution_count": 7,
   "id": "certain-agency",
   "metadata": {},
   "outputs": [],
   "source": [
    "#king county boundaries\n",
    "maxLat = 47.7763\n",
    "minLat = 47.1878\n",
    "maxLon = -121.0941\n",
    "minLon = -122.5346"
   ]
  },
  {
   "cell_type": "code",
   "execution_count": 8,
   "id": "advisory-judge",
   "metadata": {},
   "outputs": [],
   "source": [
    "rec19 = record[record.Year == 2019]"
   ]
  },
  {
   "cell_type": "code",
   "execution_count": 9,
   "id": "affecting-mercury",
   "metadata": {},
   "outputs": [],
   "source": [
    "rec19_coyo = rec19[rec19.Species == 'Coyote']"
   ]
  },
  {
   "cell_type": "code",
   "execution_count": 10,
   "id": "hairy-timothy",
   "metadata": {},
   "outputs": [],
   "source": [
    "rec19_coyo = rec19_coyo.drop(['Time_Seen','Species','Month','Hour','Year','Media'],axis=1)"
   ]
  },
  {
   "cell_type": "code",
   "execution_count": 11,
   "id": "atomic-doctrine",
   "metadata": {},
   "outputs": [],
   "source": [
    "rec19_king = rec19_coyo[(rec19_coyo['Latitude']>minLat)&(rec19_coyo['Latitude']<maxLat)&(rec19_coyo['Longitude']>minLon)&(rec19_coyo['Longitude']<maxLon)]"
   ]
  },
  {
   "cell_type": "code",
   "execution_count": 12,
   "id": "interior-serum",
   "metadata": {},
   "outputs": [],
   "source": [
    "rec19_king_numpy = rec19_king.to_numpy()"
   ]
  },
  {
   "cell_type": "code",
   "execution_count": 13,
   "id": "liable-sellers",
   "metadata": {},
   "outputs": [],
   "source": [
    "north1 = [(47.777306,-122.391939),(47.77445,-122.322277),(47.753421,-122.33223)\n",
    "         ,(47.741782,-122.330018),(47.731175,-122.323849),(47.714885,-122.32664)\n",
    "         ,(47.708027,-122.337208),(47.723558,-122.368096),(47.777306,-122.391939)]\n",
    "\n",
    "north2 = [(47.776936,-122.316294),(47.769153,-122.256715),(47.750237,-122.283654),\n",
    "          (47.725728,-122.283476),(47.716051,-122.317827),\n",
    "          (47.742956,-122.328801),(47.754329,-122.328989),(47.758325,-122.325363)\n",
    "         ,(47.776936,-122.316294)]\n",
    "\n",
    "north3 = [(47.71803,-122.367792),(47.711216,-122.348759),(47.683718,-122.366719)\n",
    "         ,(47.670744,-122.406759),(47.699561,-122.397714),(47.71803,-122.367792)]\n",
    "\n",
    "north4 = [(47.701782,-122.331078),(47.688784,-122.329232),(47.683006,-122.322881)\n",
    "         ,(47.675502,-122.320817),(47.656121,-122.323046),(47.646367,-122.333264)\n",
    "         ,(47.656299,-122.36872),(47.663706,-122.372928),(47.677638,-122.371214),\n",
    "         (47.687869,-122.360551),(47.688389,-122.345874),(47.701782,-122.331078)]\n",
    "\n",
    "north5 = [(47.712197,-122.32832),(47.724295,-122.283731),(47.674963,-122.247682)\n",
    "         ,(47.656755,-122.277294),(47.649412,-122.296477),(47.65317,-122.312184)\n",
    "         ,(47.664603,-122.320874),(47.677662,-122.318795),(47.69062,-122.326734)\n",
    "         ,(47.712197,-122.32832)]\n",
    "#(47.728935,-122.325037)"
   ]
  },
  {
   "cell_type": "code",
   "execution_count": 14,
   "id": "breeding-rebate",
   "metadata": {},
   "outputs": [],
   "source": [
    "polygon_n1= Polygon(north1)\n",
    "polygon_n2= Polygon(north2)\n",
    "polygon_n3= Polygon(north3)\n",
    "polygon_n4= Polygon(north4)\n",
    "polygon_n5= Polygon(north5)"
   ]
  },
  {
   "cell_type": "code",
   "execution_count": 15,
   "id": "verified-fitting",
   "metadata": {},
   "outputs": [
    {
     "data": {
      "text/plain": [
       "Lat      43\n",
       "Long     43\n",
       "Label    43\n",
       "dtype: int64"
      ]
     },
     "execution_count": 15,
     "metadata": {},
     "output_type": "execute_result"
    }
   ],
   "source": [
    "p_in_north1 = []\n",
    "for p in rec19_king_numpy:\n",
    "    point = Point(p[0],p[1])\n",
    "    if (polygon_n1.contains(point)):\n",
    "        p_in_north1.append(p)\n",
    "df_n1 = pd.DataFrame( p_in_north1, columns=['Lat','Long'])\n",
    "df_n1['Label']=\"n1\"\n",
    "df_n1.count()"
   ]
  },
  {
   "cell_type": "code",
   "execution_count": 16,
   "id": "vital-banner",
   "metadata": {},
   "outputs": [
    {
     "data": {
      "text/plain": [
       "Lat      61\n",
       "Long     61\n",
       "Label    61\n",
       "dtype: int64"
      ]
     },
     "execution_count": 16,
     "metadata": {},
     "output_type": "execute_result"
    }
   ],
   "source": [
    "p_in_north2 = []\n",
    "for p in rec19_king_numpy:\n",
    "    point = Point(p[0],p[1])\n",
    "    if (polygon_n2.contains(point)):\n",
    "        p_in_north2.append(p)\n",
    "        \n",
    "df_n2 = pd.DataFrame( p_in_north2, columns=['Lat','Long'])\n",
    "df_n2['Label']=\"n2\"\n",
    "df_n2.count()"
   ]
  },
  {
   "cell_type": "code",
   "execution_count": 17,
   "id": "forward-craft",
   "metadata": {},
   "outputs": [
    {
     "data": {
      "text/plain": [
       "Lat      88\n",
       "Long     88\n",
       "Label    88\n",
       "dtype: int64"
      ]
     },
     "execution_count": 17,
     "metadata": {},
     "output_type": "execute_result"
    }
   ],
   "source": [
    "p_in_north3 = []\n",
    "for p in rec19_king_numpy:\n",
    "    point = Point(p[0],p[1])\n",
    "    if (polygon_n3.contains(point)):\n",
    "        p_in_north3.append(p)\n",
    "        \n",
    "df_n3 = pd.DataFrame( p_in_north3, columns=['Lat','Long'])\n",
    "df_n3['Label']=\"n3\"\n",
    "df_n3.count()"
   ]
  },
  {
   "cell_type": "code",
   "execution_count": 18,
   "id": "developmental-slide",
   "metadata": {},
   "outputs": [
    {
     "data": {
      "text/plain": [
       "Lat      232\n",
       "Long     232\n",
       "Label    232\n",
       "dtype: int64"
      ]
     },
     "execution_count": 18,
     "metadata": {},
     "output_type": "execute_result"
    }
   ],
   "source": [
    "p_in_north4 = []\n",
    "for p in rec19_king_numpy:\n",
    "    point = Point(p[0],p[1])\n",
    "    if (polygon_n4.contains(point)):\n",
    "        p_in_north4.append(p)\n",
    "        \n",
    "df_n4 = pd.DataFrame( p_in_north4, columns=['Lat','Long'])\n",
    "df_n4['Label']=\"n4\"\n",
    "df_n4.count()"
   ]
  },
  {
   "cell_type": "code",
   "execution_count": 19,
   "id": "turkish-friendship",
   "metadata": {},
   "outputs": [
    {
     "data": {
      "text/plain": [
       "Lat      455\n",
       "Long     455\n",
       "Label    455\n",
       "dtype: int64"
      ]
     },
     "execution_count": 19,
     "metadata": {},
     "output_type": "execute_result"
    }
   ],
   "source": [
    "p_in_north5 = []\n",
    "for p in rec19_king_numpy:\n",
    "    point = Point(p[0],p[1])\n",
    "    if (polygon_n5.contains(point)):\n",
    "        p_in_north5.append(p)\n",
    "        \n",
    "df_n5 = pd.DataFrame( p_in_north5, columns=['Lat','Long'])\n",
    "df_n5['Label']=\"n5\"\n",
    "df_n5.count()"
   ]
  },
  {
   "cell_type": "code",
   "execution_count": 20,
   "id": "hazardous-faith",
   "metadata": {},
   "outputs": [],
   "source": [
    "frames = [df_n1,df_n2,df_n3,df_n4,df_n5]\n",
    "labeled_df = pd.concat(frames)"
   ]
  },
  {
   "cell_type": "code",
   "execution_count": 21,
   "id": "sonic-observer",
   "metadata": {},
   "outputs": [],
   "source": [
    "north_side = ([47.777104,-122.389053],[47.774561,-122.268551],[47.7330218,-122.2867455],\n",
    "              [47.680809,-122.24555],[47.651215,-122.27679],\n",
    "              [47.650981,-122.31833],[47.645201,-122.334468],[47.670876,-122.408617],[47.695826,-122.400731],\n",
    "              [47.7461816,-122.3773824],[47.777104,-122.389053])"
   ]
  },
  {
   "cell_type": "code",
   "execution_count": 22,
   "id": "documented-copper",
   "metadata": {},
   "outputs": [],
   "source": [
    "north_region = Polygon(north_side)"
   ]
  },
  {
   "cell_type": "code",
   "execution_count": 23,
   "id": "seeing-therapist",
   "metadata": {},
   "outputs": [],
   "source": [
    "p_in_NorthSeattle_2019 = []\n",
    "for p in rec19_king_numpy:\n",
    "    point = Point(p[0],p[1])\n",
    "    if (north_region.contains(point)):\n",
    "        p_in_NorthSeattle_2019.append(p)"
   ]
  },
  {
   "cell_type": "code",
   "execution_count": 24,
   "id": "embedded-reset",
   "metadata": {},
   "outputs": [
    {
     "data": {
      "text/plain": [
       "Lat     879\n",
       "Long    879\n",
       "dtype: int64"
      ]
     },
     "execution_count": 24,
     "metadata": {},
     "output_type": "execute_result"
    }
   ],
   "source": [
    "df19 = pd.DataFrame(np.array(p_in_NorthSeattle_2019 ), columns=['Lat','Long'])\n",
    "df19.count()"
   ]
  },
  {
   "cell_type": "code",
   "execution_count": 25,
   "id": "lined-order",
   "metadata": {},
   "outputs": [
    {
     "data": {
      "text/plain": [
       "KMeans(n_clusters=5)"
      ]
     },
     "execution_count": 25,
     "metadata": {},
     "output_type": "execute_result"
    }
   ],
   "source": [
    "coyo19_kmeans5 = KMeans(n_clusters=5)\n",
    "coyo19_kmeans5.fit(df19)"
   ]
  },
  {
   "cell_type": "code",
   "execution_count": 26,
   "id": "legitimate-bahrain",
   "metadata": {},
   "outputs": [
    {
     "data": {
      "text/plain": [
       "Text(0.5, 1.0, 'Coyote 2019 Data North Seattle Clusters K = 5')"
      ]
     },
     "execution_count": 26,
     "metadata": {},
     "output_type": "execute_result"
    },
    {
     "data": {
      "image/png": "[encoded data removed]",
      "text/plain": [
       "<Figure size 432x288 with 1 Axes>"
      ]
     },
     "metadata": {
      "needs_background": "light"
     },
     "output_type": "display_data"
    }
   ],
   "source": [
    "plt.xlim()\n",
    "plt.scatter(df19.iloc[:,0], df19.iloc[:,1], c=coyo19_kmeans5.labels_, cmap='rainbow',marker='.')\n",
    "#cluster centroids\n",
    "plt.scatter(coyo19_kmeans5.cluster_centers_[:,0] ,coyo19_kmeans5.cluster_centers_[:,1], color='black',marker=\"x\")\n",
    "plt.title(\"Coyote 2019 Data North Seattle Clusters K = 5\")"
   ]
  },
  {
   "cell_type": "code",
   "execution_count": 27,
   "id": "signal-sleeve",
   "metadata": {},
   "outputs": [
    {
     "data": {
      "text/plain": [
       "879"
      ]
     },
     "execution_count": 27,
     "metadata": {},
     "output_type": "execute_result"
    }
   ],
   "source": [
    "labeled_data = labeled_df.to_numpy()\n",
    "len(labeled_data)\n"
   ]
  },
  {
   "cell_type": "code",
   "execution_count": 28,
   "id": "worse-collectible",
   "metadata": {},
   "outputs": [],
   "source": [
    "assigned_label = {}\n",
    "for i in labeled_data:\n",
    "    key = tuple((i[0],i[1]))\n",
    "    assigned_label[key] = set([i[2]])"
   ]
  },
  {
   "cell_type": "code",
   "execution_count": 29,
   "id": "proprietary-novel",
   "metadata": {},
   "outputs": [],
   "source": [
    "clusNorth_2019 = df19.copy()\n",
    "clusNorth_2019['labels'] = coyo19_kmeans5.labels_\n",
    "north_clus_output = clusNorth_2019.to_numpy()\n",
    "cluster_output = {}\n",
    "\n",
    "for i in north_clus_output:\n",
    "    key = tuple((i[0],i[1]))\n",
    "    cluster_output[key] = set([str(int(i[2]))])"
   ]
  },
  {
   "cell_type": "code",
   "execution_count": 30,
   "id": "compressed-equality",
   "metadata": {},
   "outputs": [],
   "source": [
    "import bcubed"
   ]
  },
  {
   "cell_type": "markdown",
   "id": "proof-identifier",
   "metadata": {},
   "source": [
    "# Kmeans"
   ]
  },
  {
   "cell_type": "code",
   "execution_count": 31,
   "id": "illegal-ready",
   "metadata": {},
   "outputs": [
    {
     "name": "stdout",
     "output_type": "stream",
     "text": [
      "Kmeans:\n",
      "Precision:  0.9340823307462846\n",
      "Recall:  0.927456358886209\n",
      "f1 score:  0.9307575525544648\n"
     ]
    }
   ],
   "source": [
    "precision_k = bcubed.precision(cluster_output,assigned_label)\n",
    "recall_k = bcubed.recall(cluster_output, assigned_label)\n",
    "fscore_k = bcubed.fscore(precision_k,recall_k)\n",
    "print(\"Kmeans:\")\n",
    "print(\"Precision: \", precision_k)\n",
    "print(\"Recall: \", recall_k)\n",
    "print(\"f1 score: \", fscore_k)"
   ]
  },
  {
   "cell_type": "markdown",
   "id": "composite-survival",
   "metadata": {},
   "source": [
    "# Hierarchical"
   ]
  },
  {
   "cell_type": "code",
   "execution_count": 32,
   "id": "romance-yahoo",
   "metadata": {
    "scrolled": true
   },
   "outputs": [
    {
     "data": {
      "text/plain": [
       "array([1, 1, 1, 0, 3, 2, 2, 2, 2, 2, 2, 2, 1, 0, 2, 3, 1, 1, 1, 1, 4, 2,\n",
       "       2, 1, 2, 1, 2, 2, 1, 2, 2, 2, 3, 2, 3, 2, 2, 1, 3, 0, 1, 2, 1, 1,\n",
       "       1, 3, 2, 1, 2, 2, 2, 1, 2, 1, 2, 1, 1, 3, 2, 4, 2, 1, 2, 2, 2, 2,\n",
       "       0, 2, 3, 4, 2, 2, 1, 2, 0, 2, 2, 1, 2, 2, 0, 2, 1, 2, 1, 2, 4, 1,\n",
       "       1, 1, 1, 3, 2, 2, 3, 1, 2, 1, 2, 2, 2, 3, 1, 2, 2, 1, 1, 2, 2, 1,\n",
       "       0, 1, 1, 2, 3, 0, 0, 0, 2, 2, 2, 2, 2, 0, 2, 2, 2, 2, 4, 0, 2, 1,\n",
       "       1, 2, 1, 2, 4, 2, 2, 2, 2, 2, 1, 2, 2, 2, 1, 1, 2, 3, 1, 1, 2, 2,\n",
       "       2, 2, 1, 2, 1, 1, 2, 2, 2, 4, 1, 2, 3, 0, 2, 3, 1, 2, 2, 4, 1, 2,\n",
       "       4, 2, 1, 1, 2, 2, 2, 1, 2, 3, 2, 4, 2, 2, 2, 1, 1, 2, 0, 1, 2, 2,\n",
       "       2, 2, 4, 0, 3, 1, 2, 2, 2, 1, 2, 4, 2, 3, 0, 3, 2, 2, 2, 2, 2, 3,\n",
       "       0, 3, 4, 4, 1, 2, 2, 1, 2, 4, 2, 3, 0, 1, 3, 4, 2, 2, 1, 2, 4, 1,\n",
       "       1, 1, 1, 2, 3, 1, 1, 2, 1, 2, 1, 2, 2, 2, 2, 3, 1, 2, 4, 2, 2, 1,\n",
       "       1, 2, 2, 1, 2, 1, 4, 2, 1, 4, 2, 3, 2, 2, 1, 2, 2, 1, 4, 1, 0, 1,\n",
       "       0, 4, 2, 0, 1, 2, 0, 2, 2, 0, 0, 4, 2, 1, 2, 2, 2, 2, 1, 4, 2, 2,\n",
       "       2, 1, 2, 2, 2, 2, 4, 2, 2, 3, 2, 2, 2, 3, 2, 2, 2, 2, 2, 3, 3, 1,\n",
       "       2, 1, 1, 2, 2, 2, 1, 2, 2, 2, 2, 1, 3, 1, 0, 0, 3, 4, 0, 3, 1, 0,\n",
       "       2, 2, 2, 4, 2, 3, 2, 3, 2, 2, 1, 0, 3, 2, 2, 3, 3, 2, 3, 3, 2, 1,\n",
       "       2, 1, 2, 2, 2, 1, 2, 3, 2, 0, 2, 2, 2, 1, 2, 2, 2, 1, 4, 3, 1, 1,\n",
       "       2, 3, 2, 2, 1, 2, 2, 3, 2, 2, 1, 2, 4, 4, 1, 1, 1, 1, 2, 2, 1, 3,\n",
       "       2, 3, 2, 2, 3, 2, 1, 4, 0, 2, 3, 4, 1, 1, 2, 2, 2, 2, 1, 2, 2, 1,\n",
       "       0, 2, 1, 2, 1, 1, 1, 2, 3, 3, 2, 0, 1, 2, 1, 3, 2, 2, 2, 2, 1, 1,\n",
       "       2, 2, 1, 0, 0, 1, 2, 1, 0, 2, 1, 2, 1, 4, 1, 2, 1, 2, 2, 0, 3, 4,\n",
       "       2, 1, 2, 2, 2, 2, 2, 2, 2, 1, 2, 0, 2, 1, 3, 2, 2, 0, 2, 1, 2, 0,\n",
       "       0, 4, 2, 2, 2, 1, 1, 2, 4, 0, 0, 1, 2, 2, 2, 4, 2, 4, 1, 3, 1, 4,\n",
       "       2, 1, 0, 2, 1, 4, 2, 1, 1, 2, 2, 4, 0, 2, 2, 1, 2, 1, 1, 1, 2, 0,\n",
       "       2, 1, 2, 2, 3, 2, 3, 2, 1, 4, 2, 2, 2, 1, 3, 3, 3, 2, 0, 2, 0, 1,\n",
       "       2, 2, 2, 3, 0, 2, 2, 1, 2, 2, 1, 1, 2, 2, 2, 1, 2, 0, 1, 2, 2, 4,\n",
       "       4, 3, 2, 1, 2, 1, 1, 2, 2, 3, 1, 2, 0, 4, 4, 2, 2, 4, 4, 2, 2, 1,\n",
       "       4, 2, 1, 2, 2, 2, 1, 1, 1, 2, 1, 3, 1, 2, 2, 1, 2, 2, 3, 3, 3, 2,\n",
       "       3, 3, 2, 1, 1, 2, 4, 3, 4, 1, 3, 2, 2, 1, 2, 2, 2, 3, 1, 1, 1, 1,\n",
       "       1, 1, 3, 1, 0, 2, 2, 2, 2, 2, 2, 1, 1, 3, 1, 2, 4, 4, 1, 2, 1, 2,\n",
       "       1, 3, 2, 2, 2, 1, 2, 2, 3, 2, 3, 2, 2, 2, 2, 1, 1, 1, 4, 2, 1, 3,\n",
       "       2, 2, 4, 2, 1, 1, 2, 2, 3, 3, 2, 4, 1, 2, 3, 2, 2, 3, 3, 3, 2, 2,\n",
       "       4, 2, 4, 0, 2, 1, 2, 4, 3, 2, 1, 2, 2, 1, 2, 4, 2, 1, 2, 2, 2, 1,\n",
       "       4, 0, 1, 0, 2, 2, 1, 2, 2, 2, 1, 2, 1, 2, 1, 2, 1, 1, 1, 3, 1, 2,\n",
       "       2, 1, 1, 1, 2, 0, 1, 2, 4, 2, 1, 1, 2, 1, 1, 4, 2, 1, 2, 1, 1, 0,\n",
       "       3, 2, 0, 1, 1, 0, 1, 1, 2, 2, 2, 4, 2, 1, 3, 3, 2, 2, 0, 2, 2, 3,\n",
       "       0, 1, 2, 2, 0, 0, 2, 0, 1, 1, 2, 2, 1, 0, 4, 3, 2, 3, 1, 4, 1, 1,\n",
       "       1, 2, 1, 2, 2, 2, 1, 3, 1, 2, 3, 3, 0, 1, 2, 1, 1, 1, 2, 2, 3, 2,\n",
       "       2, 1, 2, 2, 1, 2, 1, 1, 3, 1, 0, 2, 2, 2, 2, 1, 1, 3, 2, 2, 2],\n",
       "      dtype=int64)"
      ]
     },
     "execution_count": 32,
     "metadata": {},
     "output_type": "execute_result"
    }
   ],
   "source": [
    "hier_NorthSeattle = AgglomerativeClustering(n_clusters =5, affinity='euclidean',linkage='ward')\n",
    "hier_NorthSeattle.fit_predict(df19)"
   ]
  },
  {
   "cell_type": "code",
   "execution_count": 33,
   "id": "separated-violence",
   "metadata": {},
   "outputs": [
    {
     "data": {
      "text/plain": [
       "Text(0.5, 1.0, 'Hierarchical 2019 Coyote North Seattle clusters, N=5')"
      ]
     },
     "execution_count": 33,
     "metadata": {},
     "output_type": "execute_result"
    },
    {
     "data": {
      "image/png": "[encoded data removed]",
      "text/plain": [
       "<Figure size 432x288 with 1 Axes>"
      ]
     },
     "metadata": {
      "needs_background": "light"
     },
     "output_type": "display_data"
    }
   ],
   "source": [
    "plt.scatter(df19.iloc[:,0],df19.iloc[:,1],c=hier_NorthSeattle.labels_,marker='.')\n",
    "plt.title('Hierarchical 2019 Coyote North Seattle clusters, N=5')"
   ]
  },
  {
   "cell_type": "code",
   "execution_count": 34,
   "id": "applicable-custody",
   "metadata": {},
   "outputs": [],
   "source": [
    "HierClusNorthSea19 = df19.copy()\n",
    "HierClusNorthSea19[\"labels\"]= hier_NorthSeattle.labels_"
   ]
  },
  {
   "cell_type": "code",
   "execution_count": 35,
   "id": "visible-thermal",
   "metadata": {},
   "outputs": [],
   "source": [
    "north_HierClus_output = HierClusNorthSea19.to_numpy()\n",
    "hier_cluster_output = {}\n",
    "\n",
    "for i in north_HierClus_output:\n",
    "    key = tuple((i[0],i[1]))\n",
    "    hier_cluster_output[key] = set([str(int(i[2]))])"
   ]
  },
  {
   "cell_type": "markdown",
   "id": "opponent-terrorism",
   "metadata": {},
   "source": [
    "# Hierarchical"
   ]
  },
  {
   "cell_type": "code",
   "execution_count": 36,
   "id": "developed-genealogy",
   "metadata": {},
   "outputs": [
    {
     "name": "stdout",
     "output_type": "stream",
     "text": [
      "Hierachical:\n",
      "Precision:  0.8663731275339136\n",
      "Recall:  0.8274671960827178\n",
      "f1 score:  0.8464733453401455\n"
     ]
    }
   ],
   "source": [
    "precision_h = bcubed.precision(hier_cluster_output,assigned_label)\n",
    "recall_h = bcubed.recall(hier_cluster_output, assigned_label)\n",
    "fscore_h = bcubed.fscore(precision_h,recall_h)\n",
    "print(\"Hierachical:\")\n",
    "print(\"Precision: \", precision_h)\n",
    "print(\"Recall: \", recall_h)\n",
    "print(\"f1 score: \", fscore_h)"
   ]
  },
  {
   "cell_type": "markdown",
   "id": "generic-marine",
   "metadata": {},
   "source": [
    "# North Seattle I5 West Kmeans"
   ]
  },
  {
   "cell_type": "code",
   "execution_count": 37,
   "id": "modern-encoding",
   "metadata": {},
   "outputs": [
    {
     "data": {
      "text/plain": [
       "Lat     363\n",
       "Long    363\n",
       "dtype: int64"
      ]
     },
     "execution_count": 37,
     "metadata": {},
     "output_type": "execute_result"
    }
   ],
   "source": [
    "north_I5West = [(47.777582,-122.393571),(47.777063,-122.31907),(47.75349,-122.33195)\n",
    "               ,(47.743568,-122.330726),(47.731228,-122.324207),(47.696001,-122.331076)\n",
    "               ,(47.68359,-122.32384),(47.675427,-122.321018),(47.653452,-122.323363)\n",
    "               ,(47.645024,-122.334349),(47.668713,-122.406661),(47.695749,-122.403716)\n",
    "               ,(47.722332,-122.374118),(47.777582,-122.393571)]\n",
    "\n",
    "polygon_NorthI5West = Polygon(north_I5West)\n",
    "p_in_NorthI5West_2019 = []\n",
    "for p in rec19_king_numpy:\n",
    "    point = Point(p[0],p[1])\n",
    "    if (polygon_NorthI5West.contains(point)):\n",
    "        p_in_NorthI5West_2019.append(p)\n",
    "        \n",
    "df19_NorthI5West = pd.DataFrame(np.array(p_in_NorthI5West_2019) , columns=['Lat','Long'])\n",
    "\n",
    "df19_NorthI5West.count()"
   ]
  },
  {
   "cell_type": "code",
   "execution_count": 38,
   "id": "every-bruce",
   "metadata": {},
   "outputs": [
    {
     "data": {
      "text/plain": [
       "Lat      43\n",
       "Long     43\n",
       "Label    43\n",
       "dtype: int64"
      ]
     },
     "execution_count": 38,
     "metadata": {},
     "output_type": "execute_result"
    }
   ],
   "source": [
    "#north seattle subregion 1\n",
    "#North Seattle I5 West n1\n",
    "p_in_northI5West_n1 = []\n",
    "for p in rec19_king_numpy:\n",
    "    point = Point(p[0],p[1])\n",
    "    if (polygon_n1.contains(point)):\n",
    "        p_in_northI5West_n1.append(p)\n",
    "df_I5Westn1 = pd.DataFrame( p_in_northI5West_n1, columns=['Lat','Long'])\n",
    "df_I5Westn1['Label']=\"I5West_n1\"\n",
    "df_I5Westn1.count()"
   ]
  },
  {
   "cell_type": "code",
   "execution_count": 39,
   "id": "exposed-radar",
   "metadata": {},
   "outputs": [
    {
     "data": {
      "text/plain": [
       "Lat      88\n",
       "Long     88\n",
       "Label    88\n",
       "dtype: int64"
      ]
     },
     "execution_count": 39,
     "metadata": {},
     "output_type": "execute_result"
    }
   ],
   "source": [
    "#north seattle subregion 3\n",
    "#North Seattle I5 West n2\n",
    "p_in_northI5West_n2 = []\n",
    "for p in rec19_king_numpy:\n",
    "    point = Point(p[0],p[1])\n",
    "    if (polygon_n3.contains(point)):\n",
    "        p_in_northI5West_n2.append(p)\n",
    "df_I5Westn2 = pd.DataFrame( p_in_northI5West_n2, columns=['Lat','Long'])\n",
    "df_I5Westn2['Label']=\"I5West_n2\"\n",
    "df_I5Westn2.count()"
   ]
  },
  {
   "cell_type": "code",
   "execution_count": 40,
   "id": "static-auckland",
   "metadata": {},
   "outputs": [
    {
     "data": {
      "text/plain": [
       "Lat      232\n",
       "Long     232\n",
       "Label    232\n",
       "dtype: int64"
      ]
     },
     "execution_count": 40,
     "metadata": {},
     "output_type": "execute_result"
    }
   ],
   "source": [
    "#north seattle subregion 4\n",
    "#North Seattle I5 West n3\n",
    "p_in_northI5West_n3 = []\n",
    "for p in rec19_king_numpy:\n",
    "    point = Point(p[0],p[1])\n",
    "    if (polygon_n4.contains(point)):\n",
    "        p_in_northI5West_n3.append(p)\n",
    "df_I5Westn3 = pd.DataFrame( p_in_northI5West_n3, columns=['Lat','Long'])\n",
    "df_I5Westn3['Label']=\"I5West_n3\"\n",
    "df_I5Westn3.count()"
   ]
  },
  {
   "cell_type": "code",
   "execution_count": 41,
   "id": "cleared-annex",
   "metadata": {},
   "outputs": [
    {
     "data": {
      "text/plain": [
       "KMeans(n_clusters=3)"
      ]
     },
     "execution_count": 41,
     "metadata": {},
     "output_type": "execute_result"
    }
   ],
   "source": [
    "coyo19_kmeans_NorthI5West = KMeans(n_clusters=3)\n",
    "coyo19_kmeans_NorthI5West.fit(df19_NorthI5West)"
   ]
  },
  {
   "cell_type": "code",
   "execution_count": 42,
   "id": "paperback-drunk",
   "metadata": {},
   "outputs": [
    {
     "data": {
      "image/png": "[encoded data removed]",
      "text/plain": [
       "<Figure size 432x288 with 1 Axes>"
      ]
     },
     "metadata": {
      "needs_background": "light"
     },
     "output_type": "display_data"
    }
   ],
   "source": [
    "plt.xlim()\n",
    "plt.scatter(df19_NorthI5West.iloc[:,0], df19_NorthI5West.iloc[:,1], c=coyo19_kmeans_NorthI5West.labels_, cmap='rainbow',marker='.')\n",
    "#cluster centroids\n",
    "plt.scatter(coyo19_kmeans_NorthI5West.cluster_centers_[:,0] ,coyo19_kmeans_NorthI5West.cluster_centers_[:,1], color='black',marker=\"x\")\n",
    "plt.title(\"Coyote 2019 Data North Seatthe I5 West Clusters K = 3\")\n",
    "plt.show()"
   ]
  },
  {
   "cell_type": "code",
   "execution_count": 43,
   "id": "serial-bridal",
   "metadata": {},
   "outputs": [
    {
     "data": {
      "text/plain": [
       "363"
      ]
     },
     "execution_count": 43,
     "metadata": {},
     "output_type": "execute_result"
    }
   ],
   "source": [
    "frames_NorthI5West = [df_I5Westn1,df_I5Westn2,df_I5Westn3]\n",
    "labeled_NorthI5West_df = pd.concat(frames_NorthI5West)\n",
    "\n",
    "labeled_data_NorthI5West = labeled_NorthI5West_df.to_numpy()\n",
    "len(labeled_data_NorthI5West)\n"
   ]
  },
  {
   "cell_type": "code",
   "execution_count": 44,
   "id": "explicit-fossil",
   "metadata": {},
   "outputs": [],
   "source": [
    "assigned_label_northI5West = {}\n",
    "for i in labeled_data_NorthI5West:\n",
    "    key = tuple((i[0],i[1]))\n",
    "    assigned_label_northI5West[key] = set([i[2]])"
   ]
  },
  {
   "cell_type": "code",
   "execution_count": 45,
   "id": "ecological-patrol",
   "metadata": {},
   "outputs": [],
   "source": [
    "clusNorth_I5West = df19_NorthI5West.copy()\n",
    "clusNorth_I5West['labels'] = coyo19_kmeans_NorthI5West.labels_\n",
    "northI5West_clus_output = clusNorth_I5West.to_numpy()\n",
    "cluster_output_nI5West = {}\n",
    "\n",
    "for i in northI5West_clus_output:\n",
    "    key = tuple((i[0],i[1]))\n",
    "    cluster_output_nI5West[key] = set([str(int(i[2]))])"
   ]
  },
  {
   "cell_type": "code",
   "execution_count": 46,
   "id": "secondary-venezuela",
   "metadata": {},
   "outputs": [
    {
     "name": "stdout",
     "output_type": "stream",
     "text": [
      "Kmeans:\n",
      "Precision:  0.9735457380085478\n",
      "Recall:  0.9728943755019559\n",
      "f1 score:  0.9732199477683091\n"
     ]
    }
   ],
   "source": [
    "I5West_precision_k = bcubed.precision(cluster_output_nI5West,assigned_label_northI5West)\n",
    "I5West_recall_k = bcubed.recall(cluster_output_nI5West, assigned_label_northI5West)\n",
    "I5West_fscore_k = bcubed.fscore(I5West_precision_k,I5West_recall_k)\n",
    "print(\"Kmeans:\")\n",
    "print(\"Precision: \", I5West_precision_k)\n",
    "print(\"Recall: \", I5West_recall_k)\n",
    "print(\"f1 score: \", I5West_fscore_k)"
   ]
  },
  {
   "cell_type": "markdown",
   "id": "rocky-russell",
   "metadata": {},
   "source": [
    "# North Seattle I5 East Kmeans"
   ]
  },
  {
   "cell_type": "code",
   "execution_count": 47,
   "id": "announced-constitution",
   "metadata": {},
   "outputs": [],
   "source": [
    "north_I5East = [(47.776966,-122.316826),(47.77538,-122.267817),(47.753716,-122.274812)\n",
    "               ,(47.734184,-122.289579),(47.680384,-122.248595),(47.646914,-122.277606)\n",
    "               ,(47.654357,-122.321337),(47.680037,-122.320769),(47.682739,-122.320448)\n",
    "               ,(47.685447,-122.323816),(47.695406,-122.328655),(47.739373,-122.321528)\n",
    "               ,(47.743557,-122.328866),(47.756354,-122.328308),(47.776966,-122.316826)]\n",
    "\n",
    "polygon_NorthI5East = Polygon(north_I5East)\n",
    "\n"
   ]
  },
  {
   "cell_type": "code",
   "execution_count": 48,
   "id": "sweet-crest",
   "metadata": {},
   "outputs": [
    {
     "data": {
      "text/plain": [
       "Lat     516\n",
       "Long    516\n",
       "dtype: int64"
      ]
     },
     "execution_count": 48,
     "metadata": {},
     "output_type": "execute_result"
    }
   ],
   "source": [
    "p_in_NorthI5East_2019 = []\n",
    "for p in rec19_king_numpy:\n",
    "    point = Point(p[0],p[1])\n",
    "    if (polygon_NorthI5East.contains(point)):\n",
    "        p_in_NorthI5East_2019.append(p)\n",
    "        \n",
    "df19_NorthI5East = pd.DataFrame(np.array(p_in_NorthI5East_2019) , columns=['Lat','Long'])\n",
    "\n",
    "df19_NorthI5East.count()"
   ]
  },
  {
   "cell_type": "code",
   "execution_count": 49,
   "id": "distributed-basket",
   "metadata": {},
   "outputs": [
    {
     "data": {
      "text/plain": [
       "Lat      61\n",
       "Long     61\n",
       "Label    61\n",
       "dtype: int64"
      ]
     },
     "execution_count": 49,
     "metadata": {},
     "output_type": "execute_result"
    }
   ],
   "source": [
    "#north seattle subregion 2\n",
    "#North Seattle I5 East n1\n",
    "p_in_northI5East_n1 = []\n",
    "for p in rec19_king_numpy:\n",
    "    point = Point(p[0],p[1])\n",
    "    if (polygon_n2.contains(point)):\n",
    "        p_in_northI5East_n1.append(p)\n",
    "df_I5Eastn1 = pd.DataFrame( p_in_northI5East_n1, columns=['Lat','Long'])\n",
    "df_I5Eastn1['Label']=\"I5East_n1\"\n",
    "df_I5Eastn1.count()"
   ]
  },
  {
   "cell_type": "code",
   "execution_count": 50,
   "id": "central-saver",
   "metadata": {},
   "outputs": [
    {
     "data": {
      "text/plain": [
       "Lat      455\n",
       "Long     455\n",
       "Label    455\n",
       "dtype: int64"
      ]
     },
     "execution_count": 50,
     "metadata": {},
     "output_type": "execute_result"
    }
   ],
   "source": [
    "#north seattle subregion 5\n",
    "#North Seattle I5 East n2\n",
    "p_in_northI5East_n2 = []\n",
    "for p in rec19_king_numpy:\n",
    "    point = Point(p[0],p[1])\n",
    "    if (polygon_n5.contains(point)):\n",
    "        p_in_northI5East_n2.append(p)\n",
    "df_I5Eastn2 = pd.DataFrame( p_in_northI5East_n2, columns=['Lat','Long'])\n",
    "df_I5Eastn2['Label']=\"I5East_n2\"\n",
    "df_I5Eastn2.count()"
   ]
  },
  {
   "cell_type": "code",
   "execution_count": 51,
   "id": "closed-tomato",
   "metadata": {},
   "outputs": [
    {
     "data": {
      "text/plain": [
       "KMeans(n_clusters=2)"
      ]
     },
     "execution_count": 51,
     "metadata": {},
     "output_type": "execute_result"
    }
   ],
   "source": [
    "coyo19_kmeans_NorthI5East = KMeans(n_clusters=2)\n",
    "coyo19_kmeans_NorthI5East.fit(df19_NorthI5East)"
   ]
  },
  {
   "cell_type": "code",
   "execution_count": 52,
   "id": "foster-badge",
   "metadata": {},
   "outputs": [
    {
     "data": {
      "image/png": "[encoded data removed]",
      "text/plain": [
       "<Figure size 432x288 with 1 Axes>"
      ]
     },
     "metadata": {
      "needs_background": "light"
     },
     "output_type": "display_data"
    }
   ],
   "source": [
    "plt.xlim()\n",
    "plt.scatter(df19_NorthI5East.iloc[:,0], df19_NorthI5East.iloc[:,1], c=coyo19_kmeans_NorthI5East.labels_, cmap='rainbow',marker='.')\n",
    "#cluster centroids\n",
    "plt.scatter(coyo19_kmeans_NorthI5East.cluster_centers_[:,0] ,coyo19_kmeans_NorthI5East.cluster_centers_[:,1], color='black',marker=\"x\")\n",
    "plt.title(\"Coyote 2019 Data North Seatthe I5 East Clusters K = 2\")\n",
    "plt.show()"
   ]
  },
  {
   "cell_type": "code",
   "execution_count": 53,
   "id": "premium-toyota",
   "metadata": {},
   "outputs": [
    {
     "data": {
      "text/plain": [
       "array([[47.7459897965754, -122.3022840036133, 'I5East_n1'],\n",
       "       [47.770245, -122.309741, 'I5East_n1'],\n",
       "       [47.756931385414845, -122.2935762491949, 'I5East_n1'],\n",
       "       ...,\n",
       "       [47.688601736374174, -122.2988629851244, 'I5East_n2'],\n",
       "       [47.70163724652119, -122.30501954709226, 'I5East_n2'],\n",
       "       [47.70195296735662, -122.3225764566266, 'I5East_n2']], dtype=object)"
      ]
     },
     "execution_count": 53,
     "metadata": {},
     "output_type": "execute_result"
    }
   ],
   "source": [
    "frames_NorthI5East = [df_I5Eastn1,df_I5Eastn2]\n",
    "labeled_NorthI5East_df = pd.concat(frames_NorthI5East)\n",
    "\n",
    "labeled_data_NorthI5East = labeled_NorthI5East_df.to_numpy()\n",
    "len(labeled_data_NorthI5East)\n",
    "labeled_data_NorthI5East"
   ]
  },
  {
   "cell_type": "code",
   "execution_count": 54,
   "id": "dramatic-brake",
   "metadata": {},
   "outputs": [],
   "source": [
    "assigned_label_northI5East = {}\n",
    "for i in labeled_data_NorthI5East:\n",
    "    key = tuple((i[0],i[1]))\n",
    "    assigned_label_northI5East[key] = set([i[2]])"
   ]
  },
  {
   "cell_type": "code",
   "execution_count": 55,
   "id": "another-gasoline",
   "metadata": {},
   "outputs": [],
   "source": [
    "clusNorth_I5East = df19_NorthI5East.copy()\n",
    "clusNorth_I5East['labels'] = coyo19_kmeans_NorthI5East.labels_\n",
    "northI5East_clus_output = clusNorth_I5East.to_numpy()\n",
    "cluster_output_nI5East = {}\n",
    "\n",
    "for i in northI5East_clus_output:\n",
    "    key = tuple((i[0],i[1]))\n",
    "    cluster_output_nI5East[key] = set([str(int(i[2]))])"
   ]
  },
  {
   "cell_type": "code",
   "execution_count": 56,
   "id": "extra-compiler",
   "metadata": {},
   "outputs": [
    {
     "name": "stdout",
     "output_type": "stream",
     "text": [
      "Kmeans:\n",
      "Precision:  0.9503901186875746\n",
      "Recall:  0.9396042617960425\n",
      "f1 score:  0.9449664137722893\n"
     ]
    }
   ],
   "source": [
    "I5East_precision_k = bcubed.precision(cluster_output_nI5East,assigned_label_northI5East)\n",
    "I5East_recall_k = bcubed.recall(cluster_output_nI5East, assigned_label_northI5East)\n",
    "I5East_fscore_k = bcubed.fscore(I5East_precision_k,I5East_recall_k)\n",
    "print(\"Kmeans:\")\n",
    "print(\"Precision: \", I5East_precision_k)\n",
    "print(\"Recall: \", I5East_recall_k)\n",
    "print(\"f1 score: \", I5East_fscore_k)"
   ]
  },
  {
   "cell_type": "markdown",
   "id": "helpful-clerk",
   "metadata": {},
   "source": [
    "# North Seattle I5 West Hierarchical "
   ]
  },
  {
   "cell_type": "code",
   "execution_count": 57,
   "id": "behavioral-chuck",
   "metadata": {},
   "outputs": [
    {
     "data": {
      "text/plain": [
       "array([1, 1, 1, 0, 2, 1, 2, 1, 1, 1, 1, 1, 1, 1, 2, 2, 1, 0, 0, 1, 1, 1,\n",
       "       1, 2, 1, 1, 1, 1, 1, 2, 1, 0, 1, 0, 1, 1, 1, 1, 1, 1, 2, 2, 1, 1,\n",
       "       2, 1, 1, 1, 1, 1, 1, 2, 0, 0, 1, 1, 1, 0, 1, 1, 1, 2, 1, 1, 1, 1,\n",
       "       1, 1, 2, 2, 1, 1, 1, 1, 1, 2, 1, 1, 1, 2, 1, 2, 0, 2, 0, 0, 2, 1,\n",
       "       1, 2, 1, 0, 1, 0, 1, 1, 1, 1, 2, 1, 1, 1, 1, 0, 1, 1, 1, 1, 1, 0,\n",
       "       1, 2, 1, 1, 0, 1, 0, 1, 1, 1, 1, 0, 0, 2, 0, 1, 1, 1, 1, 1, 2, 1,\n",
       "       0, 0, 0, 1, 2, 0, 1, 0, 2, 0, 2, 2, 1, 1, 1, 2, 1, 1, 2, 1, 1, 0,\n",
       "       1, 1, 2, 1, 1, 1, 1, 1, 1, 0, 2, 2, 0, 0, 2, 0, 1, 1, 1, 1, 1, 1,\n",
       "       1, 1, 2, 2, 1, 1, 0, 1, 1, 1, 0, 1, 1, 0, 1, 1, 1, 1, 2, 1, 1, 1,\n",
       "       2, 1, 0, 1, 1, 0, 0, 0, 0, 1, 1, 0, 1, 1, 1, 1, 1, 1, 1, 0, 1, 2,\n",
       "       2, 1, 1, 0, 2, 0, 1, 2, 1, 1, 1, 1, 1, 0, 1, 2, 1, 1, 1, 2, 1, 0,\n",
       "       0, 1, 1, 1, 1, 1, 1, 0, 1, 2, 0, 2, 2, 0, 1, 1, 2, 1, 2, 1, 2, 1,\n",
       "       1, 1, 1, 1, 2, 1, 1, 1, 2, 1, 1, 1, 1, 0, 1, 0, 0, 1, 1, 1, 2, 1,\n",
       "       1, 2, 2, 0, 1, 0, 0, 0, 2, 0, 1, 0, 1, 1, 1, 1, 0, 1, 1, 1, 1, 1,\n",
       "       1, 2, 1, 1, 1, 1, 0, 1, 1, 1, 1, 1, 1, 1, 1, 2, 1, 1, 1, 2, 0, 0,\n",
       "       0, 1, 0, 1, 1, 1, 2, 2, 1, 1, 1, 1, 1, 1, 2, 1, 2, 2, 1, 1, 1, 1,\n",
       "       0, 1, 1, 1, 1, 0, 1, 0, 1, 1, 0], dtype=int64)"
      ]
     },
     "execution_count": 57,
     "metadata": {},
     "output_type": "execute_result"
    }
   ],
   "source": [
    "rec19_NorthI5West= AgglomerativeClustering(n_clusters =3, affinity='euclidean',linkage='ward')\n",
    "rec19_NorthI5West.fit_predict(df19_NorthI5West)"
   ]
  },
  {
   "cell_type": "code",
   "execution_count": 58,
   "id": "tender-neighbor",
   "metadata": {},
   "outputs": [],
   "source": [
    "HierClusNorthI5West19 = df19_NorthI5West.copy()\n",
    "HierClusNorthI5West19[\"labels\"]= rec19_NorthI5West.labels_"
   ]
  },
  {
   "cell_type": "code",
   "execution_count": 59,
   "id": "unauthorized-mozambique",
   "metadata": {},
   "outputs": [],
   "source": [
    "northI5West_HierClus_output = HierClusNorthI5West19.to_numpy()\n",
    "hier_cluster_output_I5West = {}\n",
    "\n",
    "for i in northI5West_HierClus_output:\n",
    "    key = tuple((i[0],i[1]))\n",
    "    hier_cluster_output_I5West[key] = set([str(int(i[2]))])"
   ]
  },
  {
   "cell_type": "code",
   "execution_count": 60,
   "id": "dependent-august",
   "metadata": {},
   "outputs": [
    {
     "name": "stdout",
     "output_type": "stream",
     "text": [
      "Hierachical:\n",
      "Precision:  0.9128990439150867\n",
      "Recall:  0.9013899323816679\n",
      "f1 score:  0.9071079835865299\n"
     ]
    }
   ],
   "source": [
    "I5West_precision_h = bcubed.precision(hier_cluster_output_I5West,assigned_label_northI5West)\n",
    "I5West_recall_h = bcubed.recall(hier_cluster_output_I5West, assigned_label_northI5West)\n",
    "I5West_fscore_h = bcubed.fscore(I5West_precision_h,I5West_recall_h)\n",
    "print(\"Hierachical:\")\n",
    "print(\"Precision: \", I5West_precision_h)\n",
    "print(\"Recall: \", I5West_recall_h)\n",
    "print(\"f1 score: \", I5West_fscore_h)"
   ]
  },
  {
   "cell_type": "markdown",
   "id": "academic-gravity",
   "metadata": {},
   "source": [
    "# North Seattle I5 East Hierarchical"
   ]
  },
  {
   "cell_type": "code",
   "execution_count": 61,
   "id": "comic-reverse",
   "metadata": {},
   "outputs": [
    {
     "data": {
      "text/plain": [
       "array([1, 1, 1, 1, 1, 1, 1, 0, 1, 0, 1, 1, 1, 1, 1, 1, 1, 1, 1, 1, 1, 1,\n",
       "       1, 1, 1, 1, 1, 1, 1, 0, 1, 1, 1, 1, 1, 0, 1, 0, 1, 1, 1, 1, 1, 1,\n",
       "       1, 0, 1, 1, 1, 0, 1, 1, 1, 1, 1, 1, 1, 1, 1, 1, 1, 0, 1, 0, 0, 1,\n",
       "       1, 1, 1, 1, 1, 1, 1, 1, 0, 0, 1, 1, 1, 1, 1, 1, 1, 1, 1, 1, 1, 1,\n",
       "       1, 1, 1, 1, 1, 1, 1, 1, 0, 1, 0, 1, 1, 1, 0, 1, 0, 1, 1, 1, 1, 1,\n",
       "       1, 0, 1, 1, 1, 1, 0, 1, 1, 1, 1, 0, 0, 1, 1, 1, 1, 1, 0, 1, 1, 1,\n",
       "       1, 1, 1, 0, 0, 1, 1, 1, 0, 1, 0, 0, 1, 1, 1, 1, 1, 1, 1, 1, 1, 1,\n",
       "       1, 0, 1, 1, 1, 1, 1, 1, 0, 1, 1, 1, 1, 1, 0, 1, 0, 0, 1, 1, 0, 1,\n",
       "       1, 0, 0, 0, 1, 1, 1, 1, 1, 0, 1, 1, 1, 1, 1, 1, 1, 0, 1, 1, 1, 1,\n",
       "       1, 1, 1, 1, 1, 1, 1, 1, 1, 1, 1, 1, 1, 1, 0, 0, 0, 1, 0, 1, 1, 0,\n",
       "       1, 1, 1, 1, 0, 1, 1, 1, 1, 1, 1, 1, 1, 1, 1, 0, 1, 1, 1, 1, 1, 1,\n",
       "       0, 1, 1, 1, 1, 1, 1, 1, 0, 0, 1, 1, 1, 1, 1, 1, 1, 1, 1, 1, 1, 1,\n",
       "       1, 1, 0, 1, 1, 1, 1, 0, 1, 1, 1, 1, 1, 1, 1, 0, 1, 1, 1, 0, 1, 1,\n",
       "       1, 0, 0, 1, 1, 1, 1, 1, 1, 1, 1, 1, 0, 1, 1, 1, 0, 1, 1, 0, 0, 1,\n",
       "       1, 1, 1, 0, 1, 1, 1, 1, 0, 1, 1, 0, 1, 1, 0, 1, 1, 1, 0, 0, 1, 1,\n",
       "       1, 1, 1, 1, 1, 1, 1, 0, 1, 1, 1, 1, 0, 1, 0, 1, 1, 1, 0, 1, 1, 1,\n",
       "       1, 1, 1, 1, 1, 1, 0, 0, 1, 1, 1, 1, 1, 0, 0, 0, 1, 1, 1, 1, 0, 1,\n",
       "       1, 1, 1, 1, 1, 1, 1, 1, 1, 1, 1, 1, 0, 0, 1, 1, 1, 1, 1, 1, 0, 1,\n",
       "       1, 1, 1, 1, 1, 1, 0, 0, 1, 1, 1, 1, 1, 1, 1, 1, 1, 1, 1, 1, 0, 1,\n",
       "       1, 1, 1, 0, 1, 1, 1, 1, 1, 1, 1, 1, 1, 0, 1, 0, 1, 1, 0, 1, 1, 1,\n",
       "       1, 0, 1, 1, 1, 1, 1, 0, 0, 1, 1, 1, 1, 1, 1, 1, 1, 1, 1, 1, 1, 1,\n",
       "       0, 1, 1, 0, 1, 1, 0, 1, 0, 1, 0, 1, 1, 1, 1, 0, 1, 1, 1, 0, 1, 1,\n",
       "       1, 1, 0, 1, 0, 1, 1, 0, 0, 1, 0, 1, 1, 1, 1, 1, 0, 1, 1, 1, 1, 1,\n",
       "       1, 1, 1, 1, 1, 1, 1, 1, 1, 1], dtype=int64)"
      ]
     },
     "execution_count": 61,
     "metadata": {},
     "output_type": "execute_result"
    }
   ],
   "source": [
    "rec19_NorthI5East= AgglomerativeClustering(n_clusters =2, affinity='euclidean',linkage='ward')\n",
    "rec19_NorthI5East.fit_predict(df19_NorthI5East)"
   ]
  },
  {
   "cell_type": "code",
   "execution_count": 62,
   "id": "narrative-capability",
   "metadata": {},
   "outputs": [],
   "source": [
    "HierClusNorthI5East19 = df19_NorthI5East.copy()\n",
    "HierClusNorthI5East19[\"labels\"]= rec19_NorthI5East.labels_"
   ]
  },
  {
   "cell_type": "code",
   "execution_count": 63,
   "id": "seventh-rachel",
   "metadata": {},
   "outputs": [],
   "source": [
    "northI5East_HierClus_output = HierClusNorthI5East19.to_numpy()\n",
    "hier_cluster_output_I5East = {}\n",
    "\n",
    "for i in northI5East_HierClus_output:\n",
    "    key = tuple((i[0],i[1]))\n",
    "    hier_cluster_output_I5East[key] = set([str(int(i[2]))])"
   ]
  },
  {
   "cell_type": "code",
   "execution_count": 64,
   "id": "satisfactory-birthday",
   "metadata": {},
   "outputs": [
    {
     "name": "stdout",
     "output_type": "stream",
     "text": [
      "Hierachical:\n",
      "Precision:  0.908359524797881\n",
      "Recall:  0.863831267666884\n",
      "f1 score:  0.8855359853349907\n"
     ]
    }
   ],
   "source": [
    "I5East_precision_h = bcubed.precision(hier_cluster_output_I5East,assigned_label_northI5East)\n",
    "I5East_recall_h = bcubed.recall(hier_cluster_output_I5East, assigned_label_northI5East)\n",
    "I5East_fscore_h = bcubed.fscore(I5East_precision_h,I5East_recall_h)\n",
    "print(\"Hierachical:\")\n",
    "print(\"Precision: \", I5East_precision_h)\n",
    "print(\"Recall: \", I5East_recall_h)\n",
    "print(\"f1 score: \", I5East_fscore_h)"
   ]
  },
  {
   "cell_type": "markdown",
   "id": "9792f6a1",
   "metadata": {},
   "source": [
    "# I5 South"
   ]
  },
  {
   "cell_type": "code",
   "execution_count": 65,
   "id": "a800d62d",
   "metadata": {},
   "outputs": [],
   "source": [
    "South_I90 = [(47.577466,-122.171425),(47.56658,-122.175545),(47.55546,-122.183098),(47.545727,-122.18),(47.533675,-122.191681),\n",
    "                  (47.522316,-122.191681),(47.501446,-122.189621),(47.4884455,-122.186188),(47.47755,-122.190308),(47.46643,-122.205757),\n",
    "                 (47.455734,-122.21281),(47.443197,-122.213654),(47.433211,-122.216057),(47.399758,-122.216057),(47.387905,-122.228073),\n",
    "                 (47.376281,-122.235627),(47.364888,-122.24009),(47.351166,-122.24112),(47.331392,-122.241806),(47.331624,-122.243866),\n",
    "                 (47.320221,-122.243866),(47.312773,-122.22773),(47.307186,-122.210907),(47.306022,-122.194771),(47.310445,-122.177605),\n",
    "                 (47.323014,-122.169709),(47.335347,-122.157349),(47.346049,-122.149453),(47.338609,-122.136063),(47.369771,-122.118554),\n",
    "                 (47.382558,-122.082161),(47.394878,-122.052636),(47.405567,-122.0039246),(47.416952,-122.029976),(47.422759,-122.01281),\n",
    "                 (47.433908,-121.997784),(47.447608,-121.965088),(47.460608,-121.965088),(47.471981,-121.944832),(47.478479,-121.927666),\n",
    "                 (47.481959,-121.90947),(47.487527,-121.89402),(47.498894,-121.889557),(47.520229,-121.938652),(47.529503,-121.955475),\n",
    "                 (47.531821,-121.971611),(47.532284,-122.00457),(47.530198,-122.02288),(47.530894,-122.038216),(47.542109,-122.051606),\n",
    "                 (47.561252,-122.100357),(47.572603,-122.11718),(47.58094,-122.154946)]\n",
    "\n",
    "x = []\n",
    "for p in South_I90:\n",
    "    temp = p[1]\n",
    "    temp = temp-0.003 # Moving points over just a bit \n",
    "    t = (p[0],temp)\n",
    "    x.append(t)\n",
    "\n",
    "South_I90 = x\n",
    "\n",
    "I90_South_South = [] #Create array of I90 South points below WA-169\n",
    "\n",
    "for p in South_I90:\n",
    "    if(p[0] > 47.4): #Latitude value of 47.4 used as it is the lowest point of WA-169 (the separator)\n",
    "        South_I90.remove(p)\n",
    "        I90_South_South.append(p)\n",
    "\n",
    "I90_South_North = South_I90 #Contains points above WA-169\n"
   ]
  },
  {
   "cell_type": "markdown",
   "id": "bbdee31e",
   "metadata": {},
   "source": [
    "# I90 South North "
   ]
  },
  {
   "cell_type": "markdown",
   "id": "7453ab07",
   "metadata": {},
   "source": [
    "# Hierarchical"
   ]
  },
  {
   "cell_type": "code",
   "execution_count": 66,
   "id": "bc23cb89",
   "metadata": {},
   "outputs": [
    {
     "data": {
      "image/png": "[encoded data removed]",
      "text/plain": [
       "<Figure size 432x288 with 1 Axes>"
      ]
     },
     "metadata": {
      "needs_background": "light"
     },
     "output_type": "display_data"
    }
   ],
   "source": [
    "polygon_I90_South_North = Polygon(I90_South_North)\n",
    "p = gpd.GeoSeries(polygon_I90_South_North)\n",
    "p.plot()\n",
    "plt.show()"
   ]
  },
  {
   "cell_type": "code",
   "execution_count": 67,
   "id": "a8c6ede6",
   "metadata": {},
   "outputs": [],
   "source": [
    "p_in_I90_South_North_2019 = []\n",
    "\n",
    "for p in rec19_king_numpy:\n",
    "    point= Point(p[0],p[1])\n",
    "    if(polygon_I90_South_North.contains(point)):\n",
    "        p_in_I90_South_North_2019.append(p)"
   ]
  },
  {
   "cell_type": "code",
   "execution_count": 68,
   "id": "afa01b91",
   "metadata": {},
   "outputs": [
    {
     "data": {
      "text/plain": [
       "Lat     83\n",
       "Long    83\n",
       "dtype: int64"
      ]
     },
     "execution_count": 68,
     "metadata": {},
     "output_type": "execute_result"
    }
   ],
   "source": [
    "df19_I90_South_North = pd.DataFrame(np.array(p_in_I90_South_North_2019),columns = ['Lat','Long'])\n",
    "df19_I90_South_North.count()"
   ]
  },
  {
   "cell_type": "code",
   "execution_count": 69,
   "id": "64c68945",
   "metadata": {},
   "outputs": [
    {
     "data": {
      "text/plain": [
       "array([1, 0, 0, 0, 0, 0, 0, 1, 2, 0, 1, 2, 0, 1, 2, 0, 2, 1, 0, 2, 0, 0,\n",
       "       2, 1, 2, 0, 0, 0, 2, 0, 0, 1, 2, 2, 2, 1, 2, 2, 0, 0, 2, 0, 0, 1,\n",
       "       2, 0, 1, 1, 0, 0, 0, 2, 0, 1, 0, 0, 2, 2, 0, 0, 2, 0, 0, 0, 0, 2,\n",
       "       1, 1, 1, 1, 0, 0, 0, 0, 2, 1, 0, 1, 2, 2, 2, 2, 2], dtype=int64)"
      ]
     },
     "execution_count": 69,
     "metadata": {},
     "output_type": "execute_result"
    }
   ],
   "source": [
    "hier_I90_South_North = AgglomerativeClustering(n_clusters = 3, affinity = 'euclidean', linkage = 'ward')\n",
    "hier_I90_South_North.fit_predict(df19_I90_South_North)"
   ]
  },
  {
   "cell_type": "code",
   "execution_count": 70,
   "id": "3d507411",
   "metadata": {},
   "outputs": [
    {
     "data": {
      "text/plain": [
       "Text(0.5, 1.0, 'Hierarchical 2019 Coyote I90 South North N=3')"
      ]
     },
     "execution_count": 70,
     "metadata": {},
     "output_type": "execute_result"
    },
    {
     "data": {
      "image/png": "[encoded data removed]",
      "text/plain": [
       "<Figure size 432x288 with 1 Axes>"
      ]
     },
     "metadata": {
      "needs_background": "light"
     },
     "output_type": "display_data"
    }
   ],
   "source": [
    "plt.scatter(df19_I90_South_North.iloc[:,0],df19_I90_South_North.iloc[:,1],c= hier_I90_South_North.labels_, marker = '.')\n",
    "plt.title('Hierarchical 2019 Coyote I90 South North N=3')"
   ]
  },
  {
   "cell_type": "code",
   "execution_count": 71,
   "id": "cfa3d308",
   "metadata": {},
   "outputs": [],
   "source": [
    "HierClusI90SouthNorth = df19_I90_South_North.copy()\n",
    "HierClusI90SouthNorth[\"labels\"]= hier_I90_South_North.labels_"
   ]
  },
  {
   "cell_type": "code",
   "execution_count": 72,
   "id": "34f63c66",
   "metadata": {},
   "outputs": [
    {
     "data": {
      "text/plain": [
       "83"
      ]
     },
     "execution_count": 72,
     "metadata": {},
     "output_type": "execute_result"
    }
   ],
   "source": [
    "frames_I90SouthNorth = [df19_I90_South_North]\n",
    "\n",
    "labeled_I90SouthNorth_df = pd.concat(frames_I90SouthNorth)\n",
    "labeled_I90SouthNorth = labeled_I90SouthNorth_df.to_numpy()\n",
    "len(labeled_I90SouthNorth)\n"
   ]
  },
  {
   "cell_type": "code",
   "execution_count": 73,
   "id": "1510bb70",
   "metadata": {},
   "outputs": [],
   "source": [
    "assigned_label_northI90SouthNorth = {}\n",
    "temp = ['I90 South North']\n",
    "\n",
    "for i in labeled_I90SouthNorth:\n",
    "    i=np.append(i,'I90 South North')\n",
    "    \n",
    "\n",
    "for i in labeled_I90SouthNorth:\n",
    "    key = tuple((i[0],i[1]))\n",
    "    assigned_label_northI90SouthNorth[key] = set(['I90 South North'])"
   ]
  },
  {
   "cell_type": "code",
   "execution_count": 74,
   "id": "3913681d",
   "metadata": {},
   "outputs": [],
   "source": [
    "northI90SouthNorth_HierClus_output = HierClusI90SouthNorth.to_numpy()\n",
    "hier_cluster_output_hier_I90_South_North = {}\n",
    "\n",
    "for i in northI90SouthNorth_HierClus_output:\n",
    "    key = tuple((i[0],i[1]))\n",
    "    hier_cluster_output_hier_I90_South_North[key] = set([str(int(i[2]))])\n",
    "    "
   ]
  },
  {
   "cell_type": "code",
   "execution_count": 75,
   "id": "6550102e",
   "metadata": {},
   "outputs": [
    {
     "name": "stdout",
     "output_type": "stream",
     "text": [
      "Hierachical:\n",
      "Precision:  1.0\n",
      "Recall:  0.36594571055305564\n",
      "f1 score:  0.5358129649309246\n"
     ]
    }
   ],
   "source": [
    "I90_South_North_precision_h = bcubed.precision(hier_cluster_output_hier_I90_South_North,assigned_label_northI90SouthNorth)\n",
    "I90_South_North_recall_h = bcubed.recall(hier_cluster_output_hier_I90_South_North, assigned_label_northI90SouthNorth)\n",
    "I90_South_North_fscore_h = bcubed.fscore(I90_South_North_precision_h,I90_South_North_recall_h)\n",
    "print(\"Hierachical:\")\n",
    "print(\"Precision: \", I90_South_North_precision_h)\n",
    "print(\"Recall: \",I90_South_North_recall_h)\n",
    "print(\"f1 score: \", I90_South_North_fscore_h)"
   ]
  },
  {
   "cell_type": "markdown",
   "id": "017dcf80",
   "metadata": {},
   "source": [
    "# KMeans "
   ]
  },
  {
   "cell_type": "code",
   "execution_count": 76,
   "id": "19d9c3ae",
   "metadata": {},
   "outputs": [
    {
     "data": {
      "text/plain": [
       "KMeans(n_clusters=2)"
      ]
     },
     "execution_count": 76,
     "metadata": {},
     "output_type": "execute_result"
    }
   ],
   "source": [
    "coyo19_kmeans_I90SouthNorth = KMeans(n_clusters=2)\n",
    "coyo19_kmeans_I90SouthNorth.fit(df19_I90_South_North)"
   ]
  },
  {
   "cell_type": "code",
   "execution_count": 77,
   "id": "99bded58",
   "metadata": {},
   "outputs": [
    {
     "data": {
      "image/png": "[encoded data removed]",
      "text/plain": [
       "<Figure size 432x288 with 1 Axes>"
      ]
     },
     "metadata": {
      "needs_background": "light"
     },
     "output_type": "display_data"
    }
   ],
   "source": [
    "plt.xlim()\n",
    "plt.scatter(df19_I90_South_North.iloc[:,0], df19_I90_South_North.iloc[:,1], c=coyo19_kmeans_I90SouthNorth.labels_, cmap='rainbow',marker='.')\n",
    "#cluster centroids\n",
    "plt.scatter(coyo19_kmeans_I90SouthNorth.cluster_centers_[:,0] ,coyo19_kmeans_I90SouthNorth.cluster_centers_[:,1], color='black',marker=\"x\")\n",
    "plt.title(\"Coyote 2019 Data I90 South North Clusters K = 2\")\n",
    "plt.show()"
   ]
  },
  {
   "cell_type": "code",
   "execution_count": 78,
   "id": "e341b54c",
   "metadata": {},
   "outputs": [],
   "source": [
    "clusNorth_I90SouthNorth = df19_I90_South_North.copy()\n",
    "clusNorth_I90SouthNorth[\"labels\"] =coyo19_kmeans_I90SouthNorth.labels_\n",
    "northI90SouthNorth_clus_output = clusNorth_I90SouthNorth.to_numpy()\n",
    "cluster_output_I90SouthNorth = {}\n",
    "\n",
    "for i in northI90SouthNorth_clus_output:\n",
    "    key = tuple((i[0],i[1]))\n",
    "    cluster_output_I90SouthNorth[key] = set([str(int(i[2]))])"
   ]
  },
  {
   "cell_type": "code",
   "execution_count": 79,
   "id": "c8d8d82a",
   "metadata": {},
   "outputs": [
    {
     "name": "stdout",
     "output_type": "stream",
     "text": [
      "KMeans:\n",
      "Precision:  1.0\n",
      "Recall:  0.6603280592248512\n",
      "f1 score:  0.7954187795069069\n"
     ]
    }
   ],
   "source": [
    "I90_South_North_precision_k = bcubed.precision(cluster_output_I90SouthNorth,assigned_label_northI90SouthNorth)\n",
    "I90_South_North_recall_k = bcubed.recall(cluster_output_I90SouthNorth, assigned_label_northI90SouthNorth)\n",
    "I90_South_North_fscore_k = bcubed.fscore(I90_South_North_precision_k,I90_South_North_recall_k)\n",
    "print(\"KMeans:\")\n",
    "print(\"Precision: \", I90_South_North_precision_k)\n",
    "print(\"Recall: \",I90_South_North_recall_k)\n",
    "print(\"f1 score: \", I90_South_North_fscore_k)"
   ]
  },
  {
   "cell_type": "markdown",
   "id": "3a0b333e",
   "metadata": {},
   "source": [
    "# I90 South South"
   ]
  },
  {
   "cell_type": "markdown",
   "id": "42917b11",
   "metadata": {},
   "source": [
    "# Hierarchical"
   ]
  },
  {
   "cell_type": "code",
   "execution_count": 80,
   "id": "95f7c173",
   "metadata": {},
   "outputs": [
    {
     "data": {
      "image/png": "[encoded data removed]",
      "text/plain": [
       "<Figure size 432x288 with 1 Axes>"
      ]
     },
     "metadata": {
      "needs_background": "light"
     },
     "output_type": "display_data"
    }
   ],
   "source": [
    "polygon_I90_South_South = Polygon(I90_South_South)\n",
    "p = gpd.GeoSeries(polygon_I90_South_South)\n",
    "p.plot()\n",
    "plt.show()"
   ]
  },
  {
   "cell_type": "code",
   "execution_count": 81,
   "id": "0ca4089f",
   "metadata": {},
   "outputs": [
    {
     "data": {
      "text/plain": [
       "Lat     79\n",
       "Long    79\n",
       "dtype: int64"
      ]
     },
     "execution_count": 81,
     "metadata": {},
     "output_type": "execute_result"
    }
   ],
   "source": [
    "p_in_I90_South_South_2019 = []\n",
    "\n",
    "for p in rec19_king_numpy:\n",
    "    point= Point(p[0],p[1])\n",
    "    if(polygon_I90_South_South.contains(point)):\n",
    "        p_in_I90_South_South_2019.append(p)\n",
    "\n",
    "df19_I90_South_South = pd.DataFrame(np.array(p_in_I90_South_South_2019),columns = ['Lat','Long'])\n",
    "df19_I90_South_South.count()"
   ]
  },
  {
   "cell_type": "code",
   "execution_count": 82,
   "id": "9f20b9f0",
   "metadata": {},
   "outputs": [],
   "source": [
    "hier_I90_South_South = AgglomerativeClustering(n_clusters = 3, affinity = 'euclidean', linkage = 'ward')\n",
    "hier_I90_South_South.fit_predict(df19_I90_South_South)\n",
    "\n",
    "HierClusI90SouthSouth = df19_I90_South_South.copy()\n",
    "HierClusI90SouthSouth[\"labels\"]= hier_I90_South_South.labels_"
   ]
  },
  {
   "cell_type": "code",
   "execution_count": 83,
   "id": "73088a53",
   "metadata": {},
   "outputs": [
    {
     "data": {
      "text/plain": [
       "79"
      ]
     },
     "execution_count": 83,
     "metadata": {},
     "output_type": "execute_result"
    }
   ],
   "source": [
    "frames_I90SouthSouth = [df19_I90_South_South]\n",
    "\n",
    "labeled_I90SouthSouth_df = pd.concat(frames_I90SouthSouth)\n",
    "labeled_I90SouthSouth = labeled_I90SouthSouth_df.to_numpy()\n",
    "len(labeled_I90SouthSouth)\n"
   ]
  },
  {
   "cell_type": "code",
   "execution_count": 84,
   "id": "4c64f8c3",
   "metadata": {},
   "outputs": [],
   "source": [
    "assigned_label_northI90SouthSouth = {}\n",
    "for i in labeled_I90SouthSouth:\n",
    "    i=np.append(i,'I90 South North')\n",
    "    \n",
    "\n",
    "for i in labeled_I90SouthSouth:\n",
    "    key = tuple((i[0],i[1]))\n",
    "    assigned_label_northI90SouthSouth[key] = set(['I90 South South'])"
   ]
  },
  {
   "cell_type": "code",
   "execution_count": 85,
   "id": "df0f8d7d",
   "metadata": {},
   "outputs": [],
   "source": [
    "I90SouthSouth_HierClus_output = HierClusI90SouthSouth.to_numpy()\n",
    "hier_cluster_output_hier_I90_South_South = {}\n",
    "\n",
    "for i in I90SouthSouth_HierClus_output:\n",
    "    key = tuple((i[0],i[1]))\n",
    "    hier_cluster_output_hier_I90_South_South[key] = set([str(int(i[2]))])"
   ]
  },
  {
   "cell_type": "code",
   "execution_count": 86,
   "id": "a54573ad",
   "metadata": {},
   "outputs": [
    {
     "name": "stdout",
     "output_type": "stream",
     "text": [
      "Hierachical:\n",
      "Precision:  1.0\n",
      "Recall:  0.33888799871815406\n",
      "f1 score:  0.506223073240785\n"
     ]
    }
   ],
   "source": [
    "I90_South_South_precision_h = bcubed.precision(hier_cluster_output_hier_I90_South_South,assigned_label_northI90SouthSouth)\n",
    "I90_South_South_recall_h = bcubed.recall(hier_cluster_output_hier_I90_South_South, assigned_label_northI90SouthSouth)\n",
    "I90_South_South_fscore_h = bcubed.fscore(I90_South_South_precision_h,I90_South_South_recall_h)\n",
    "print(\"Hierachical:\")\n",
    "print(\"Precision: \", I90_South_South_precision_h)\n",
    "print(\"Recall: \",I90_South_South_recall_h)\n",
    "print(\"f1 score: \", I90_South_South_fscore_h)"
   ]
  },
  {
   "cell_type": "markdown",
   "id": "694ceee9",
   "metadata": {},
   "source": [
    "# KMeans"
   ]
  },
  {
   "cell_type": "code",
   "execution_count": 87,
   "id": "89fea0b0",
   "metadata": {},
   "outputs": [
    {
     "data": {
      "text/plain": [
       "KMeans(n_clusters=2)"
      ]
     },
     "execution_count": 87,
     "metadata": {},
     "output_type": "execute_result"
    }
   ],
   "source": [
    "coyo19_kmeans_I90SouthSouth = KMeans(n_clusters=2)\n",
    "coyo19_kmeans_I90SouthSouth.fit(df19_I90_South_South)"
   ]
  },
  {
   "cell_type": "code",
   "execution_count": 88,
   "id": "6546d6aa",
   "metadata": {},
   "outputs": [
    {
     "data": {
      "image/png": "[encoded data removed]",
      "text/plain": [
       "<Figure size 432x288 with 1 Axes>"
      ]
     },
     "metadata": {
      "needs_background": "light"
     },
     "output_type": "display_data"
    }
   ],
   "source": [
    "plt.xlim()\n",
    "plt.scatter(df19_I90_South_South.iloc[:,0], df19_I90_South_South.iloc[:,1], c=coyo19_kmeans_I90SouthSouth.labels_, cmap='rainbow',marker='.')\n",
    "#cluster centroids\n",
    "plt.scatter(coyo19_kmeans_I90SouthSouth.cluster_centers_[:,0] ,coyo19_kmeans_I90SouthSouth.cluster_centers_[:,1], color='black',marker=\"x\")\n",
    "plt.title(\"Coyote 2019 Data I90 South North Clusters K = 2\")\n",
    "plt.show()"
   ]
  },
  {
   "cell_type": "code",
   "execution_count": 89,
   "id": "1401faae",
   "metadata": {},
   "outputs": [],
   "source": [
    "clusNorth_I90SouthSouth = df19_I90_South_South.copy()\n",
    "clusNorth_I90SouthSouth[\"labels\"] =coyo19_kmeans_I90SouthSouth.labels_\n",
    "I90SouthSouth_clus_output = clusNorth_I90SouthSouth.to_numpy()\n",
    "cluster_output_I90SouthSouth = {}\n",
    "\n",
    "for i in I90SouthSouth_clus_output:\n",
    "    key = tuple((i[0],i[1]))\n",
    "    cluster_output_I90SouthSouth[key] = set([str(int(i[2]))])"
   ]
  },
  {
   "cell_type": "code",
   "execution_count": 90,
   "id": "10544291",
   "metadata": {},
   "outputs": [
    {
     "name": "stdout",
     "output_type": "stream",
     "text": [
      "KMeans:\n",
      "Precision:  1.0\n",
      "Recall:  0.6923569940714627\n",
      "f1 score:  0.818216246922931\n"
     ]
    }
   ],
   "source": [
    "I90_South_South_precision_k = bcubed.precision(cluster_output_I90SouthSouth,assigned_label_northI90SouthSouth)\n",
    "I90_South_South_recall_k = bcubed.recall(cluster_output_I90SouthSouth, assigned_label_northI90SouthSouth)\n",
    "I90_South_South_fscore_k = bcubed.fscore(I90_South_South_precision_k,I90_South_South_recall_k)\n",
    "print(\"KMeans:\")\n",
    "print(\"Precision: \", I90_South_South_precision_k)\n",
    "print(\"Recall: \",I90_South_South_recall_k)\n",
    "print(\"f1 score: \", I90_South_South_fscore_k)"
   ]
  },
  {
   "cell_type": "markdown",
   "id": "f508b3d9",
   "metadata": {},
   "source": [
    "# South Seattle East"
   ]
  },
  {
   "cell_type": "code",
   "execution_count": 91,
   "id": "57a926d3",
   "metadata": {},
   "outputs": [
    {
     "data": {
      "image/png": "[encoded data removed]",
      "text/plain": [
       "<Figure size 432x288 with 1 Axes>"
      ]
     },
     "metadata": {
      "needs_background": "light"
     },
     "output_type": "display_data"
    }
   ],
   "source": [
    "South_Seattle_East = [(47.640793,-122.318501),(47.610249,-122.327427),\n",
    "                      (47.599138,-122.317471),(47.559304,-122.317128),\n",
    "                      (47.49253,-122.260479),(47.480936,-122.268719),\n",
    "                      (47.461674,-122.259793),(47.433117,-122.267002),\n",
    "                      (47.414302,-122.285199),(47.39641,-122.285542),\n",
    "                      (47.359445,-122.292752),(47.341534,-122.288288),\n",
    "                      (47.294752,-122.300648),(47.26424,-122.318158),\n",
    "                      (47.257949,-122.276959),(47.29219,-122.247776),\n",
    "                      (47.353165,-122.275586),(47.423362,-122.270779),\n",
    "                      (47.491609,-122.215161),(47.528481,-122.277989),\n",
    "                      (47.555365,-122.250866),(47.57853,-122.287259),\n",
    "                      (47.635704,-122.278675)]\n",
    "\n",
    "\n",
    "polygon_South_Seattle_East = Polygon(South_Seattle_East)\n",
    "p = gpd.GeoSeries(polygon_South_Seattle_East)\n",
    "p.plot()\n",
    "plt.show()"
   ]
  },
  {
   "cell_type": "code",
   "execution_count": 92,
   "id": "9c9f1674",
   "metadata": {},
   "outputs": [],
   "source": [
    "p_in_South_Seattle_East_2019 = []\n",
    "\n",
    "for p in rec19_king_numpy:\n",
    "    point= Point(p[0],p[1])\n",
    "    if(polygon_South_Seattle_East.contains(point)):\n",
    "        p_in_South_Seattle_East_2019.append(p)"
   ]
  },
  {
   "cell_type": "code",
   "execution_count": 93,
   "id": "5f57c785",
   "metadata": {},
   "outputs": [
    {
     "data": {
      "text/plain": [
       "Lat     59\n",
       "Long    59\n",
       "dtype: int64"
      ]
     },
     "execution_count": 93,
     "metadata": {},
     "output_type": "execute_result"
    }
   ],
   "source": [
    "df19_South_Seattle_East = pd.DataFrame(np.array(p_in_South_Seattle_East_2019),columns = ['Lat','Long'])\n",
    "df19_South_Seattle_East.count()"
   ]
  },
  {
   "cell_type": "markdown",
   "id": "49b70250",
   "metadata": {},
   "source": [
    "# Hierarchical"
   ]
  },
  {
   "cell_type": "code",
   "execution_count": 94,
   "id": "0965a7f2",
   "metadata": {},
   "outputs": [
    {
     "data": {
      "text/plain": [
       "array([0, 0, 0, 1, 0, 0, 1, 0, 0, 0, 0, 0, 0, 0, 0, 0, 0, 0, 0, 0, 0, 1,\n",
       "       0, 1, 0, 1, 0, 0, 0, 0, 0, 0, 0, 1, 0, 0, 0, 0, 0, 0, 0, 0, 0, 0,\n",
       "       0, 0, 0, 0, 0, 0, 0, 0, 0, 0, 0, 0, 0, 0, 0], dtype=int64)"
      ]
     },
     "execution_count": 94,
     "metadata": {},
     "output_type": "execute_result"
    }
   ],
   "source": [
    "rec19_South_Seattle_East= AgglomerativeClustering(n_clusters =2, affinity='euclidean',linkage='ward')\n",
    "rec19_South_Seattle_East.fit_predict(df19_South_Seattle_East)"
   ]
  },
  {
   "cell_type": "code",
   "execution_count": 95,
   "id": "abac0cab",
   "metadata": {},
   "outputs": [],
   "source": [
    "HierClusSouthSeattleEast = df19_South_Seattle_East.copy()\n",
    "HierClusSouthSeattleEast[\"labels\"]= rec19_South_Seattle_East.labels_"
   ]
  },
  {
   "cell_type": "code",
   "execution_count": 96,
   "id": "125b3545",
   "metadata": {},
   "outputs": [
    {
     "data": {
      "text/plain": [
       "59"
      ]
     },
     "execution_count": 96,
     "metadata": {},
     "output_type": "execute_result"
    }
   ],
   "source": [
    "frames_SouthSeattleEast = [df19_South_Seattle_East]\n",
    "\n",
    "labeled_SouthSeattleEast_df = pd.concat(frames_SouthSeattleEast)\n",
    "labeled_SouthSeattleEast = labeled_SouthSeattleEast_df.to_numpy()\n",
    "len(labeled_SouthSeattleEast)"
   ]
  },
  {
   "cell_type": "code",
   "execution_count": 97,
   "id": "fc847091",
   "metadata": {},
   "outputs": [],
   "source": [
    "assigned_label_SouthSeattleEast = {}\n",
    "for i in labeled_SouthSeattleEast:\n",
    "    i=np.append(i,'South Seattle East')\n",
    "    \n",
    "\n",
    "for i in labeled_SouthSeattleEast:\n",
    "    key = tuple((i[0],i[1]))\n",
    "    assigned_label_SouthSeattleEast[key] = set(['South Seattle East'])"
   ]
  },
  {
   "cell_type": "code",
   "execution_count": 98,
   "id": "b56e9380",
   "metadata": {},
   "outputs": [],
   "source": [
    "SouthSeattleEast_HierClus_output = HierClusSouthSeattleEast.to_numpy()\n",
    "hier_cluster_output_hier_SouthSeattleEast = {}\n",
    "\n",
    "for i in SouthSeattleEast_HierClus_output:\n",
    "    key = tuple((i[0],i[1]))\n",
    "    hier_cluster_output_hier_SouthSeattleEast[key] = set([str(int(i[2]))])"
   ]
  },
  {
   "cell_type": "code",
   "execution_count": 99,
   "id": "dbb9d66b",
   "metadata": {},
   "outputs": [
    {
     "name": "stdout",
     "output_type": "stream",
     "text": [
      "Hierachical:\n",
      "Precision:  1.0\n",
      "Recall:  0.8172938810686586\n",
      "f1 score:  0.8994625355674993\n"
     ]
    }
   ],
   "source": [
    "SouthSeattleEast_precision_h = bcubed.precision(hier_cluster_output_hier_SouthSeattleEast,assigned_label_SouthSeattleEast)\n",
    "SouthSeattleEast_recall_h = bcubed.recall(hier_cluster_output_hier_SouthSeattleEast, assigned_label_SouthSeattleEast)\n",
    "SouthSeattleEast_fscore_h = bcubed.fscore(SouthSeattleEast_precision_h,SouthSeattleEast_recall_h)\n",
    "print(\"Hierachical:\")\n",
    "print(\"Precision: \", SouthSeattleEast_precision_h)\n",
    "print(\"Recall: \",SouthSeattleEast_recall_h)\n",
    "print(\"f1 score: \", SouthSeattleEast_fscore_h)"
   ]
  },
  {
   "cell_type": "markdown",
   "id": "aff20592",
   "metadata": {},
   "source": [
    "\n",
    "# KMeans"
   ]
  },
  {
   "cell_type": "code",
   "execution_count": 100,
   "id": "f1c73a80",
   "metadata": {},
   "outputs": [
    {
     "data": {
      "text/plain": [
       "KMeans(n_clusters=2)"
      ]
     },
     "execution_count": 100,
     "metadata": {},
     "output_type": "execute_result"
    }
   ],
   "source": [
    "coyo19_kmeans_SouthSeattleEast = KMeans(n_clusters=2)\n",
    "coyo19_kmeans_SouthSeattleEast.fit(df19_South_Seattle_East)"
   ]
  },
  {
   "cell_type": "code",
   "execution_count": 102,
   "id": "2edc5e2e",
   "metadata": {},
   "outputs": [
    {
     "data": {
      "image/png": "[encoded data removed]",
      "text/plain": [
       "<Figure size 432x288 with 1 Axes>"
      ]
     },
     "metadata": {
      "needs_background": "light"
     },
     "output_type": "display_data"
    }
   ],
   "source": [
    "plt.xlim()\n",
    "plt.scatter(df19_South_Seattle_East.iloc[:,0],df19_South_Seattle_East.iloc[:,1], c=coyo19_kmeans_SouthSeattleEast.labels_, cmap='rainbow',marker='.')\n",
    "#cluster centroids\n",
    "plt.scatter(coyo19_kmeans_SouthSeattleEast.cluster_centers_[:,0] ,coyo19_kmeans_SouthSeattleEast.cluster_centers_[:,1], color='black',marker=\"x\")\n",
    "plt.title(\"Coyote 2019 Data South Seattle East Clusters K = 2\")\n",
    "plt.show()"
   ]
  },
  {
   "cell_type": "code",
   "execution_count": 105,
   "id": "39ee93de",
   "metadata": {},
   "outputs": [],
   "source": [
    "clusSouthSeattleEast = df19_South_Seattle_East.copy()\n",
    "clusSouthSeattleEast[\"labels\"] =coyo19_kmeans_SouthSeattleEast.labels_\n",
    "SouthSeattleEast_clus_output = clusSouthSeattleEast.to_numpy()\n",
    "cluster_output_SouthSeattleEast = {}\n",
    "\n",
    "for i in SouthSeattleEast_clus_output:\n",
    "    key = tuple((i[0],i[1]))\n",
    "    cluster_output_SouthSeattleEast[key] = set([str(int(i[2]))])"
   ]
  },
  {
   "cell_type": "code",
   "execution_count": 107,
   "id": "b698d4bd",
   "metadata": {},
   "outputs": [
    {
     "name": "stdout",
     "output_type": "stream",
     "text": [
      "KMeans:\n",
      "Precision:  1.0\n",
      "Recall:  0.8172938810686586\n",
      "f1 score:  0.8994625355674993\n"
     ]
    }
   ],
   "source": [
    "SouthSeattleEast_precision_k = bcubed.precision(cluster_output_SouthSeattleEast,assigned_label_SouthSeattleEast)\n",
    "SouthSeattleEast_recall_k = bcubed.recall(cluster_output_SouthSeattleEast, assigned_label_SouthSeattleEast)\n",
    "SouthSeattleEast_fscore_k = bcubed.fscore(SouthSeattleEast_precision_k,SouthSeattleEast_recall_k)\n",
    "print(\"KMeans:\")\n",
    "print(\"Precision: \", SouthSeattleEast_precision_k)\n",
    "print(\"Recall: \",SouthSeattleEast_recall_k)\n",
    "print(\"f1 score: \", SouthSeattleEast_fscore_k)"
   ]
  },
  {
   "cell_type": "code",
   "execution_count": null,
   "id": "1816d2ec",
   "metadata": {},
   "outputs": [],
   "source": []
  }
 ],
 "metadata": {
  "kernelspec": {
   "display_name": "Python 3",
   "language": "python",
   "name": "python3"
  },
  "language_info": {
   "codemirror_mode": {
    "name": "ipython",
    "version": 3
   },
   "file_extension": ".py",
   "mimetype": "text/x-python",
   "name": "python",
   "nbconvert_exporter": "python",
   "pygments_lexer": "ipython3",
   "version": "3.9.2"
  }
 },
 "nbformat": 4,
 "nbformat_minor": 5
}
