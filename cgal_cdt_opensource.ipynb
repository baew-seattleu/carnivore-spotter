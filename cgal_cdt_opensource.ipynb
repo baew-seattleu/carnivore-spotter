{
 "cells": [
  {
   "cell_type": "code",
   "execution_count": 1,
   "id": "brazilian-promotion",
   "metadata": {},
   "outputs": [],
   "source": [
    "from __future__ import print_function\n",
    "from CGAL.CGAL_Kernel import Point_2\n",
    "from CGAL.CGAL_Triangulation_2 import Constrained_Delaunay_triangulation_2"
   ]
  },
  {
   "cell_type": "code",
   "execution_count": 5,
   "id": "integral-ontario",
   "metadata": {},
   "outputs": [
    {
     "data": {
      "image/png": "[encoded data removed]",
      "text/plain": [
       "<Figure size 432x288 with 1 Axes>"
      ]
     },
     "metadata": {
      "needs_background": "light"
     },
     "output_type": "display_data"
    }
   ],
   "source": [
    "class FaceInfo2(object):\n",
    "    def __init__(self):\n",
    "        self.nesting_level = -1\n",
    "\n",
    "    def in_domain(self):\n",
    "        return (self.nesting_level % 2) != 1\n",
    "\n",
    "\n",
    "def mark_domains(ct, start_face, index, edge_border, face_info):\n",
    "    if face_info[start_face].nesting_level != -1:\n",
    "        return\n",
    "    queue = [start_face]\n",
    "    while queue != []:\n",
    "        fh = queue[0]     # queue.front\n",
    "        queue = queue[1:]  # queue.pop_front\n",
    "        if face_info[fh].nesting_level == -1:\n",
    "            face_info[fh].nesting_level = index\n",
    "            for i in range(3):\n",
    "                e = (fh, i)\n",
    "                n = fh.neighbor(i)\n",
    "                if face_info[n].nesting_level == -1:\n",
    "                    if ct.is_constrained(e):\n",
    "                        edge_border.append(e)\n",
    "                    else:\n",
    "                        queue.append(n)\n",
    "\n",
    "\n",
    "def mark_domain(cdt):\n",
    "    \"\"\"Find a mapping that can be tested to see if a face is in a domain\n",
    "    Explore the set of facets connected with non constrained edges,\n",
    "    and attribute to each such set a nesting level.\n",
    "    We start from the facets incident to the infinite vertex, with a\n",
    "    nesting level of 0. Then we recursively consider the non-explored\n",
    "    facets incident to constrained edges bounding the former set and\n",
    "    increase the nesting level by 1.\n",
    "    Facets in the domain are those with an odd nesting level.\n",
    "    \"\"\"\n",
    "    face_info = {}\n",
    "    for face in cdt.all_faces():\n",
    "        face_info[face] = FaceInfo2()\n",
    "    index = 0\n",
    "    border = []\n",
    "    mark_domains(cdt, cdt.infinite_face(), index+1, border, face_info)\n",
    "    while border != []:\n",
    "        e = border[0]       # border.front\n",
    "        border = border[1:]  # border.pop_front\n",
    "        n = e[0].neighbor(e[1])\n",
    "        if face_info[n].nesting_level == -1:\n",
    "            lvl = face_info[e[0]].nesting_level+1\n",
    "            mark_domains(cdt, n, lvl, border, face_info)\n",
    "    return face_info\n",
    "\n",
    "\n",
    "def insert_polygon(cdt, polygon):\n",
    "    if not polygon:\n",
    "        return\n",
    "\n",
    "    handles = [cdt.insert(polypt) for polypt in polygon]\n",
    "    for i in range(len(polygon)-1):\n",
    "        cdt.insert_constraint(handles[i], handles[i+1])\n",
    "    cdt.insert_constraint(handles[-1], handles[0])\n",
    "\n",
    "\n",
    "if __name__ == \"__main__\":\n",
    "\n",
    "    def plot_triangulated_polygon(cdt, face_info):\n",
    "        # This code is an additional element which recreates the figure\n",
    "        # presented in the original CGAL example. Given the ease of which\n",
    "        # a standard plotting library can be installed for python, it\n",
    "        # makes sense to offer some form of visualisation directly\n",
    "        try:\n",
    "            import matplotlib.pyplot as plt\n",
    "        except Exception:\n",
    "            print('plotting of triangulation not supported')\n",
    "            return\n",
    "\n",
    "        def rescale_plot(ax, scale=1.1):\n",
    "            xmin, xmax = ax.get_xlim()\n",
    "            ymin, ymax = ax.get_ylim()\n",
    "            xmid = (xmin+xmax)/2.0\n",
    "            ymid = (ymin+ymax)/2.0\n",
    "            xran = xmax - xmid\n",
    "            yran = ymax - ymid\n",
    "            ax.set_xlim(xmid - xran*scale, xmid + xran*scale)\n",
    "            ax.set_ylim(ymid - yran*scale, ymid + yran*scale)\n",
    "\n",
    "        def plot_edge(edge, *args):\n",
    "            edge_seg = cdt.segment(edge)\n",
    "            pts = [edge_seg.source(), edge_seg.target()]\n",
    "            xs = [pts[0].x(), pts[1].x()]\n",
    "            ys = [pts[0].y(), pts[1].y()]\n",
    "            plt.plot(xs, ys, *args)\n",
    "\n",
    "        for edge in cdt.finite_edges():\n",
    "            if cdt.is_constrained(edge):\n",
    "                plot_edge(edge, 'r-')\n",
    "            else:\n",
    "                if face_info[edge[0]].in_domain():\n",
    "                    plot_edge(edge, 'b-')\n",
    "        rescale_plot(plt.gca())\n",
    "        plt.show()\n",
    "\n",
    "    def main():\n",
    "        # Construct two non-intersecting nested polygons\n",
    "        polygon1 = [\n",
    "            Point_2(0, 0),\n",
    "            Point_2(2, 0),\n",
    "            Point_2(2, 2),\n",
    "            Point_2(0, 2)\n",
    "        ]\n",
    "\n",
    "        polygon2 = [\n",
    "            Point_2(0.5, 0.5),\n",
    "            Point_2(1.5, 0.5),\n",
    "            Point_2(1.5, 1.5),\n",
    "            Point_2(0.5, 1.5)\n",
    "        ]\n",
    "\n",
    "        # Insert the polygons into a constrained triangulation\n",
    "        cdt = Constrained_Delaunay_triangulation_2()\n",
    "        insert_polygon(cdt, polygon1)\n",
    "        insert_polygon(cdt, polygon2)\n",
    "\n",
    "        # Mark facest that are inside the domain bounded by the polygon\n",
    "        face_info = mark_domain(cdt)\n",
    "\n",
    "        plot_triangulated_polygon(cdt, face_info)\n",
    "\n",
    "    main()"
   ]
  },
  {
   "cell_type": "code",
   "execution_count": null,
   "id": "tender-pierce",
   "metadata": {},
   "outputs": [],
   "source": []
  },
  {
   "cell_type": "code",
   "execution_count": null,
   "id": "portable-kenya",
   "metadata": {},
   "outputs": [],
   "source": []
  },
  {
   "cell_type": "code",
   "execution_count": null,
   "id": "traditional-determination",
   "metadata": {},
   "outputs": [],
   "source": []
  },
  {
   "cell_type": "code",
   "execution_count": null,
   "id": "civilian-inside",
   "metadata": {},
   "outputs": [],
   "source": []
  },
  {
   "cell_type": "code",
   "execution_count": null,
   "id": "corrected-snowboard",
   "metadata": {},
   "outputs": [],
   "source": []
  },
  {
   "cell_type": "code",
   "execution_count": null,
   "id": "dying-choir",
   "metadata": {},
   "outputs": [],
   "source": []
  },
  {
   "cell_type": "code",
   "execution_count": null,
   "id": "ambient-wildlife",
   "metadata": {},
   "outputs": [],
   "source": []
  },
  {
   "cell_type": "code",
   "execution_count": null,
   "id": "tender-intake",
   "metadata": {},
   "outputs": [],
   "source": []
  },
  {
   "cell_type": "code",
   "execution_count": null,
   "id": "capital-ribbon",
   "metadata": {},
   "outputs": [],
   "source": []
  },
  {
   "cell_type": "code",
   "execution_count": null,
   "id": "equivalent-kidney",
   "metadata": {},
   "outputs": [],
   "source": []
  },
  {
   "cell_type": "code",
   "execution_count": null,
   "id": "artificial-prisoner",
   "metadata": {},
   "outputs": [],
   "source": []
  },
  {
   "cell_type": "code",
   "execution_count": null,
   "id": "educated-concrete",
   "metadata": {},
   "outputs": [],
   "source": []
  },
  {
   "cell_type": "code",
   "execution_count": null,
   "id": "designed-balance",
   "metadata": {},
   "outputs": [],
   "source": []
  },
  {
   "cell_type": "code",
   "execution_count": null,
   "id": "forty-timeline",
   "metadata": {},
   "outputs": [],
   "source": []
  },
  {
   "cell_type": "code",
   "execution_count": null,
   "id": "protecting-liability",
   "metadata": {},
   "outputs": [],
   "source": []
  }
 ],
 "metadata": {
  "kernelspec": {
   "display_name": "Python 3",
   "language": "python",
   "name": "python3"
  },
  "language_info": {
   "codemirror_mode": {
    "name": "ipython",
    "version": 3
   },
   "file_extension": ".py",
   "mimetype": "text/x-python",
   "name": "python",
   "nbconvert_exporter": "python",
   "pygments_lexer": "ipython3",
   "version": "3.8.5"
  }
 },
 "nbformat": 4,
 "nbformat_minor": 5
}
