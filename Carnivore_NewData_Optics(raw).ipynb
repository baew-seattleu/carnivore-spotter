{
 "cells": [
  {
   "cell_type": "code",
   "execution_count": 1,
   "id": "alone-distance",
   "metadata": {},
   "outputs": [],
   "source": [
    "import numpy as np \n",
    "import pandas as pd \n",
    "import matplotlib.pyplot as plt \n",
    "from matplotlib import gridspec \n",
    "from sklearn.cluster import OPTICS, cluster_optics_dbscan "
   ]
  },
  {
   "cell_type": "code",
   "execution_count": 2,
   "id": "moved-tennis",
   "metadata": {},
   "outputs": [],
   "source": [
    "#local path where the data locates, change it to your local path\n",
    "record = pd.read_csv(\"Desktop/Carnivore_Research/CS_21Jan27.csv\")"
   ]
  },
  {
   "cell_type": "code",
   "execution_count": 3,
   "id": "existing-manufacturer",
   "metadata": {},
   "outputs": [],
   "source": [
    "col=['Time_Seen','Species','Latitude','Longitude','Media']"
   ]
  },
  {
   "cell_type": "code",
   "execution_count": 4,
   "id": "junior-participant",
   "metadata": {},
   "outputs": [],
   "source": [
    "record.columns = col\n",
    "record['Time_Seen'] = pd.to_datetime(record.Time_Seen,utc=True).copy()\n",
    "record['Month'] = record.Time_Seen.dt.month\n",
    "record['Hour'] = record.Time_Seen.dt.hour\n",
    "record['Year'] = record.Time_Seen.dt.year"
   ]
  },
  {
   "cell_type": "code",
   "execution_count": 5,
   "id": "novel-implementation",
   "metadata": {},
   "outputs": [],
   "source": [
    "#king county boundaries\n",
    "maxLat = 47.7763\n",
    "minLat = 47.1878\n",
    "maxLon = -121.0941\n",
    "minLon = -122.5346"
   ]
  },
  {
   "cell_type": "code",
   "execution_count": 6,
   "id": "fourth-diesel",
   "metadata": {},
   "outputs": [
    {
     "data": {
      "text/html": [
       "<div>\n",
       "<style scoped>\n",
       "    .dataframe tbody tr th:only-of-type {\n",
       "        vertical-align: middle;\n",
       "    }\n",
       "\n",
       "    .dataframe tbody tr th {\n",
       "        vertical-align: top;\n",
       "    }\n",
       "\n",
       "    .dataframe thead th {\n",
       "        text-align: right;\n",
       "    }\n",
       "</style>\n",
       "<table border=\"1\" class=\"dataframe\">\n",
       "  <thead>\n",
       "    <tr style=\"text-align: right;\">\n",
       "      <th></th>\n",
       "      <th>Time_Seen</th>\n",
       "      <th>Species</th>\n",
       "      <th>Latitude</th>\n",
       "      <th>Longitude</th>\n",
       "      <th>Media</th>\n",
       "      <th>Month</th>\n",
       "      <th>Hour</th>\n",
       "      <th>Year</th>\n",
       "    </tr>\n",
       "  </thead>\n",
       "  <tbody>\n",
       "    <tr>\n",
       "      <th>0</th>\n",
       "      <td>2019-09-18 14:00:00.532000+00:00</td>\n",
       "      <td>Coyote</td>\n",
       "      <td>47.815188</td>\n",
       "      <td>-122.088653</td>\n",
       "      <td>[]</td>\n",
       "      <td>9</td>\n",
       "      <td>14</td>\n",
       "      <td>2019</td>\n",
       "    </tr>\n",
       "    <tr>\n",
       "      <th>1</th>\n",
       "      <td>2019-08-06 13:15:00+00:00</td>\n",
       "      <td>Coyote</td>\n",
       "      <td>47.683153</td>\n",
       "      <td>-122.127485</td>\n",
       "      <td>[]</td>\n",
       "      <td>8</td>\n",
       "      <td>13</td>\n",
       "      <td>2019</td>\n",
       "    </tr>\n",
       "    <tr>\n",
       "      <th>2</th>\n",
       "      <td>2019-09-09 13:30:00+00:00</td>\n",
       "      <td>Cougar/Mountain Lion</td>\n",
       "      <td>47.603330</td>\n",
       "      <td>-122.210544</td>\n",
       "      <td>[]</td>\n",
       "      <td>9</td>\n",
       "      <td>13</td>\n",
       "      <td>2019</td>\n",
       "    </tr>\n",
       "    <tr>\n",
       "      <th>3</th>\n",
       "      <td>2019-08-01 16:45:00+00:00</td>\n",
       "      <td>Coyote</td>\n",
       "      <td>47.676127</td>\n",
       "      <td>-122.328966</td>\n",
       "      <td>[]</td>\n",
       "      <td>8</td>\n",
       "      <td>16</td>\n",
       "      <td>2019</td>\n",
       "    </tr>\n",
       "    <tr>\n",
       "      <th>4</th>\n",
       "      <td>2019-12-18 22:00:00+00:00</td>\n",
       "      <td>Coyote</td>\n",
       "      <td>47.647155</td>\n",
       "      <td>-122.078566</td>\n",
       "      <td>[]</td>\n",
       "      <td>12</td>\n",
       "      <td>22</td>\n",
       "      <td>2019</td>\n",
       "    </tr>\n",
       "  </tbody>\n",
       "</table>\n",
       "</div>"
      ],
      "text/plain": [
       "                         Time_Seen               Species   Latitude  \\\n",
       "0 2019-09-18 14:00:00.532000+00:00                Coyote  47.815188   \n",
       "1        2019-08-06 13:15:00+00:00                Coyote  47.683153   \n",
       "2        2019-09-09 13:30:00+00:00  Cougar/Mountain Lion  47.603330   \n",
       "3        2019-08-01 16:45:00+00:00                Coyote  47.676127   \n",
       "4        2019-12-18 22:00:00+00:00                Coyote  47.647155   \n",
       "\n",
       "    Longitude Media  Month  Hour  Year  \n",
       "0 -122.088653    []      9    14  2019  \n",
       "1 -122.127485    []      8    13  2019  \n",
       "2 -122.210544    []      9    13  2019  \n",
       "3 -122.328966    []      8    16  2019  \n",
       "4 -122.078566    []     12    22  2019  "
      ]
     },
     "execution_count": 6,
     "metadata": {},
     "output_type": "execute_result"
    }
   ],
   "source": [
    "rec19 = record[record.Year == 2019]\n",
    "rec19.head()"
   ]
  },
  {
   "cell_type": "code",
   "execution_count": 7,
   "id": "swiss-mirror",
   "metadata": {},
   "outputs": [],
   "source": [
    "rec19_coyo = rec19[rec19.Species == 'Coyote']"
   ]
  },
  {
   "cell_type": "code",
   "execution_count": 8,
   "id": "other-colonial",
   "metadata": {},
   "outputs": [],
   "source": [
    "rec19_coyo = rec19_coyo.drop(['Time_Seen','Species','Month','Hour','Year','Media'],axis=1)"
   ]
  },
  {
   "cell_type": "code",
   "execution_count": 9,
   "id": "editorial-optimization",
   "metadata": {},
   "outputs": [],
   "source": [
    "rec19_king = rec19_coyo[(rec19_coyo['Latitude']>minLat)&(rec19_coyo['Latitude']<maxLat)&(rec19_coyo['Longitude']>minLon)&(rec19_coyo['Longitude']<maxLon)]"
   ]
  },
  {
   "cell_type": "code",
   "execution_count": 13,
   "id": "whole-television",
   "metadata": {},
   "outputs": [],
   "source": [
    "optics_model = OPTICS(min_samples=15, max_eps=0.3)"
   ]
  },
  {
   "cell_type": "code",
   "execution_count": 14,
   "id": "certified-light",
   "metadata": {},
   "outputs": [
    {
     "data": {
      "text/plain": [
       "OPTICS(algorithm='auto', cluster_method='xi', eps=None, leaf_size=30,\n",
       "       max_eps=0.3, metric='minkowski', metric_params=None,\n",
       "       min_cluster_size=None, min_samples=15, n_jobs=None, p=2,\n",
       "       predecessor_correction=True, xi=0.05)"
      ]
     },
     "execution_count": 14,
     "metadata": {},
     "output_type": "execute_result"
    }
   ],
   "source": [
    "optics_model.fit(rec19_king)"
   ]
  },
  {
   "cell_type": "code",
   "execution_count": 15,
   "id": "automatic-beaver",
   "metadata": {},
   "outputs": [
    {
     "data": {
      "text/plain": [
       "<matplotlib.collections.PathCollection at 0x7ff03135b730>"
      ]
     },
     "execution_count": 15,
     "metadata": {},
     "output_type": "execute_result"
    },
    {
     "data": {
      "image/png": "[encoded data removed]",
      "text/plain": [
       "<Figure size 432x288 with 1 Axes>"
      ]
     },
     "metadata": {
      "needs_background": "light"
     },
     "output_type": "display_data"
    }
   ],
   "source": [
    "plt.scatter(rec19_king.iloc[:,0], rec19_king.iloc[:,1], c=optics_model.labels_, cmap='rainbow',marker='.')"
   ]
  },
  {
   "cell_type": "code",
   "execution_count": 16,
   "id": "actual-bruce",
   "metadata": {},
   "outputs": [
    {
     "data": {
      "text/plain": [
       "19"
      ]
     },
     "execution_count": 16,
     "metadata": {},
     "output_type": "execute_result"
    }
   ],
   "source": [
    "realClusterNum = len(set(optics_model.labels_))-(1 if -1 in (optics_model.labels_) else 0)\n",
    "realClusterNum"
   ]
  },
  {
   "cell_type": "code",
   "execution_count": null,
   "id": "simple-edward",
   "metadata": {},
   "outputs": [],
   "source": []
  },
  {
   "cell_type": "code",
   "execution_count": null,
   "id": "simple-english",
   "metadata": {},
   "outputs": [],
   "source": []
  },
  {
   "cell_type": "code",
   "execution_count": null,
   "id": "sixth-faith",
   "metadata": {},
   "outputs": [],
   "source": []
  },
  {
   "cell_type": "code",
   "execution_count": null,
   "id": "demonstrated-exposure",
   "metadata": {},
   "outputs": [],
   "source": []
  },
  {
   "cell_type": "code",
   "execution_count": null,
   "id": "practical-clinic",
   "metadata": {},
   "outputs": [],
   "source": []
  },
  {
   "cell_type": "code",
   "execution_count": null,
   "id": "wooden-swimming",
   "metadata": {},
   "outputs": [],
   "source": []
  },
  {
   "cell_type": "code",
   "execution_count": null,
   "id": "exotic-country",
   "metadata": {},
   "outputs": [],
   "source": []
  },
  {
   "cell_type": "code",
   "execution_count": null,
   "id": "boolean-doubt",
   "metadata": {},
   "outputs": [],
   "source": []
  },
  {
   "cell_type": "code",
   "execution_count": null,
   "id": "formed-winter",
   "metadata": {},
   "outputs": [],
   "source": []
  },
  {
   "cell_type": "code",
   "execution_count": null,
   "id": "challenging-guyana",
   "metadata": {},
   "outputs": [],
   "source": []
  },
  {
   "cell_type": "code",
   "execution_count": null,
   "id": "fossil-courtesy",
   "metadata": {},
   "outputs": [],
   "source": []
  },
  {
   "cell_type": "code",
   "execution_count": null,
   "id": "eight-boating",
   "metadata": {},
   "outputs": [],
   "source": []
  }
 ],
 "metadata": {
  "kernelspec": {
   "display_name": "Python 3",
   "language": "python",
   "name": "python3"
  },
  "language_info": {
   "codemirror_mode": {
    "name": "ipython",
    "version": 3
   },
   "file_extension": ".py",
   "mimetype": "text/x-python",
   "name": "python",
   "nbconvert_exporter": "python",
   "pygments_lexer": "ipython3",
   "version": "3.8.5"
  }
 },
 "nbformat": 4,
 "nbformat_minor": 5
}
