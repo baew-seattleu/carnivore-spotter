{
 "cells": [
  {
   "cell_type": "code",
   "execution_count": 1,
   "id": "natural-scenario",
   "metadata": {},
   "outputs": [
    {
     "name": "stdout",
     "output_type": "stream",
     "text": [
      "3.8.5 (default, Sep  4 2020, 02:22:02) \n",
      "[Clang 10.0.0 ]\n",
      "3.3.2\n",
      "1.19.2\n",
      "1.6.0\n"
     ]
    }
   ],
   "source": [
    "import sys\n",
    "import matplotlib\n",
    "import numpy\n",
    "import scipy\n",
    "print(sys.version)\n",
    "print(matplotlib.__version__)\n",
    "print(numpy.__version__)\n",
    "print(scipy.__version__)"
   ]
  },
  {
   "cell_type": "code",
   "execution_count": 2,
   "id": "vietnamese-edition",
   "metadata": {},
   "outputs": [],
   "source": [
    "import pandas as pd\n",
    "from arcgis.features import GeoAccessor, GeoSeriesAccessor"
   ]
  },
  {
   "cell_type": "code",
   "execution_count": 3,
   "id": "driving-spokesman",
   "metadata": {},
   "outputs": [],
   "source": [
    "record= pd.read_csv(\"Desktop/Carnivore_Research/CS_21Jan27.csv\")"
   ]
  },
  {
   "cell_type": "code",
   "execution_count": 4,
   "id": "latter-inflation",
   "metadata": {},
   "outputs": [],
   "source": [
    "col=['Time_Seen','Species','Latitude','Longitude','Media']"
   ]
  },
  {
   "cell_type": "code",
   "execution_count": 5,
   "id": "mental-honduras",
   "metadata": {},
   "outputs": [],
   "source": [
    "record.columns = col\n",
    "record['Time_Seen'] = pd.to_datetime(record.Time_Seen,utc=True).copy()\n",
    "record['Month'] = record.Time_Seen.dt.month\n",
    "record['Hour'] = record.Time_Seen.dt.hour\n",
    "record['Year'] = record.Time_Seen.dt.year"
   ]
  },
  {
   "cell_type": "code",
   "execution_count": 6,
   "id": "chicken-album",
   "metadata": {},
   "outputs": [],
   "source": [
    "rec19 = record[record.Year == 2019]"
   ]
  },
  {
   "cell_type": "code",
   "execution_count": 7,
   "id": "accurate-stick",
   "metadata": {},
   "outputs": [],
   "source": [
    "rec19_coyo = rec19[rec19.Species == 'Coyote']"
   ]
  },
  {
   "cell_type": "code",
   "execution_count": 8,
   "id": "combined-costs",
   "metadata": {},
   "outputs": [
    {
     "data": {
      "text/html": [
       "<div>\n",
       "<style scoped>\n",
       "    .dataframe tbody tr th:only-of-type {\n",
       "        vertical-align: middle;\n",
       "    }\n",
       "\n",
       "    .dataframe tbody tr th {\n",
       "        vertical-align: top;\n",
       "    }\n",
       "\n",
       "    .dataframe thead th {\n",
       "        text-align: right;\n",
       "    }\n",
       "</style>\n",
       "<table border=\"1\" class=\"dataframe\">\n",
       "  <thead>\n",
       "    <tr style=\"text-align: right;\">\n",
       "      <th></th>\n",
       "      <th>Time_Seen</th>\n",
       "      <th>Species</th>\n",
       "      <th>Latitude</th>\n",
       "      <th>Longitude</th>\n",
       "      <th>Media</th>\n",
       "      <th>Month</th>\n",
       "      <th>Hour</th>\n",
       "      <th>Year</th>\n",
       "    </tr>\n",
       "  </thead>\n",
       "  <tbody>\n",
       "    <tr>\n",
       "      <th>0</th>\n",
       "      <td>2019-09-18 14:00:00.532000+00:00</td>\n",
       "      <td>Coyote</td>\n",
       "      <td>47.815188</td>\n",
       "      <td>-122.088653</td>\n",
       "      <td>[]</td>\n",
       "      <td>9</td>\n",
       "      <td>14</td>\n",
       "      <td>2019</td>\n",
       "    </tr>\n",
       "    <tr>\n",
       "      <th>1</th>\n",
       "      <td>2019-08-06 13:15:00+00:00</td>\n",
       "      <td>Coyote</td>\n",
       "      <td>47.683153</td>\n",
       "      <td>-122.127485</td>\n",
       "      <td>[]</td>\n",
       "      <td>8</td>\n",
       "      <td>13</td>\n",
       "      <td>2019</td>\n",
       "    </tr>\n",
       "    <tr>\n",
       "      <th>3</th>\n",
       "      <td>2019-08-01 16:45:00+00:00</td>\n",
       "      <td>Coyote</td>\n",
       "      <td>47.676127</td>\n",
       "      <td>-122.328966</td>\n",
       "      <td>[]</td>\n",
       "      <td>8</td>\n",
       "      <td>16</td>\n",
       "      <td>2019</td>\n",
       "    </tr>\n",
       "    <tr>\n",
       "      <th>4</th>\n",
       "      <td>2019-12-18 22:00:00+00:00</td>\n",
       "      <td>Coyote</td>\n",
       "      <td>47.647155</td>\n",
       "      <td>-122.078566</td>\n",
       "      <td>[]</td>\n",
       "      <td>12</td>\n",
       "      <td>22</td>\n",
       "      <td>2019</td>\n",
       "    </tr>\n",
       "    <tr>\n",
       "      <th>5</th>\n",
       "      <td>2019-02-21 20:00:00+00:00</td>\n",
       "      <td>Coyote</td>\n",
       "      <td>47.781035</td>\n",
       "      <td>-122.265332</td>\n",
       "      <td>[]</td>\n",
       "      <td>2</td>\n",
       "      <td>20</td>\n",
       "      <td>2019</td>\n",
       "    </tr>\n",
       "  </tbody>\n",
       "</table>\n",
       "</div>"
      ],
      "text/plain": [
       "                         Time_Seen Species   Latitude   Longitude Media  \\\n",
       "0 2019-09-18 14:00:00.532000+00:00  Coyote  47.815188 -122.088653    []   \n",
       "1        2019-08-06 13:15:00+00:00  Coyote  47.683153 -122.127485    []   \n",
       "3        2019-08-01 16:45:00+00:00  Coyote  47.676127 -122.328966    []   \n",
       "4        2019-12-18 22:00:00+00:00  Coyote  47.647155 -122.078566    []   \n",
       "5        2019-02-21 20:00:00+00:00  Coyote  47.781035 -122.265332    []   \n",
       "\n",
       "   Month  Hour  Year  \n",
       "0      9    14  2019  \n",
       "1      8    13  2019  \n",
       "3      8    16  2019  \n",
       "4     12    22  2019  \n",
       "5      2    20  2019  "
      ]
     },
     "execution_count": 8,
     "metadata": {},
     "output_type": "execute_result"
    }
   ],
   "source": [
    "rec19_coyo.head()"
   ]
  },
  {
   "cell_type": "code",
   "execution_count": 9,
   "id": "sustainable-shepherd",
   "metadata": {},
   "outputs": [
    {
     "name": "stderr",
     "output_type": "stream",
     "text": [
      "/Users/yinyingliang/opt/anaconda3/envs/geo_env2/lib/python3.8/site-packages/arcgis/features/geo/_io/fileops.py:153: SettingWithCopyWarning: \n",
      "A value is trying to be set on a copy of a slice from a DataFrame.\n",
      "Try using .loc[row_indexer,col_indexer] = value instead\n",
      "\n",
      "See the caveats in the documentation: https://pandas.pydata.org/pandas-docs/stable/user_guide/indexing.html#returning-a-view-versus-a-copy\n",
      "  df['SHAPE'] = GeoArray(ags_geom)\n"
     ]
    }
   ],
   "source": [
    "sdf_coyo19 = pd.DataFrame.spatial.from_xy(df = rec19_coyo, x_column = \"Longitude\",y_column=\"Latitude\",sr=4326).copy()"
   ]
  },
  {
   "cell_type": "code",
   "execution_count": 10,
   "id": "eleven-manufacturer",
   "metadata": {},
   "outputs": [],
   "source": [
    "from arcgis.gis import GIS"
   ]
  },
  {
   "cell_type": "code",
   "execution_count": 11,
   "id": "active-sandwich",
   "metadata": {},
   "outputs": [],
   "source": [
    "gis = GIS()\n",
    "seattleMap = gis.map('Seattle,WA')\n",
    "#seattleMap"
   ]
  },
  {
   "cell_type": "code",
   "execution_count": 12,
   "id": "brave-cross",
   "metadata": {},
   "outputs": [
    {
     "data": {
      "text/plain": [
       "True"
      ]
     },
     "execution_count": 12,
     "metadata": {},
     "output_type": "execute_result"
    }
   ],
   "source": [
    "sdf_coyo19.spatial.plot(kinds = 'map', map_widget = seattleMap, symbol_type='simple',\n",
    "        symbol_style='d', # d - for diamonds\n",
    "        colors='Reds_r',marker_size = 5)"
   ]
  },
  {
   "cell_type": "code",
   "execution_count": 13,
   "id": "sustained-imperial",
   "metadata": {},
   "outputs": [
    {
     "data": {
      "application/vnd.jupyter.widget-view+json": {
       "model_id": "2415e9e1867249699f8ac36ad422da42",
       "version_major": 2,
       "version_minor": 0
      },
      "text/plain": [
       "MapView(layout=Layout(height='400px', width='100%'))"
      ]
     },
     "metadata": {},
     "output_type": "display_data"
    },
    {
     "data": {
      "text/html": [
       "<div class=\"map-static-img-preview-6938d397-b6ac-4154-bef2-3aa8810cf003\"><img src=\"\"></img></div>"
      ],
      "text/plain": [
       "<IPython.core.display.HTML object>"
      ]
     },
     "metadata": {},
     "output_type": "display_data"
    },
    {
     "data": {
      "text/html": [
       "<div class=\"map-html-embed-preview-6938d397-b6ac-4154-bef2-3aa8810cf003\"></div>"
      ],
      "text/plain": [
       "<IPython.core.display.HTML object>"
      ]
     },
     "metadata": {},
     "output_type": "display_data"
    }
   ],
   "source": [
    "seattleMap"
   ]
  },
  {
   "cell_type": "code",
   "execution_count": 14,
   "id": "identified-penny",
   "metadata": {},
   "outputs": [
    {
     "data": {
      "text/plain": [
       "[<FeatureCollection>]"
      ]
     },
     "execution_count": 14,
     "metadata": {},
     "output_type": "execute_result"
    }
   ],
   "source": [
    "seattleMap.layers"
   ]
  },
  {
   "cell_type": "code",
   "execution_count": null,
   "id": "administrative-casino",
   "metadata": {},
   "outputs": [],
   "source": []
  }
 ],
 "metadata": {
  "kernelspec": {
   "display_name": "Python 3",
   "language": "python",
   "name": "python3"
  },
  "language_info": {
   "codemirror_mode": {
    "name": "ipython",
    "version": 3
   },
   "file_extension": ".py",
   "mimetype": "text/x-python",
   "name": "python",
   "nbconvert_exporter": "python",
   "pygments_lexer": "ipython3",
   "version": "3.8.5"
  }
 },
 "nbformat": 4,
 "nbformat_minor": 5
}
