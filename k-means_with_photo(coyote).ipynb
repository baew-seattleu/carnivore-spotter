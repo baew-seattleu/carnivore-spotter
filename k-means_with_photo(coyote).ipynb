{
 "cells": [
  {
   "cell_type": "code",
   "execution_count": 1,
   "metadata": {},
   "outputs": [
    {
     "name": "stdout",
     "output_type": "stream",
     "text": [
      "sklearn: 0.22.1\n"
     ]
    }
   ],
   "source": [
    "# check scikit-learn version\n",
    "import sklearn\n",
    "print('sklearn: %s' % sklearn.__version__)"
   ]
  },
  {
   "cell_type": "code",
   "execution_count": 2,
   "metadata": {},
   "outputs": [],
   "source": [
    "import time\n",
    "\n",
    "import numpy as np\n",
    "import pylab as pl\n",
    "\n",
    "from sklearn.cluster import MiniBatchKMeans, KMeans\n",
    "from sklearn.metrics.pairwise import euclidean_distances\n",
    "#from sklearn.datasets.samples_generator import make_blobs\n",
    "\n",
    "import math\n",
    "from sklearn.preprocessing import normalize\n",
    "from sklearn.decomposition import PCA\n",
    "\n",
    "import numpy as np\n",
    "import pandas as pd\n",
    "import matplotlib.pyplot as plt\n",
    "from sklearn.preprocessing import StandardScaler\n",
    "from sklearn.metrics.cluster import adjusted_rand_score\n",
    "\n",
    "from scipy.spatial import ConvexHull,convex_hull_plot_2d"
   ]
  },
  {
   "cell_type": "code",
   "execution_count": 3,
   "metadata": {},
   "outputs": [],
   "source": [
    "#king county boundaries\n",
    "maxLat = 47.7763\n",
    "minLat = 47.1878\n",
    "maxLon = -121.0941\n",
    "minLon = -122.5346"
   ]
  },
  {
   "cell_type": "code",
   "execution_count": 4,
   "metadata": {},
   "outputs": [],
   "source": [
    "#local path where the data locates, change it to your local path\n",
    "record= pd.read_csv(\"Desktop/Carnivore_Research/2020Nov10_CarnivoreSpotter.csv\")"
   ]
  },
  {
   "cell_type": "code",
   "execution_count": 5,
   "metadata": {},
   "outputs": [],
   "source": [
    "col=['Time_Seen','Species','Latitude','Longitude','Media']"
   ]
  },
  {
   "cell_type": "code",
   "execution_count": 6,
   "metadata": {},
   "outputs": [],
   "source": [
    "record.columns = col\n",
    "record['Time_Seen'] = pd.to_datetime(record.Time_Seen,utc=True).copy()\n",
    "record['Month'] = record.Time_Seen.dt.month\n",
    "record['Hour'] = record.Time_Seen.dt.hour\n",
    "record['Year'] = record.Time_Seen.dt.year"
   ]
  },
  {
   "cell_type": "code",
   "execution_count": 7,
   "metadata": {},
   "outputs": [],
   "source": [
    "rec_photo = record[record['Media'].str.len()>3] #the rows contain url"
   ]
  },
  {
   "cell_type": "code",
   "execution_count": 8,
   "metadata": {},
   "outputs": [],
   "source": [
    "rec_photo = rec_photo[(rec_photo['Latitude']>minLat)&(rec_photo['Latitude']<maxLat)&(rec_photo['Longitude']>minLon)&(rec_photo['Longitude']<maxLon)]"
   ]
  },
  {
   "cell_type": "code",
   "execution_count": 9,
   "metadata": {},
   "outputs": [
    {
     "data": {
      "text/plain": [
       "Time_Seen    252\n",
       "Species      252\n",
       "Latitude     252\n",
       "Longitude    252\n",
       "Media        252\n",
       "Month        252\n",
       "Hour         252\n",
       "Year         252\n",
       "dtype: int64"
      ]
     },
     "execution_count": 9,
     "metadata": {},
     "output_type": "execute_result"
    }
   ],
   "source": [
    "rec_photo = rec_photo[rec_photo.Year==2020]\n",
    "rec_photo.count()"
   ]
  },
  {
   "cell_type": "code",
   "execution_count": 10,
   "metadata": {},
   "outputs": [],
   "source": [
    "rec_coyo = rec_photo[(rec_photo.Species == 'Coyote')]"
   ]
  },
  {
   "cell_type": "code",
   "execution_count": 11,
   "metadata": {},
   "outputs": [
    {
     "data": {
      "text/plain": [
       "Time_Seen    73\n",
       "Species      73\n",
       "Latitude     73\n",
       "Longitude    73\n",
       "Media        73\n",
       "Month        73\n",
       "Hour         73\n",
       "Year         73\n",
       "dtype: int64"
      ]
     },
     "execution_count": 11,
     "metadata": {},
     "output_type": "execute_result"
    }
   ],
   "source": [
    "rec_coyo.count()"
   ]
  },
  {
   "cell_type": "code",
   "execution_count": 12,
   "metadata": {},
   "outputs": [],
   "source": [
    "rec_coyo = rec_coyo.drop(['Media'],axis=1)"
   ]
  },
  {
   "cell_type": "code",
   "execution_count": 13,
   "metadata": {},
   "outputs": [],
   "source": [
    "summer = rec_coyo[(rec_coyo.Month>=6)&(rec_coyo.Month<=8)] \n",
    "fall = rec_coyo[(rec_coyo.Month>=9)&(rec_coyo.Month<=11)]\n",
    "winter = rec_coyo[(rec_coyo.Month==12)|((rec_coyo.Month==1)|(rec_coyo.Month==2))]\n",
    "spring = rec_coyo[(rec_coyo.Month>=3)&(rec_coyo.Month<=5)]"
   ]
  },
  {
   "cell_type": "code",
   "execution_count": 14,
   "metadata": {},
   "outputs": [],
   "source": [
    "summer = summer.drop(['Time_Seen','Species','Month','Hour','Year'],axis=1)\n",
    "fall = fall.drop(['Time_Seen','Species','Month','Hour','Year'],axis=1)\n",
    "winter = winter.drop(['Time_Seen','Species','Month','Hour','Year'],axis=1)\n",
    "spring = spring.drop(['Time_Seen','Species','Month','Hour','Year'],axis=1)"
   ]
  },
  {
   "cell_type": "code",
   "execution_count": 15,
   "metadata": {},
   "outputs": [],
   "source": [
    "summer_scaled=StandardScaler().fit_transform(summer)\n",
    "fall_scaled=StandardScaler().fit_transform(fall)\n",
    "winter_scaled=StandardScaler().fit_transform(winter)\n",
    "spring_scaled=StandardScaler().fit_transform(spring)"
   ]
  },
  {
   "cell_type": "code",
   "execution_count": 16,
   "metadata": {},
   "outputs": [
    {
     "data": {
      "text/plain": [
       "KMeans(algorithm='auto', copy_x=True, init='k-means++', max_iter=300,\n",
       "       n_clusters=3, n_init=10, n_jobs=None, precompute_distances='auto',\n",
       "       random_state=None, tol=0.0001, verbose=0)"
      ]
     },
     "execution_count": 16,
     "metadata": {},
     "output_type": "execute_result"
    }
   ],
   "source": [
    "summer_kmeans = KMeans(n_clusters=3)\n",
    "summer_kmeans.fit(summer_scaled)"
   ]
  },
  {
   "cell_type": "code",
   "execution_count": 17,
   "metadata": {
    "scrolled": true
   },
   "outputs": [
    {
     "data": {
      "text/plain": [
       "<matplotlib.collections.PathCollection at 0x7fa03ab51070>"
      ]
     },
     "execution_count": 17,
     "metadata": {},
     "output_type": "execute_result"
    },
    {
     "data": {
      "image/png": "[encoded data removed]",
      "text/plain": [
       "<Figure size 432x288 with 1 Axes>"
      ]
     },
     "metadata": {
      "needs_background": "light"
     },
     "output_type": "display_data"
    }
   ],
   "source": [
    "plt.xlim(-8,3)\n",
    "plt.ylim(-6,6)\n",
    "\n",
    "plt.scatter(summer_scaled[:,0], summer_scaled[:,1], c=summer_kmeans.labels_, cmap='rainbow',marker='.')\n",
    "plt.scatter(summer_kmeans.cluster_centers_[:,0] ,summer_kmeans.cluster_centers_[:,1], color='black',marker=\"x\")"
   ]
  },
  {
   "cell_type": "code",
   "execution_count": 18,
   "metadata": {},
   "outputs": [
    {
     "data": {
      "text/plain": [
       "KMeans(algorithm='auto', copy_x=True, init='k-means++', max_iter=300,\n",
       "       n_clusters=3, n_init=10, n_jobs=None, precompute_distances='auto',\n",
       "       random_state=None, tol=0.0001, verbose=0)"
      ]
     },
     "execution_count": 18,
     "metadata": {},
     "output_type": "execute_result"
    }
   ],
   "source": [
    "fall_kmeans = KMeans(n_clusters=3)\n",
    "fall_kmeans.fit(fall_scaled)"
   ]
  },
  {
   "cell_type": "code",
   "execution_count": 19,
   "metadata": {},
   "outputs": [
    {
     "data": {
      "text/plain": [
       "<matplotlib.collections.PathCollection at 0x7fa03cdb2cd0>"
      ]
     },
     "execution_count": 19,
     "metadata": {},
     "output_type": "execute_result"
    },
    {
     "data": {
      "image/png": "[encoded data removed]",
      "text/plain": [
       "<Figure size 432x288 with 1 Axes>"
      ]
     },
     "metadata": {
      "needs_background": "light"
     },
     "output_type": "display_data"
    }
   ],
   "source": [
    "plt.xlim(-8,3)\n",
    "plt.ylim(-6,6)\n",
    "\n",
    "plt.scatter(fall_scaled[:,0], fall_scaled[:,1], c=fall_kmeans.labels_, cmap='rainbow',marker='.')\n",
    "plt.scatter(fall_kmeans.cluster_centers_[:,0] ,fall_kmeans.cluster_centers_[:,1], color='black',marker=\"x\")"
   ]
  },
  {
   "cell_type": "code",
   "execution_count": 20,
   "metadata": {},
   "outputs": [
    {
     "data": {
      "text/plain": [
       "KMeans(algorithm='auto', copy_x=True, init='k-means++', max_iter=300,\n",
       "       n_clusters=3, n_init=10, n_jobs=None, precompute_distances='auto',\n",
       "       random_state=None, tol=0.0001, verbose=0)"
      ]
     },
     "execution_count": 20,
     "metadata": {},
     "output_type": "execute_result"
    }
   ],
   "source": [
    "winter_kmeans = KMeans(n_clusters=3)\n",
    "winter_kmeans.fit(winter_scaled)"
   ]
  },
  {
   "cell_type": "code",
   "execution_count": 21,
   "metadata": {},
   "outputs": [
    {
     "data": {
      "text/plain": [
       "<matplotlib.collections.PathCollection at 0x7fa042107eb0>"
      ]
     },
     "execution_count": 21,
     "metadata": {},
     "output_type": "execute_result"
    },
    {
     "data": {
      "image/png": "[encoded data removed]",
      "text/plain": [
       "<Figure size 432x288 with 1 Axes>"
      ]
     },
     "metadata": {
      "needs_background": "light"
     },
     "output_type": "display_data"
    }
   ],
   "source": [
    "plt.xlim(-8,3)\n",
    "plt.ylim(-6,6)\n",
    "plt.scatter(winter_scaled[:,0], winter_scaled[:,1], c=winter_kmeans.labels_, cmap='rainbow',marker='.')\n",
    "plt.scatter(winter_kmeans.cluster_centers_[:,0] ,winter_kmeans.cluster_centers_[:,1], color='black',marker=\"x\")"
   ]
  },
  {
   "cell_type": "code",
   "execution_count": 22,
   "metadata": {},
   "outputs": [
    {
     "data": {
      "text/plain": [
       "KMeans(algorithm='auto', copy_x=True, init='k-means++', max_iter=300,\n",
       "       n_clusters=3, n_init=10, n_jobs=None, precompute_distances='auto',\n",
       "       random_state=None, tol=0.0001, verbose=0)"
      ]
     },
     "execution_count": 22,
     "metadata": {},
     "output_type": "execute_result"
    }
   ],
   "source": [
    "spring_kmeans = KMeans(n_clusters=3)\n",
    "spring_kmeans.fit(spring_scaled)"
   ]
  },
  {
   "cell_type": "code",
   "execution_count": 23,
   "metadata": {},
   "outputs": [
    {
     "data": {
      "text/plain": [
       "<matplotlib.collections.PathCollection at 0x7fa0422470a0>"
      ]
     },
     "execution_count": 23,
     "metadata": {},
     "output_type": "execute_result"
    },
    {
     "data": {
      "image/png": "[encoded data removed]",
      "text/plain": [
       "<Figure size 432x288 with 1 Axes>"
      ]
     },
     "metadata": {
      "needs_background": "light"
     },
     "output_type": "display_data"
    }
   ],
   "source": [
    "plt.xlim(-8,3)\n",
    "plt.ylim(-6,6)\n",
    "plt.scatter(spring_scaled[:,0], spring_scaled[:,1], c=spring_kmeans.labels_, cmap='rainbow',marker='.')\n",
    "plt.scatter(spring_kmeans.cluster_centers_[:,0] ,spring_kmeans.cluster_centers_[:,1], color='black',marker=\"x\")"
   ]
  },
  {
   "cell_type": "code",
   "execution_count": null,
   "metadata": {},
   "outputs": [],
   "source": []
  },
  {
   "cell_type": "code",
   "execution_count": null,
   "metadata": {},
   "outputs": [],
   "source": []
  },
  {
   "cell_type": "code",
   "execution_count": null,
   "metadata": {},
   "outputs": [],
   "source": []
  },
  {
   "cell_type": "code",
   "execution_count": null,
   "metadata": {},
   "outputs": [],
   "source": []
  },
  {
   "cell_type": "code",
   "execution_count": null,
   "metadata": {},
   "outputs": [],
   "source": []
  }
 ],
 "metadata": {
  "kernelspec": {
   "display_name": "Python 3",
   "language": "python",
   "name": "python3"
  },
  "language_info": {
   "codemirror_mode": {
    "name": "ipython",
    "version": 3
   },
   "file_extension": ".py",
   "mimetype": "text/x-python",
   "name": "python",
   "nbconvert_exporter": "python",
   "pygments_lexer": "ipython3",
   "version": "3.8.5"
  }
 },
 "nbformat": 4,
 "nbformat_minor": 4
}
