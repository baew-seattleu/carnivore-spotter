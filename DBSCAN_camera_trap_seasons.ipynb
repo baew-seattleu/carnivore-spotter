{
 "cells": [
  {
   "cell_type": "code",
   "execution_count": null,
   "metadata": {},
   "outputs": [],
   "source": [
    "#need to install sklearn package"
   ]
  },
  {
   "cell_type": "code",
   "execution_count": 1,
   "metadata": {},
   "outputs": [],
   "source": [
    "%matplotlib inline\n",
    "import numpy as np\n",
    "import pandas as pd\n",
    "import matplotlib.pyplot as plt\n",
    "\n",
    "from sklearn.cluster import DBSCAN\n",
    "from sklearn.preprocessing import StandardScaler"
   ]
  },
  {
   "cell_type": "code",
   "execution_count": 2,
   "metadata": {},
   "outputs": [],
   "source": [
    "#king county boundaries\n",
    "maxLat = 47.7763\n",
    "minLat = 47.1878\n",
    "maxLon = -121.0941\n",
    "minLon = -122.5346"
   ]
  },
  {
   "cell_type": "code",
   "execution_count": 3,
   "metadata": {},
   "outputs": [],
   "source": [
    "df = pd.read_csv(\"Downloads/camera_results.csv\")"
   ]
  },
  {
   "cell_type": "code",
   "execution_count": 4,
   "metadata": {},
   "outputs": [],
   "source": [
    "record_cols = ['Begin_Time','Species_Name','Common_Name','Actual_Lat','Actual_Lon']\n",
    "df.columns = record_cols"
   ]
  },
  {
   "cell_type": "code",
   "execution_count": 5,
   "metadata": {},
   "outputs": [],
   "source": [
    "df = df[(df['Actual_Lat']>minLat)&(df['Actual_Lat']<maxLat)&(df['Actual_Lon']>minLon)&(df['Actual_Lon']<maxLon)]"
   ]
  },
  {
   "cell_type": "code",
   "execution_count": 6,
   "metadata": {},
   "outputs": [],
   "source": [
    "df['Begin_Time']=pd.to_datetime(df.Begin_Time).copy()"
   ]
  },
  {
   "cell_type": "code",
   "execution_count": 7,
   "metadata": {},
   "outputs": [],
   "source": [
    "df['Month']=df.Begin_Time.dt.month"
   ]
  },
  {
   "cell_type": "code",
   "execution_count": 8,
   "metadata": {},
   "outputs": [],
   "source": [
    "summer = df[(df.Month>=6)&(df.Month<=8)] \n",
    "fall = df[(df.Month>=9)&(df.Month<=11)]\n",
    "winter = df[(df.Month==12)|((df.Month==1)|(df.Month==2))]\n",
    "spring = df[(df.Month>=3)&(df.Month<=5)]"
   ]
  },
  {
   "cell_type": "code",
   "execution_count": 9,
   "metadata": {},
   "outputs": [],
   "source": [
    "#coyote\n",
    "coyo_sum = summer[summer.Common_Name=='Coyote']\n",
    "coyo_fall = fall[fall.Common_Name=='Coyote']\n",
    "coyo_winter = winter[winter.Common_Name=='Coyote']\n",
    "coyo_spring = spring[spring.Common_Name=='Coyote']"
   ]
  },
  {
   "cell_type": "code",
   "execution_count": 10,
   "metadata": {},
   "outputs": [],
   "source": [
    "#black bear\n",
    "b_sum = summer[summer.Common_Name=='American Black Bear']\n",
    "b_fall = fall[fall.Common_Name=='American Black Bear']\n",
    "b_winter = winter[winter.Common_Name=='American Black Bear']\n",
    "b_spring = spring[spring.Common_Name=='American Black Bear']\n"
   ]
  },
  {
   "cell_type": "code",
   "execution_count": 11,
   "metadata": {},
   "outputs": [],
   "source": [
    "#raccoon\n",
    "r_sum = summer[summer.Common_Name=='Northern Raccoon']\n",
    "r_fall = fall[fall.Common_Name=='Northern Raccoon']\n",
    "r_winter = winter[winter.Common_Name=='Northern Raccoon']\n",
    "r_spring = spring[spring.Common_Name=='Northen Raccoon']\n",
    "\n"
   ]
  },
  {
   "cell_type": "code",
   "execution_count": 12,
   "metadata": {},
   "outputs": [],
   "source": [
    "#coyote, American Black Bear,Northern Raccoon\n",
    "cbr_summer = summer[(summer.Common_Name=='Coyote')|(summer.Common_Name=='American Black Bear')|(summer.Common_Name=='Northern Raccoon')]\n",
    "cbr_fall = fall[(fall.Common_Name=='Coyote')|(fall.Common_Name=='American Black Bear')|(fall.Common_Name=='Northern Raccoon')]\n",
    "cbr_winter = winter[(winter.Common_Name=='Coyote')|(winter.Common_Name=='American Black Bear')|(winter.Common_Name =='Northern Raccoon')]\n",
    "cbr_spring = spring[(spring.Common_Name=='Coyote')|(spring.Common_Name=='American Black Bear')|(spring.Common_Name=='Northern Raccoon')]"
   ]
  },
  {
   "cell_type": "code",
   "execution_count": 13,
   "metadata": {},
   "outputs": [],
   "source": [
    "summer = summer.drop(['Begin_Time','Species_Name','Common_Name','Month'],axis=1)\n",
    "fall = fall.drop(['Begin_Time','Species_Name','Common_Name','Month'],axis=1)\n",
    "winter = winter.drop(['Begin_Time','Species_Name','Common_Name','Month'],axis=1)\n",
    "spring = spring.drop(['Begin_Time','Species_Name','Common_Name','Month'],axis=1)"
   ]
  },
  {
   "cell_type": "code",
   "execution_count": 14,
   "metadata": {},
   "outputs": [],
   "source": [
    "coyo_sum = coyo_sum.drop(['Begin_Time','Species_Name','Common_Name','Month'],axis=1)\n",
    "coyo_fall = coyo_fall.drop(['Begin_Time','Species_Name','Common_Name','Month'],axis=1)\n",
    "coyo_winter = coyo_winter.drop(['Begin_Time','Species_Name','Common_Name','Month'],axis=1)\n",
    "coyo_spring = coyo_spring.drop(['Begin_Time','Species_Name','Common_Name','Month'],axis=1)"
   ]
  },
  {
   "cell_type": "code",
   "execution_count": 15,
   "metadata": {},
   "outputs": [],
   "source": [
    "b_sum = b_sum.drop(['Begin_Time','Species_Name','Common_Name','Month'],axis=1)\n",
    "b_fall = b_fall.drop(['Begin_Time','Species_Name','Common_Name','Month'],axis=1)\n",
    "b_winter = b_winter.drop(['Begin_Time','Species_Name','Common_Name','Month'],axis=1)\n",
    "b_spring = b_spring.drop(['Begin_Time','Species_Name','Common_Name','Month'],axis=1)"
   ]
  },
  {
   "cell_type": "code",
   "execution_count": 16,
   "metadata": {},
   "outputs": [],
   "source": [
    "r_sum = r_sum.drop(['Begin_Time','Species_Name','Common_Name','Month'],axis=1)\n",
    "r_fall = r_fall.drop(['Begin_Time','Species_Name','Common_Name','Month'],axis=1)\n",
    "r_winter = r_winter.drop(['Begin_Time','Species_Name','Common_Name','Month'],axis=1)\n",
    "r_spring = r_spring.drop(['Begin_Time','Species_Name','Common_Name','Month'],axis=1)"
   ]
  },
  {
   "cell_type": "code",
   "execution_count": 17,
   "metadata": {},
   "outputs": [],
   "source": [
    "cbr_summer = cbr_summer.drop(['Begin_Time','Species_Name','Common_Name','Month'],axis=1)\n",
    "cbr_fall = cbr_fall.drop(['Begin_Time','Species_Name','Common_Name','Month'],axis=1)\n",
    "cbr_winter = cbr_winter.drop(['Begin_Time','Species_Name','Common_Name','Month'],axis=1)\n",
    "cbr_spring = cbr_spring.drop(['Begin_Time','Species_Name','Common_Name','Month'],axis=1)"
   ]
  },
  {
   "cell_type": "code",
   "execution_count": 18,
   "metadata": {},
   "outputs": [],
   "source": [
    "summer.fillna(method='bfill',inplace=True)\n",
    "fall.fillna(method='bfill',inplace=True)\n",
    "winter.fillna(method='bfill',inplace=True)\n",
    "spring.fillna(method='bfill',inplace=True)"
   ]
  },
  {
   "cell_type": "code",
   "execution_count": 19,
   "metadata": {},
   "outputs": [],
   "source": [
    "coyo_sum.fillna(method='bfill',inplace=True)\n",
    "coyo_fall.fillna(method='bfill',inplace=True)\n",
    "coyo_winter.fillna(method='bfill',inplace=True)\n",
    "coyo_spring.fillna(method='bfill',inplace=True)"
   ]
  },
  {
   "cell_type": "code",
   "execution_count": 20,
   "metadata": {},
   "outputs": [],
   "source": [
    "b_sum.fillna(method='bfill',inplace=True)\n",
    "b_fall.fillna(method='bfill',inplace=True)\n",
    "b_winter.fillna(method='bfill',inplace=True)\n",
    "b_spring.fillna(method='bfill',inplace=True)"
   ]
  },
  {
   "cell_type": "code",
   "execution_count": 21,
   "metadata": {},
   "outputs": [],
   "source": [
    "r_sum.fillna(method='bfill',inplace=True)\n",
    "r_fall.fillna(method='bfill',inplace=True)\n",
    "r_winter.fillna(method='bfill',inplace=True)\n",
    "r_spring.fillna(method='bfill',inplace=True)"
   ]
  },
  {
   "cell_type": "code",
   "execution_count": 22,
   "metadata": {},
   "outputs": [],
   "source": [
    "summer_scaled=StandardScaler().fit_transform(summer)\n",
    "fall_scaled=StandardScaler().fit_transform(fall)\n",
    "winter_scaled=StandardScaler().fit_transform(winter)\n",
    "spring_scaled=StandardScaler().fit_transform(spring)"
   ]
  },
  {
   "cell_type": "code",
   "execution_count": 23,
   "metadata": {},
   "outputs": [],
   "source": [
    "#coyote\n",
    "coyo_summer_scaled=StandardScaler().fit_transform(coyo_sum)\n",
    "coyo_fall_scaled=StandardScaler().fit_transform(coyo_fall)\n",
    "coyo_winter_scaled=StandardScaler().fit_transform(coyo_winter)\n",
    "coyo_spring_scaled=StandardScaler().fit_transform(coyo_spring)"
   ]
  },
  {
   "cell_type": "code",
   "execution_count": 24,
   "metadata": {},
   "outputs": [],
   "source": [
    "#black bear\n",
    "b_summer_scaled=StandardScaler().fit_transform(b_sum) \n",
    "b_fall_scaled=StandardScaler().fit_transform(b_fall)\n",
    "#no data point in winter\n",
    "b_spring_scaled=StandardScaler().fit_transform(b_spring)"
   ]
  },
  {
   "cell_type": "code",
   "execution_count": 25,
   "metadata": {},
   "outputs": [],
   "source": [
    "#raccoon\n",
    "r_summer_scaled=StandardScaler().fit_transform(r_sum)\n",
    "r_fall_scaled=StandardScaler().fit_transform(r_fall)\n",
    "r_winter_scaled=StandardScaler().fit_transform(r_winter)\n",
    "#no data point in spring"
   ]
  },
  {
   "cell_type": "code",
   "execution_count": 26,
   "metadata": {},
   "outputs": [],
   "source": [
    "#cbr(coyote,black bear,raccoon)\n",
    "cbr_summer_scaled=StandardScaler().fit_transform(cbr_summer)\n",
    "cbr_fall_scaled=StandardScaler().fit_transform(cbr_fall)\n",
    "cbr_winter_scaled=StandardScaler().fit_transform(cbr_winter)\n",
    "cbr_spring_scaled=StandardScaler().fit_transform(cbr_spring)"
   ]
  },
  {
   "cell_type": "code",
   "execution_count": null,
   "metadata": {},
   "outputs": [],
   "source": [
    "#use k-distance graph to estimate the epsilon value\n",
    "#values use for the parameters are not yet optimal"
   ]
  },
  {
   "cell_type": "code",
   "execution_count": 27,
   "metadata": {},
   "outputs": [
    {
     "name": "stdout",
     "output_type": "stream",
     "text": [
      "realclusterNum_summer 2\n",
      "clusterNum_summer 2\n",
      "realclusterNum_fall 1\n",
      "clusterNum_fall 1\n",
      "realclusterNum_winter 2\n",
      "clusterNum_winter 2\n",
      "realclusterNum_spring 1\n",
      "clusterNum_spring 1\n"
     ]
    }
   ],
   "source": [
    "db_summer = DBSCAN(eps=2,min_samples=2).fit(summer_scaled)\n",
    "summer_labels = db_summer.labels_\n",
    "realClusterNum_summer = len(set(summer_labels))-(1 if -1 in summer_labels else 0)\n",
    "clusterNum_summer = len(set(summer_labels))\n",
    "print(\"realclusterNum_summer\",realClusterNum_summer)\n",
    "print(\"clusterNum_summer\",clusterNum_summer)\n",
    "\n",
    "db_fall = DBSCAN(eps=2,min_samples=3).fit(fall_scaled)\n",
    "fall_labels = db_fall.labels_\n",
    "realClusterNum_fall = len(set(fall_labels))-(1 if -1 in fall_labels else 0)\n",
    "clusterNum_fall = len(set(fall_labels))\n",
    "print(\"realclusterNum_fall\",realClusterNum_fall)\n",
    "print(\"clusterNum_fall\",clusterNum_fall)\n",
    "\n",
    "db_winter = DBSCAN(eps=2,min_samples=3).fit(winter_scaled)\n",
    "winter_labels = db_winter.labels_\n",
    "realClusterNum_winter = len(set(winter_labels))-(1 if -1 in winter_labels else 0)\n",
    "clusterNum_winter = len(set(winter_labels))\n",
    "print(\"realclusterNum_winter\",realClusterNum_winter)\n",
    "print(\"clusterNum_winter\",clusterNum_winter)\n",
    "\n",
    "db_spring= DBSCAN(eps=2,min_samples=3).fit(spring_scaled)\n",
    "spring_labels = db_spring.labels_\n",
    "realClusterNum_spring = len(set(spring_labels))-(1 if -1 in spring_labels else 0)\n",
    "clusterNum_spring = len(set(spring_labels))\n",
    "print(\"realclusterNum_spring\",realClusterNum_spring)\n",
    "print(\"clusterNum_spring\",clusterNum_spring)"
   ]
  },
  {
   "cell_type": "code",
   "execution_count": 28,
   "metadata": {},
   "outputs": [],
   "source": [
    "y_pred_summer = db_summer.fit_predict(summer_scaled)\n",
    "y_pred_fall = db_fall.fit_predict(fall_scaled)\n",
    "y_pred_winter = db_winter.fit_predict(winter_scaled)\n",
    "y_pred_spring = db_spring.fit_predict(spring_scaled)"
   ]
  },
  {
   "cell_type": "code",
   "execution_count": 29,
   "metadata": {
    "scrolled": true
   },
   "outputs": [
    {
     "data": {
      "text/plain": [
       "Text(0.5, 1.0, 'Spring')"
      ]
     },
     "execution_count": 29,
     "metadata": {},
     "output_type": "execute_result"
    },
    {
     "data": {
      "image/png": "[encoded data removed]",
      "text/plain": [
       "<Figure size 720x720 with 4 Axes>"
      ]
     },
     "metadata": {
      "needs_background": "light"
     },
     "output_type": "display_data"
    }
   ],
   "source": [
    "fig,axs = plt.subplots(2,2,figsize=(10,10))\n",
    "c_xlim=(-6,3)\n",
    "c_ylim=(-3,6)\n",
    "plt.setp(axs,xlim=c_xlim,ylim=c_ylim)\n",
    "axs[0,0].scatter(summer_scaled[:,0],summer_scaled[:,1],c=y_pred_summer,cmap='Paired',marker='.')\n",
    "axs[0,0].set_title('Summer')\n",
    "axs[0,1].scatter(fall_scaled[:,0],fall_scaled[:,1],c=y_pred_fall,cmap='Paired',marker='.')\n",
    "axs[0,1].set_title('Fall')\n",
    "axs[1,0].scatter(winter_scaled[:,0],winter_scaled[:,1],c=y_pred_winter,cmap='Paired',marker='.')\n",
    "axs[1,0].set_title('Winter')\n",
    "axs[1,1].scatter(spring_scaled[:,0],spring_scaled[:,1],c=y_pred_spring,cmap='Paired',marker='.')\n",
    "axs[1,1].set_title('Spring')"
   ]
  },
  {
   "cell_type": "code",
   "execution_count": 30,
   "metadata": {},
   "outputs": [
    {
     "name": "stdout",
     "output_type": "stream",
     "text": [
      "spring cluster1: 2629\n",
      "summer cluster1: 3654 summer cluster 2: 40\n",
      "fall cluster: 3357\n",
      "winter cluster 1: 896 winter cluster 2: 14\n"
     ]
    }
   ],
   "source": [
    "spring_clus = [spring_scaled[spring_labels==i] for i in range(realClusterNum_spring)]\n",
    "summer_clus = [summer_scaled[summer_labels == i] for i in range(realClusterNum_summer)]\n",
    "fall_clus = [fall_scaled[fall_labels==i] for i in range(realClusterNum_fall)]\n",
    "winter_clus = [winter_scaled[winter_labels==i] for i in range(realClusterNum_winter)]\n",
    "print('spring cluster1:',len(spring_clus[0]))\n",
    "print('------------------------------------------------------------------------------')\n",
    "print('summer cluster1:',len(summer_clus[0]),'summer cluster 2:',len(summer_clus[1]))\n",
    "print('------------------------------------------------------------------------------')\n",
    "print('fall cluster:',len(fall_clus[0]))\n",
    "print('------------------------------------------------------------------------------')\n",
    "print('winter cluster 1:',len(winter_clus[0]),'winter cluster 2:',len(winter_clus[1]))"
   ]
  },
  {
   "cell_type": "code",
   "execution_count": 31,
   "metadata": {},
   "outputs": [
    {
     "name": "stdout",
     "output_type": "stream",
     "text": [
      "realclusterNum_summer_coyo 8\n",
      "clusterNum_summer_coyo 9\n",
      "realclusterNum_fall_coyo 4\n",
      "clusterNum_fall_coyo 5\n",
      "realclusterNum_winter_coyo 2\n",
      "clusterNum_winter_coyo 3\n",
      "realclusterNum_spring 4\n",
      "clusterNum_spring 5\n"
     ]
    }
   ],
   "source": [
    "#coyote\n",
    "db_summer_coyo = DBSCAN(eps=0.55,min_samples=3).fit(coyo_summer_scaled)\n",
    "coyo_summer_labels = db_summer_coyo.labels_\n",
    "realClusterNum_summer_coyo = len(set(coyo_summer_labels))-(1 if -1 in coyo_summer_labels else 0)\n",
    "clusterNum_summer_coyo = len(set(coyo_summer_labels))\n",
    "print(\"realclusterNum_summer_coyo\",realClusterNum_summer_coyo)\n",
    "print(\"clusterNum_summer_coyo\",clusterNum_summer_coyo)\n",
    "\n",
    "db_fall_coyo = DBSCAN(eps=0.55,min_samples=3).fit(coyo_fall_scaled)\n",
    "coyo_fall_labels = db_fall_coyo.labels_\n",
    "realClusterNum_fall_coyo = len(set(coyo_fall_labels))-(1 if -1 in coyo_fall_labels else 0)\n",
    "clusterNum_fall_coyo = len(set(coyo_fall_labels))\n",
    "print(\"realclusterNum_fall_coyo\",realClusterNum_fall_coyo)\n",
    "print(\"clusterNum_fall_coyo\",clusterNum_fall_coyo)\n",
    "\n",
    "db_winter_coyo = DBSCAN(eps=0.55,min_samples=3).fit(coyo_winter_scaled)\n",
    "coyo_winter_labels = db_winter_coyo.labels_\n",
    "realClusterNum_winter_coyo = len(set(coyo_winter_labels))-(1 if -1 in coyo_winter_labels else 0)\n",
    "clusterNum_winter_coyo = len(set(coyo_winter_labels))\n",
    "print(\"realclusterNum_winter_coyo\",realClusterNum_winter_coyo)\n",
    "print(\"clusterNum_winter_coyo\",clusterNum_winter_coyo)\n",
    "\n",
    "db_spring_coyo= DBSCAN(eps=0.55,min_samples=3).fit(coyo_spring_scaled)\n",
    "coyo_spring_labels = db_spring_coyo.labels_\n",
    "realClusterNum_spring_coyo = len(set(coyo_spring_labels))-(1 if -1 in coyo_spring_labels else 0)\n",
    "clusterNum_spring_coyo = len(set(coyo_spring_labels))\n",
    "print(\"realclusterNum_spring\",realClusterNum_spring_coyo)\n",
    "print(\"clusterNum_spring\",clusterNum_spring_coyo)"
   ]
  },
  {
   "cell_type": "code",
   "execution_count": 32,
   "metadata": {},
   "outputs": [],
   "source": [
    "#coyote\n",
    "y_pred_summer_coyo = db_summer_coyo.fit_predict(coyo_summer_scaled)\n",
    "y_pred_fall_coyo = db_fall_coyo.fit_predict(coyo_fall_scaled)\n",
    "y_pred_winter_coyo = db_winter_coyo.fit_predict(coyo_winter_scaled)\n",
    "y_pred_spring_coyo = db_spring_coyo.fit_predict(coyo_spring_scaled)"
   ]
  },
  {
   "cell_type": "code",
   "execution_count": 33,
   "metadata": {
    "scrolled": false
   },
   "outputs": [
    {
     "data": {
      "text/plain": [
       "Text(0.5, 1.0, 'Winter coyote')"
      ]
     },
     "execution_count": 33,
     "metadata": {},
     "output_type": "execute_result"
    },
    {
     "data": {
      "image/png": "[encoded data removed]",
      "text/plain": [
       "<Figure size 936x720 with 4 Axes>"
      ]
     },
     "metadata": {
      "needs_background": "light"
     },
     "output_type": "display_data"
    }
   ],
   "source": [
    "fig,axs = plt.subplots(2,2,figsize=(13,10))\n",
    "c_xlim=(-6,3)\n",
    "c_ylim=(-3,6)\n",
    "plt.setp(axs,xlim=c_xlim,ylim=c_ylim)\n",
    "axs[0,0].scatter(coyo_spring_scaled[:,0],coyo_spring_scaled[:,1],c=y_pred_spring_coyo,cmap='Paired',marker='.')\n",
    "axs[0,0].set_title('Spring coyote')\n",
    "axs[0,1].scatter(coyo_summer_scaled[:,0],coyo_summer_scaled[:,1],c=y_pred_summer_coyo,cmap='Paired',marker='.')\n",
    "axs[0,1].set_title('Summer coyote')\n",
    "axs[1,0].scatter(coyo_fall_scaled[:,0],coyo_fall_scaled[:,1],c=y_pred_fall_coyo,cmap='Paired',marker='.')\n",
    "axs[1,0].set_title('Fall coyote')\n",
    "axs[1,1].scatter(coyo_winter_scaled[:,0],coyo_winter_scaled[:,1],c=y_pred_winter_coyo,cmap='Paired',marker='.')\n",
    "axs[1,1].set_title('Winter coyote')"
   ]
  },
  {
   "cell_type": "code",
   "execution_count": 34,
   "metadata": {},
   "outputs": [
    {
     "name": "stdout",
     "output_type": "stream",
     "text": [
      "coyote spring clus1: 3 clus2: 10 clus3: 21 clus4: 37\n",
      "------------------------------------------------------------------------------\n",
      "coyote summer clus1: 14 clus2: 10 clus3: 3 clus4: 9 clus5: 73 clus6: 316 clus7: 4 clus8: 12\n",
      "------------------------------------------------------------------------------\n",
      "coyote fall clus1: 16 clus2: 55 clus3: 15 clus4: 3\n",
      "------------------------------------------------------------------------------\n",
      "coyote winter clus1: 25 clus2: 19\n"
     ]
    }
   ],
   "source": [
    "coyo_spring_clus = [coyo_spring_scaled[coyo_spring_labels == i] for i in range(realClusterNum_spring_coyo)]\n",
    "coyo_summer_clus = [coyo_summer_scaled[coyo_summer_labels == i] for i in range(realClusterNum_summer_coyo)]\n",
    "coyo_fall_clus = [coyo_fall_scaled[coyo_fall_labels == i] for i in range(realClusterNum_fall_coyo)]\n",
    "coyo_winter_clus = [coyo_winter_scaled[coyo_winter_labels == i] for i in range(realClusterNum_winter_coyo)]\n",
    "\n",
    "print('coyote spring clus1:',len(coyo_spring_clus[0]),'clus2:',len(coyo_spring_clus[1]),'clus3:',len(coyo_spring_clus[2]),'clus4:',len(coyo_spring_clus[3]))\n",
    "print('------------------------------------------------------------------------------')\n",
    "print('coyote summer clus1:',len(coyo_summer_clus[0]),'clus2:',len(coyo_summer_clus[1]),'clus3:',len(coyo_summer_clus[2]),'clus4:',len(coyo_summer_clus[3]),'clus5:',len(coyo_summer_clus[4]),'clus6:',len(coyo_summer_clus[5]),'clus7:',len(coyo_summer_clus[6]),'clus8:',len(coyo_summer_clus[7]))\n",
    "print('------------------------------------------------------------------------------')\n",
    "print('coyote fall clus1:',len(coyo_fall_clus[0]),'clus2:',len(coyo_fall_clus[1]),'clus3:',len(coyo_fall_clus[2]),'clus4:',len(coyo_fall_clus[3]))\n",
    "print('------------------------------------------------------------------------------')\n",
    "print('coyote winter clus1:',len(coyo_winter_clus[0]),'clus2:',len(coyo_winter_clus[1]))\n"
   ]
  },
  {
   "cell_type": "code",
   "execution_count": 63,
   "metadata": {},
   "outputs": [
    {
     "name": "stdout",
     "output_type": "stream",
     "text": [
      "realclusterNum_summer_b 2\n",
      "clusterNum_summer_b 3\n",
      "realclusterNum_fall_b 1\n",
      "clusterNum_fall_b 1\n",
      "realclusterNum_spring_b 1\n",
      "clusterNum_spring_b 1\n"
     ]
    }
   ],
   "source": [
    "#black bear\n",
    "db_summer_b = DBSCAN(eps=0.55,min_samples=3).fit(b_summer_scaled)\n",
    "b_summer_labels = db_summer_b.labels_\n",
    "realClusterNum_summer_b = len(set(b_summer_labels))-(1 if -1 in b_summer_labels else 0)\n",
    "clusterNum_summer_b = len(set(b_summer_labels))\n",
    "print(\"realclusterNum_summer_b\",realClusterNum_summer_b)\n",
    "print(\"clusterNum_summer_b\",clusterNum_summer_b)\n",
    "\n",
    "db_fall_b = DBSCAN(eps=0.01,min_samples=1).fit(b_fall_scaled)\n",
    "b_fall_labels = db_fall_b.labels_\n",
    "realClusterNum_fall_b = len(set(b_fall_labels))-(1 if -1 in b_fall_labels else 0)\n",
    "clusterNum_fall_b = len(set(b_fall_labels))\n",
    "print(\"realclusterNum_fall_b\",realClusterNum_fall_b)\n",
    "print(\"clusterNum_fall_b\",clusterNum_fall_b)\n",
    "\n",
    "db_spring_b= DBSCAN(eps=0.01,min_samples=1).fit(b_spring_scaled)\n",
    "b_spring_labels = db_spring_b.labels_\n",
    "realClusterNum_spring_b = len(set(b_spring_labels))-(1 if -1 in b_spring_labels else 0)\n",
    "clusterNum_spring_b = len(set(b_spring_labels))\n",
    "print(\"realclusterNum_spring_b\",realClusterNum_spring_b)\n",
    "print(\"clusterNum_spring_b\",clusterNum_spring_b)"
   ]
  },
  {
   "cell_type": "code",
   "execution_count": 64,
   "metadata": {},
   "outputs": [],
   "source": [
    "#black bear\n",
    "y_pred_summer_b = db_summer_b.fit_predict(b_summer_scaled)\n",
    "y_pred_fall_b= db_fall_b.fit_predict(b_fall_scaled)\n",
    "y_pred_spring_b = db_spring_b.fit_predict(b_spring_scaled)"
   ]
  },
  {
   "cell_type": "code",
   "execution_count": 65,
   "metadata": {
    "scrolled": false
   },
   "outputs": [
    {
     "data": {
      "text/plain": [
       "Text(0.5, 1.0, 'Winter black bear')"
      ]
     },
     "execution_count": 65,
     "metadata": {},
     "output_type": "execute_result"
    },
    {
     "data": {
      "image/png": "[encoded data removed]",
      "text/plain": [
       "<Figure size 936x720 with 4 Axes>"
      ]
     },
     "metadata": {
      "needs_background": "light"
     },
     "output_type": "display_data"
    }
   ],
   "source": [
    "fig,axs = plt.subplots(2,2,figsize=(13,10))\n",
    "c_xlim=(-6,3)\n",
    "c_ylim=(-3,6)\n",
    "plt.setp(axs,xlim=c_xlim,ylim=c_ylim)\n",
    "axs[0,0].scatter(b_spring_scaled[:,0],b_spring_scaled[:,1],c=y_pred_spring_b,cmap='Paired',marker='.')\n",
    "axs[0,0].set_title('Spring black bear')\n",
    "axs[0,1].scatter(b_summer_scaled[:,0],b_summer_scaled[:,1],c=y_pred_summer_b,cmap='Paired',marker='.')\n",
    "axs[0,1].set_title('Summer black bear')\n",
    "axs[1,0].scatter(b_fall_scaled[:,0],b_fall_scaled[:,1],c=y_pred_fall_b,cmap='Paired',marker='.')\n",
    "axs[1,0].set_title('Fall black bear')\n",
    "axs[1,1].set_title('Winter black bear')"
   ]
  },
  {
   "cell_type": "code",
   "execution_count": 67,
   "metadata": {},
   "outputs": [
    {
     "name": "stdout",
     "output_type": "stream",
     "text": [
      "black bear spring clus1: 2\n",
      "------------------------------------------------------------------------------\n",
      "black bear summer clus1: 6 clus2: 3\n",
      "------------------------------------------------------------------------------\n",
      "black bear fall clus1: 2\n"
     ]
    }
   ],
   "source": [
    "b_spring_clus = [b_spring_scaled[b_spring_labels==i] for i in range(realClusterNum_spring_b)]\n",
    "b_summer_clus = [b_summer_scaled[b_summer_labels == i] for i in range(realClusterNum_summer_b)]\n",
    "b_fall_clus = [b_fall_scaled[b_fall_labels==i] for i in range(realClusterNum_fall_b)]\n",
    "\n",
    "print('black bear spring clus1:',len(b_spring_clus[0]))\n",
    "print('------------------------------------------------------------------------------')\n",
    "print('black bear summer clus1:',len(b_summer_clus[0]),'clus2:',len(b_summer_clus[1]))\n",
    "print('------------------------------------------------------------------------------')\n",
    "print('black bear fall clus1:',len(b_fall_clus[0]))"
   ]
  },
  {
   "cell_type": "code",
   "execution_count": 69,
   "metadata": {},
   "outputs": [
    {
     "name": "stdout",
     "output_type": "stream",
     "text": [
      "realclusterNum_summer_r 6\n",
      "clusterNum_summer_r 7\n",
      "realclusterNum_fall_r 9\n",
      "clusterNum_fall_r 10\n",
      "realclusterNum_winter_r 7\n",
      "clusterNum_winter_r 8\n"
     ]
    }
   ],
   "source": [
    "#raccoon\n",
    "db_summer_r = DBSCAN(eps=0.55,min_samples=3).fit(r_summer_scaled)\n",
    "r_summer_labels = db_summer_r.labels_\n",
    "realClusterNum_summer_r = len(set(r_summer_labels))-(1 if -1 in r_summer_labels else 0)\n",
    "clusterNum_summer_r = len(set(r_summer_labels))\n",
    "print(\"realclusterNum_summer_r\",realClusterNum_summer_r)\n",
    "print(\"clusterNum_summer_r\",clusterNum_summer_r)\n",
    "\n",
    "db_fall_r = DBSCAN(eps=0.55,min_samples=3).fit(r_fall_scaled)\n",
    "r_fall_labels = db_fall_r.labels_\n",
    "realClusterNum_fall_r = len(set(r_fall_labels))-(1 if -1 in r_fall_labels else 0)\n",
    "clusterNum_fall_r = len(set(r_fall_labels))\n",
    "print(\"realclusterNum_fall_r\",realClusterNum_fall_r)\n",
    "print(\"clusterNum_fall_r\",clusterNum_fall_r)\n",
    "\n",
    "db_winter_r = DBSCAN(eps=0.55,min_samples=3).fit(r_winter_scaled)\n",
    "r_winter_labels = db_winter_r.labels_\n",
    "realClusterNum_winter_r = len(set(r_winter_labels))-(1 if -1 in r_winter_labels else 0)\n",
    "clusterNum_winter_r = len(set(r_winter_labels))\n",
    "print(\"realclusterNum_winter_r\",realClusterNum_winter_r)\n",
    "print(\"clusterNum_winter_r\",clusterNum_winter_r)"
   ]
  },
  {
   "cell_type": "code",
   "execution_count": 40,
   "metadata": {},
   "outputs": [],
   "source": [
    "#raccoon\n",
    "y_pred_summer_r = db_summer_r.fit_predict(r_summer_scaled)\n",
    "y_pred_fall_r= db_fall_r.fit_predict(r_fall_scaled)\n",
    "y_pred_winter_r = db_winter_r.fit_predict(r_winter_scaled)\n"
   ]
  },
  {
   "cell_type": "code",
   "execution_count": 41,
   "metadata": {
    "scrolled": false
   },
   "outputs": [
    {
     "data": {
      "text/plain": [
       "Text(0.5, 1.0, 'Winter raccoon')"
      ]
     },
     "execution_count": 41,
     "metadata": {},
     "output_type": "execute_result"
    },
    {
     "data": {
      "image/png": "[encoded data removed]",
      "text/plain": [
       "<Figure size 936x720 with 4 Axes>"
      ]
     },
     "metadata": {
      "needs_background": "light"
     },
     "output_type": "display_data"
    }
   ],
   "source": [
    "fig,axs = plt.subplots(2,2,figsize=(13,10))\n",
    "c_xlim=(-6,3)\n",
    "c_ylim=(-3,6)\n",
    "plt.setp(axs,xlim=c_xlim,ylim=c_ylim)\n",
    "axs[0,0].set_title('Spring raccoon')\n",
    "axs[0,1].scatter(r_summer_scaled[:,0],r_summer_scaled[:,1],c=y_pred_summer_r,cmap='Paired',marker='.')\n",
    "axs[0,1].set_title('Summer raccoon')\n",
    "axs[1,0].scatter(r_fall_scaled[:,0],r_fall_scaled[:,1],c=y_pred_fall_r,cmap='Paired',marker='.')\n",
    "axs[1,0].set_title('Fall raccoon')\n",
    "axs[1,1].scatter(r_winter_scaled[:,0],r_winter_scaled[:,1],c=y_pred_winter_r,cmap='Paired',marker='.')\n",
    "axs[1,1].set_title('Winter raccoon')\n"
   ]
  },
  {
   "cell_type": "code",
   "execution_count": 74,
   "metadata": {},
   "outputs": [
    {
     "name": "stdout",
     "output_type": "stream",
     "text": [
      "raccoon summer clus1: 23 clus2: 20 clus3: 3 clus4: 179 clus5: 3 clus6: 5\n",
      "------------------------------------------------------------------------------\n",
      "raccoon fall clus1: 4 clus2: 11 clus3: 20 clus4: 17 clus5: 3 clus6: 175 clus7: 15 clus8: 85 clus9: 29\n",
      "------------------------------------------------------------------------------\n",
      "raccoon winter clus1: 3 clus2: 16 clus3: 8 clus4: 4 clus5: 6 clus6: 43 clus7: 30\n"
     ]
    }
   ],
   "source": [
    "r_summer_clus = [r_summer_scaled[r_summer_labels == i] for i in range(realClusterNum_summer_r)]\n",
    "r_fall_clus = [r_fall_scaled[r_fall_labels==i] for i in range(realClusterNum_fall_r)]\n",
    "r_winter_clus = [r_winter_scaled[r_winter_labels==i] for i in range(realClusterNum_winter_r)]\n",
    "\n",
    "print('raccoon summer clus1:',len(r_summer_clus[0]),'clus2:',len(r_summer_clus[1]),'clus3:',len(r_summer_clus[2]),'clus4:',len(r_summer_clus[3]),'clus5:',len(r_summer_clus[4]),'clus6:',len(r_summer_clus[5]))\n",
    "print('------------------------------------------------------------------------------')\n",
    "print('raccoon fall clus1:',len(r_fall_clus[0]),'clus2:',len(r_fall_clus[1]),'clus3:',len(r_fall_clus[2]),'clus4:',len(r_fall_clus[3]),'clus5:',len(r_fall_clus[4]),'clus6:',len(r_fall_clus[5]),'clus7:',len(r_fall_clus[6]),'clus8:',len(r_fall_clus[7]),'clus9:',len(r_fall_clus[8]))\n",
    "print('------------------------------------------------------------------------------')\n",
    "print('raccoon winter clus1:',len(r_winter_clus[0]),'clus2:',len(r_winter_clus[1]),'clus3:',len(r_winter_clus[2]),'clus4:',len(r_winter_clus[3]),'clus5:',len(r_winter_clus[4]),'clus6:',len(r_winter_clus[5]),'clus7:',len(r_winter_clus[6]))\n"
   ]
  },
  {
   "cell_type": "code",
   "execution_count": 42,
   "metadata": {
    "scrolled": true
   },
   "outputs": [
    {
     "name": "stdout",
     "output_type": "stream",
     "text": [
      "realclusterNum_summer_cbr 12\n",
      "clusterNum_summer_cbr 13\n",
      "realclusterNum_fall_cbr 9\n",
      "clusterNum_fall_cbr 10\n",
      "realclusterNum_winter_cbr 7\n",
      "clusterNum_winter_cbr 8\n",
      "realclusterNum_spring_cbr 7\n",
      "clusterNum_spring_cbr 7\n"
     ]
    }
   ],
   "source": [
    "#cbr\n",
    "db_summer_cbr = DBSCAN(eps=0.55,min_samples=3).fit(cbr_summer_scaled)\n",
    "cbr_summer_labels = db_summer_cbr.labels_\n",
    "realClusterNum_summer_cbr = len(set(cbr_summer_labels))-(1 if -1 in cbr_summer_labels else 0)\n",
    "clusterNum_summer_cbr = len(set(cbr_summer_labels))\n",
    "print(\"realclusterNum_summer_cbr\",realClusterNum_summer_cbr)\n",
    "print(\"clusterNum_summer_cbr\",clusterNum_summer_cbr)\n",
    "\n",
    "db_fall_cbr = DBSCAN(eps=0.55,min_samples=3).fit(r_fall_scaled)\n",
    "cbr_fall_labels = db_fall_cbr.labels_\n",
    "realClusterNum_fall_cbr = len(set(cbr_fall_labels))-(1 if -1 in cbr_fall_labels else 0)\n",
    "clusterNum_fall_cbr = len(set(cbr_fall_labels))\n",
    "print(\"realclusterNum_fall_cbr\",realClusterNum_fall_cbr)\n",
    "print(\"clusterNum_fall_cbr\",clusterNum_fall_cbr)\n",
    "\n",
    "db_winter_cbr = DBSCAN(eps=0.55,min_samples=3).fit(r_winter_scaled)\n",
    "cbr_winter_labels = db_winter_cbr.labels_\n",
    "realClusterNum_winter_cbr = len(set(cbr_winter_labels))-(1 if -1 in cbr_winter_labels else 0)\n",
    "clusterNum_winter_cbr = len(set(cbr_winter_labels))\n",
    "print(\"realclusterNum_winter_cbr\",realClusterNum_winter_cbr)\n",
    "print(\"clusterNum_winter_cbr\",clusterNum_winter_cbr)\n",
    "\n",
    "db_spring_cbr= DBSCAN(eps=0.55,min_samples=3).fit(cbr_spring_scaled)\n",
    "cbr_spring_labels = db_spring_cbr.labels_\n",
    "realClusterNum_spring_cbr = len(set(cbr_spring_labels))-(1 if -1 in cbr_spring_labels else 0)\n",
    "clusterNum_spring_cbr = len(set(cbr_spring_labels))\n",
    "print(\"realclusterNum_spring_cbr\",realClusterNum_spring_cbr)\n",
    "print(\"clusterNum_spring_cbr\",clusterNum_spring_cbr)\n",
    "\n",
    "\n"
   ]
  },
  {
   "cell_type": "code",
   "execution_count": 43,
   "metadata": {},
   "outputs": [],
   "source": [
    "y_pred_summer_cbr = db_summer_cbr.fit_predict(cbr_summer_scaled)\n",
    "y_pred_fall_cbr= db_fall_cbr.fit_predict(cbr_fall_scaled)\n",
    "y_pred_winter_cbr = db_winter_cbr.fit_predict(cbr_winter_scaled)\n",
    "y_pred_spring_cbr = db_spring_cbr.fit_predict(cbr_spring_scaled)"
   ]
  },
  {
   "cell_type": "code",
   "execution_count": 44,
   "metadata": {},
   "outputs": [
    {
     "data": {
      "text/plain": [
       "Text(0.5, 1.0, 'Winter coyote,black bear,raccoon')"
      ]
     },
     "execution_count": 44,
     "metadata": {},
     "output_type": "execute_result"
    },
    {
     "data": {
      "image/png": "[encoded data removed]",
      "text/plain": [
       "<Figure size 936x720 with 4 Axes>"
      ]
     },
     "metadata": {
      "needs_background": "light"
     },
     "output_type": "display_data"
    }
   ],
   "source": [
    "fig,axs = plt.subplots(2,2,figsize=(13,10))\n",
    "c_xlim=(-6,3)\n",
    "c_ylim=(-3,6)\n",
    "plt.setp(axs,xlim=c_xlim,ylim=c_ylim)\n",
    "axs[0,0].scatter(cbr_spring_scaled[:,0],cbr_spring_scaled[:,1],c=y_pred_spring_cbr,cmap='Paired',marker='.')\n",
    "axs[0,0].set_title('Spring coyote,black bear,raccoon')\n",
    "axs[0,1].scatter(cbr_summer_scaled[:,0],cbr_summer_scaled[:,1],c=y_pred_summer_cbr,cmap='Paired',marker='.')\n",
    "axs[0,1].set_title('Summer coyote,black bear,raccoon')\n",
    "axs[1,0].scatter(cbr_fall_scaled[:,0],cbr_fall_scaled[:,1],c=y_pred_fall_cbr,cmap='Paired',marker='.')\n",
    "axs[1,0].set_title('Fall coyote,black bear,raccoon')\n",
    "axs[1,1].scatter(cbr_winter_scaled[:,0],cbr_winter_scaled[:,1],c=y_pred_winter_cbr,cmap='Paired',marker='.')\n",
    "axs[1,1].set_title('Winter coyote,black bear,raccoon')\n",
    "\n"
   ]
  },
  {
   "cell_type": "code",
   "execution_count": null,
   "metadata": {},
   "outputs": [],
   "source": []
  },
  {
   "cell_type": "code",
   "execution_count": null,
   "metadata": {},
   "outputs": [],
   "source": []
  },
  {
   "cell_type": "code",
   "execution_count": null,
   "metadata": {},
   "outputs": [],
   "source": []
  },
  {
   "cell_type": "code",
   "execution_count": null,
   "metadata": {},
   "outputs": [],
   "source": []
  },
  {
   "cell_type": "code",
   "execution_count": null,
   "metadata": {},
   "outputs": [],
   "source": []
  },
  {
   "cell_type": "code",
   "execution_count": null,
   "metadata": {},
   "outputs": [],
   "source": []
  },
  {
   "cell_type": "code",
   "execution_count": null,
   "metadata": {},
   "outputs": [],
   "source": []
  },
  {
   "cell_type": "code",
   "execution_count": null,
   "metadata": {},
   "outputs": [],
   "source": []
  },
  {
   "cell_type": "code",
   "execution_count": null,
   "metadata": {},
   "outputs": [],
   "source": []
  },
  {
   "cell_type": "code",
   "execution_count": null,
   "metadata": {},
   "outputs": [],
   "source": []
  }
 ],
 "metadata": {
  "kernelspec": {
   "display_name": "Python 3",
   "language": "python",
   "name": "python3"
  },
  "language_info": {
   "codemirror_mode": {
    "name": "ipython",
    "version": 3
   },
   "file_extension": ".py",
   "mimetype": "text/x-python",
   "name": "python",
   "nbconvert_exporter": "python",
   "pygments_lexer": "ipython3",
   "version": "3.8.5"
  }
 },
 "nbformat": 4,
 "nbformat_minor": 4
}
